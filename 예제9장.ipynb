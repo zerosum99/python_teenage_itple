{
 "cells": [
  {
   "cell_type": "code",
   "execution_count": 1,
   "metadata": {},
   "outputs": [],
   "source": [
    "a = \"Hello\"\n",
    "b = 7\n",
    "c = \"Hello, I am being held prisoner in a variable!\""
   ]
  },
  {
   "cell_type": "code",
   "execution_count": null,
   "metadata": {},
   "outputs": [],
   "source": []
  },
  {
   "cell_type": "code",
   "execution_count": 4,
   "metadata": {},
   "outputs": [],
   "source": [
    "employees = ['Big E.', 'Bloke Hogan', 'Alfredo the Butler']\n",
    "priceList = [5, 10, 20, 30, 40, 50]"
   ]
  },
  {
   "cell_type": "code",
   "execution_count": null,
   "metadata": {},
   "outputs": [],
   "source": []
  },
  {
   "cell_type": "code",
   "execution_count": 5,
   "metadata": {},
   "outputs": [
    {
     "name": "stdout",
     "output_type": "stream",
     "text": [
      "Hello\n",
      "You have this many apples:  7\n"
     ]
    }
   ],
   "source": [
    "print(a)\n",
    "print(\"You have this many apples: \", b)"
   ]
  },
  {
   "cell_type": "code",
   "execution_count": null,
   "metadata": {},
   "outputs": [],
   "source": []
  },
  {
   "cell_type": "code",
   "execution_count": 11,
   "metadata": {},
   "outputs": [
    {
     "name": "stdout",
     "output_type": "stream",
     "text": [
      "You have 7 apples!\n"
     ]
    }
   ],
   "source": [
    "print(\"You have %s apples!\" % (b))"
   ]
  },
  {
   "cell_type": "code",
   "execution_count": null,
   "metadata": {},
   "outputs": [],
   "source": []
  },
  {
   "cell_type": "code",
   "execution_count": 7,
   "metadata": {},
   "outputs": [
    {
     "name": "stdout",
     "output_type": "stream",
     "text": [
      "['Big E.', 'Bloke Hogan', 'Alfredo the Butler']\n"
     ]
    }
   ],
   "source": [
    "print(employees)"
   ]
  },
  {
   "cell_type": "code",
   "execution_count": null,
   "metadata": {},
   "outputs": [],
   "source": []
  },
  {
   "cell_type": "code",
   "execution_count": 8,
   "metadata": {},
   "outputs": [
    {
     "name": "stdout",
     "output_type": "stream",
     "text": [
      "Bloke Hogan\n"
     ]
    }
   ],
   "source": [
    "print(employees[1])"
   ]
  },
  {
   "cell_type": "code",
   "execution_count": null,
   "metadata": {},
   "outputs": [],
   "source": []
  },
  {
   "cell_type": "code",
   "execution_count": 13,
   "metadata": {},
   "outputs": [],
   "source": [
    "villains = ('Eyebrow Raiser', 'Angry Heckler', 'Not So Happy Man', 'The Heck Raiser')"
   ]
  },
  {
   "cell_type": "code",
   "execution_count": null,
   "metadata": {},
   "outputs": [],
   "source": []
  },
  {
   "cell_type": "code",
   "execution_count": 13,
   "metadata": {},
   "outputs": [
    {
     "name": "stdout",
     "output_type": "stream",
     "text": [
      "('Eyebrow Raiser', 'Angry Heckler', 'Not So Happy Man', 'The Heck Raiser')\n"
     ]
    }
   ],
   "source": [
    "print(villains)"
   ]
  },
  {
   "cell_type": "code",
   "execution_count": null,
   "metadata": {},
   "outputs": [],
   "source": []
  },
  {
   "cell_type": "code",
   "execution_count": 15,
   "metadata": {},
   "outputs": [
    {
     "name": "stdout",
     "output_type": "stream",
     "text": [
      "Eyebrow Raiser\n"
     ]
    }
   ],
   "source": [
    "print(villains[0])"
   ]
  },
  {
   "cell_type": "code",
   "execution_count": null,
   "metadata": {},
   "outputs": [],
   "source": []
  },
  {
   "cell_type": "code",
   "execution_count": 1,
   "metadata": {},
   "outputs": [
    {
     "name": "stdout",
     "output_type": "stream",
     "text": [
      "('Eyebrow Raiser', 'Angry Heckler', 'Not So Happy Man', 'The Heck Raiser')\n",
      "Eyebrow Raiser\n",
      "Angry Heckler\n",
      "Not So Happy Man\n",
      "The Heck Raiser\n",
      "The first villain is the sinister Eyebrow Raiser\n",
      "The second villain is the terrifying Angry Heckler\n"
     ]
    }
   ],
   "source": [
    "# 튜플생성\n",
    "villains = ('Eyebrow Raiser', 'Angry Heckler', 'Not So Happy Man', 'The Heck Raiser')\n",
    "print(villains)\n",
    "# 튜플내의 원소를 출력\n",
    "print(villains[0])\n",
    "print(villains[1])\n",
    "print(villains[2])\n",
    "print(villains[3])\n",
    "# 튜플의 원소를 문자열과 같이 출력\n",
    "print(\"The first villain is the sinister\", villains[0])\n",
    "print(\"The second villain is the terrifying \" + villains[1])"
   ]
  },
  {
   "cell_type": "code",
   "execution_count": null,
   "metadata": {},
   "outputs": [],
   "source": []
  },
  {
   "cell_type": "code",
   "execution_count": 18,
   "metadata": {},
   "outputs": [
    {
     "name": "stdout",
     "output_type": "stream",
     "text": [
      "('Eyebrow Raiser', 'Angry Heckler', 'Not So Happy Man')\n"
     ]
    }
   ],
   "source": [
    "print(villains[0:3])"
   ]
  },
  {
   "cell_type": "code",
   "execution_count": null,
   "metadata": {},
   "outputs": [],
   "source": []
  },
  {
   "cell_type": "code",
   "execution_count": 14,
   "metadata": {},
   "outputs": [
    {
     "data": {
      "text/plain": [
       "('Eyebrow Raiser', 'Angry Heckler', 'Not So Happy Man', 'The Heck Raiser')"
      ]
     },
     "execution_count": 14,
     "metadata": {},
     "output_type": "execute_result"
    }
   ],
   "source": [
    "villains[0:4]"
   ]
  },
  {
   "cell_type": "code",
   "execution_count": null,
   "metadata": {},
   "outputs": [],
   "source": []
  },
  {
   "cell_type": "code",
   "execution_count": 15,
   "metadata": {},
   "outputs": [
    {
     "name": "stdout",
     "output_type": "stream",
     "text": [
      "('Angry Heckler', 'Not So Happy Man', 'The Heck Raiser')\n"
     ]
    }
   ],
   "source": [
    "print(villains[1:4])"
   ]
  },
  {
   "cell_type": "code",
   "execution_count": null,
   "metadata": {},
   "outputs": [],
   "source": []
  },
  {
   "cell_type": "code",
   "execution_count": 4,
   "metadata": {},
   "outputs": [
    {
     "name": "stdout",
     "output_type": "stream",
     "text": [
      "('Purple Frilly Cape',\n",
      " 'Purple Short Cape',\n",
      " 'Purple Cape with Holes In It',\n",
      " 'Black and White Polka Dot Cape',\n",
      " 'White and Beige Polka Dot Cape',\n",
      " 'Blue Polka Dot Cape Missing the Blue Polka Dots')\n"
     ]
    }
   ],
   "source": [
    "import pprint\n",
    "\n",
    "purpleCapes = ('Purple Frilly Cape', \n",
    "               'Purple Short Cape', \n",
    "               'Purple Cape with Holes In It')\n",
    "\n",
    "polkaCapes = ('Black and White Polka Dot Cape', \n",
    "              'White and Beige Polka Dot Cape', \n",
    "              'Blue Polka Dot Cape Missing the Blue Polka Dots')\n",
    "# 튜플을 하나로 결합\n",
    "allMyCapes = (purpleCapes + polkaCapes)\n",
    "# 출력을 \n",
    "pprint.pprint(allMyCapes)"
   ]
  },
  {
   "cell_type": "code",
   "execution_count": null,
   "metadata": {},
   "outputs": [],
   "source": []
  },
  {
   "cell_type": "code",
   "execution_count": 21,
   "metadata": {},
   "outputs": [
    {
     "name": "stdout",
     "output_type": "stream",
     "text": [
      "Purple Short CapePurple Short CapePurple Short Cape\n"
     ]
    }
   ],
   "source": [
    "print(allMyCapes[1] * 3)"
   ]
  },
  {
   "cell_type": "code",
   "execution_count": null,
   "metadata": {},
   "outputs": [],
   "source": []
  },
  {
   "cell_type": "code",
   "execution_count": 2,
   "metadata": {},
   "outputs": [
    {
     "name": "stdout",
     "output_type": "stream",
     "text": [
      "1\n"
     ]
    }
   ],
   "source": [
    "# 튜플 원소 중에 최소값을 출력합니다. \n",
    "lowest_value = (1, 5, 10, 15, 20, 50, 100, 1000)\n",
    "\n",
    "print(min(lowest_value))"
   ]
  },
  {
   "cell_type": "code",
   "execution_count": null,
   "metadata": {},
   "outputs": [],
   "source": []
  },
  {
   "cell_type": "code",
   "execution_count": 3,
   "metadata": {},
   "outputs": [
    {
     "name": "stdout",
     "output_type": "stream",
     "text": [
      "1000\n"
     ]
    }
   ],
   "source": [
    "# 최대값을 출력합니다. \n",
    "highest_value = (1, 5, 10, 15, 20, 50, 100, 1000)\n",
    "\n",
    "print(max(highest_value))"
   ]
  },
  {
   "cell_type": "code",
   "execution_count": null,
   "metadata": {},
   "outputs": [],
   "source": []
  },
  {
   "cell_type": "code",
   "execution_count": 4,
   "metadata": {},
   "outputs": [
    {
     "name": "stdout",
     "output_type": "stream",
     "text": [
      "5\n"
     ]
    }
   ],
   "source": [
    "# 원소의 개수를 확인합니다 \n",
    "super_hair = ('Super Stache', 'Macho Beard', 'Gargantuan Goat-tee', \n",
    "'Villainous Toupee', 'Unfortunate Baldness')\n",
    "\n",
    "print(len(super_hair))"
   ]
  },
  {
   "cell_type": "code",
   "execution_count": null,
   "metadata": {},
   "outputs": [],
   "source": []
  },
  {
   "cell_type": "code",
   "execution_count": 5,
   "metadata": {},
   "outputs": [
    {
     "name": "stdout",
     "output_type": "stream",
     "text": [
      "['Drank All The Milk Man ',\n",
      " 'Escape Goat',\n",
      " 'Jack Hammer ',\n",
      " 'Mister Millenial ',\n",
      " 'Naughty Man ',\n",
      " 'Skid Mark ',\n",
      " 'The Spelling Bee ',\n",
      " 'Wonder Wedgie ']\n"
     ]
    }
   ],
   "source": [
    "import pprint\n",
    "# 튜플 내의 원소들을 정렬합니다.\n",
    "villains = ('Naughty Man ', 'Skid Mark ', 'Mister Millenial ', 'Jack Hammer ', \n",
    "            'The Spelling Bee ', 'Drank All The Milk Man ', 'Wonder Wedgie ', \n",
    "             'Escape Goat')\n",
    "# Print out a sorted list of our villains tuple\n",
    "pprint.pprint(sorted(villains))"
   ]
  },
  {
   "cell_type": "code",
   "execution_count": null,
   "metadata": {},
   "outputs": [],
   "source": []
  },
  {
   "cell_type": "code",
   "execution_count": 7,
   "metadata": {},
   "outputs": [
    {
     "name": "stdout",
     "output_type": "stream",
     "text": [
      "[2, 5, 10, 18, 20]\n",
      "(2, 5, 10, 18, 20)\n"
     ]
    }
   ],
   "source": [
    "# 숫자 원소들도 정렬합니다. \n",
    "numbers_sort = (10, 20, 5, 2, 18)\n",
    "\n",
    "print(sorted(numbers_sort))\n",
    "print(tuple(sorted(numbers_sort)))"
   ]
  },
  {
   "cell_type": "code",
   "execution_count": null,
   "metadata": {},
   "outputs": [],
   "source": []
  },
  {
   "cell_type": "code",
   "execution_count": 8,
   "metadata": {},
   "outputs": [
    {
     "name": "stdout",
     "output_type": "stream",
     "text": [
      "55\n"
     ]
    }
   ],
   "source": [
    "# 모든 원소를 합산하기\n",
    "numbers_sum = (10, 20, 5, 2, 18)\n",
    "\n",
    "print(sum(numbers_sum))"
   ]
  },
  {
   "cell_type": "code",
   "execution_count": null,
   "metadata": {},
   "outputs": [],
   "source": []
  },
  {
   "cell_type": "code",
   "execution_count": 9,
   "metadata": {},
   "outputs": [
    {
     "name": "stdout",
     "output_type": "stream",
     "text": [
      "('Naughty Man ',\n",
      " 'Skid Mark ',\n",
      " 'Mister Millenial ',\n",
      " 'Jack Hammer ',\n",
      " 'The Spelling Bee ',\n",
      " 'Drank All The Milk Man ',\n",
      " 'Wonder Wedgie ',\n",
      " 'Escape Goat')\n"
     ]
    }
   ],
   "source": [
    "import pprint\n",
    "# 다시 튜플로 변환하기\n",
    "villainList = ['Naughty Man ', 'Skid Mark ', 'Mister Millenial ', 'Jack Hammer ', \n",
    "               'The Spelling Bee ', 'Drank All The Milk Man ', 'Wonder Wedgie ', \n",
    "                'Escape Goat']\n",
    "\n",
    "pprint.pprint(tuple(villainList))"
   ]
  },
  {
   "cell_type": "code",
   "execution_count": null,
   "metadata": {},
   "outputs": [],
   "source": []
  },
  {
   "cell_type": "code",
   "execution_count": 14,
   "metadata": {},
   "outputs": [
    {
     "name": "stdout",
     "output_type": "stream",
     "text": [
      "('Super Stache', 'Macho Beard', 'Gargantuan Goat-tee', 'Face Mullet')\n"
     ]
    }
   ],
   "source": [
    "# 튜플을 하나 만들기\n",
    "facial_hair = ('Super Stache', 'Macho Beard', \n",
    "               'Gargantuan Goat-tee', 'Face Mullet',)\n",
    "\n",
    "\n",
    "print(facial_hair)"
   ]
  },
  {
   "cell_type": "code",
   "execution_count": null,
   "metadata": {},
   "outputs": [],
   "source": []
  },
  {
   "cell_type": "code",
   "execution_count": 15,
   "metadata": {},
   "outputs": [
    {
     "ename": "NameError",
     "evalue": "name 'facial_hair' is not defined",
     "output_type": "error",
     "traceback": [
      "\u001b[1;31m---------------------------------------------------------------------------\u001b[0m",
      "\u001b[1;31mNameError\u001b[0m                                 Traceback (most recent call last)",
      "\u001b[1;32m<ipython-input-15-62b967cc53de>\u001b[0m in \u001b[0;36m<module>\u001b[1;34m\u001b[0m\n\u001b[0;32m      2\u001b[0m \u001b[1;32mdel\u001b[0m \u001b[0mfacial_hair\u001b[0m\u001b[1;33m\u001b[0m\u001b[1;33m\u001b[0m\u001b[0m\n\u001b[0;32m      3\u001b[0m \u001b[1;31m# 변수가 없으므로 실제 조회할 수 없습니다.\u001b[0m\u001b[1;33m\u001b[0m\u001b[1;33m\u001b[0m\u001b[1;33m\u001b[0m\u001b[0m\n\u001b[1;32m----> 4\u001b[1;33m \u001b[0mprint\u001b[0m\u001b[1;33m(\u001b[0m\u001b[0mfacial_hair\u001b[0m\u001b[1;33m)\u001b[0m\u001b[1;33m\u001b[0m\u001b[1;33m\u001b[0m\u001b[0m\n\u001b[0m",
      "\u001b[1;31mNameError\u001b[0m: name 'facial_hair' is not defined"
     ]
    }
   ],
   "source": [
    "# 튜플 저장된 변수를 지운다\n",
    "del facial_hair\n",
    "# 변수가 없으므로 실제 조회할 수 없습니다.\n",
    "print(facial_hair)"
   ]
  },
  {
   "cell_type": "code",
   "execution_count": null,
   "metadata": {},
   "outputs": [],
   "source": []
  },
  {
   "cell_type": "code",
   "execution_count": 16,
   "metadata": {},
   "outputs": [
    {
     "name": "stdout",
     "output_type": "stream",
     "text": [
      "There are this many of the letter i in Missisisippi: \n",
      "5\n",
      "There are this many of the letter s in Missisisippi: \n",
      "4\n"
     ]
    }
   ],
   "source": [
    "# 문자를 원소로 튜플을 만들기\n",
    "state = ('M', \"i\", \"s\", \"s\", \"i\",\n",
    "         \"s\", \"i\", \"s\", \"i\", \"p\", \"p\", \"i\")\n",
    "# 특정 원소의 개수를 확인하기\n",
    "print(\"There are this many of the letter i in Missisisippi: \")\n",
    "print(state.count('i'))\n",
    "print(\"There are this many of the letter s in Missisisippi: \")\n",
    "print(state.count('s'))"
   ]
  },
  {
   "cell_type": "code",
   "execution_count": null,
   "metadata": {},
   "outputs": [],
   "source": []
  },
  {
   "cell_type": "code",
   "execution_count": 17,
   "metadata": {},
   "outputs": [
    {
     "name": "stdout",
     "output_type": "stream",
     "text": [
      "False\n",
      "True\n"
     ]
    }
   ],
   "source": [
    "# 특정 원소가 포함되었는지를 확인 \n",
    "state = ('M', \"i\", \"s\", \"s\", \"i\", \"s\",\n",
    "         \"i\", \"s\", \"i\", \"p\", \"p\", \"i\")\n",
    "\n",
    "print('z' in state)\n",
    "print('i' in state)\n"
   ]
  },
  {
   "cell_type": "code",
   "execution_count": null,
   "metadata": {},
   "outputs": [],
   "source": []
  },
  {
   "cell_type": "code",
   "execution_count": 18,
   "metadata": {},
   "outputs": [
    {
     "name": "stdout",
     "output_type": "stream",
     "text": [
      "('Eyebrow Raiser', 'Angry Heckler', 'Not So Happy Man', 'The Heck Raiser')\n",
      "Eyebrow Raiser\n",
      "Angry Heckler\n",
      "Not So Happy Man\n",
      "The Heck Raiser\n",
      "('Eyebrow Raiser', 'Angry Heckler', 'Not So Happy Man')\n",
      "('Angry Heckler', 'Not So Happy Man', 'The Heck Raiser')\n",
      "('Purple Frilly Cape', 'Purple Short Cape', 'Purple Cape with Holes In It', 'Black and White Polka Dot Cape', 'White and Beige Polka Dot Cape', 'Blue Polka Dot Cape Missing the Blue Polka Dots')\n",
      "Purple Short CapePurple Short CapePurple Short Cape\n",
      "1\n",
      "1000\n",
      "5\n",
      "['Drank All The Milk Man ', 'Escape Goat', 'Jack Hammer ', 'Mister Millenial ', 'Naughty Man ', 'Skid Mark ', 'The Spelling Bee ', 'Wonder Wedgie ']\n"
     ]
    }
   ],
   "source": [
    "# 튜플 내의 원소를 인덱스로 검색하기\n",
    "villains = ('Eyebrow Raiser', 'Angry Heckler', 'Not So Happy Man', 'The Heck Raiser')\n",
    "\n",
    "print(villains)\n",
    "\n",
    "print(villains[0])\n",
    "print(villains[1])\n",
    "print(villains[2])\n",
    "print(villains[3])\n",
    "\n",
    "\n",
    "# 슬라이스로 튜플의 부분 튜플을 만들기\n",
    "print(villains[0:3])\n",
    "print(villains[1:4])\n",
    "\n",
    "# 튜플에 연산자를 사용하기\n",
    "purpleCapes = ('Purple Frilly Cape', \n",
    "               'Purple Short Cape', \n",
    "               'Purple Cape with Holes In It')\n",
    "polkaCapes = ('Black and White Polka Dot Cape', \n",
    "              'White and Beige Polka Dot Cape', \n",
    "              'Blue Polka Dot Cape Missing the Blue Polka Dots')\n",
    "# 두 개의 튜플을 결합하기\n",
    "allMyCapes = (purpleCapes + polkaCapes)\n",
    "print(allMyCapes)\n",
    "# 튜플의 원소를 곱하기\n",
    "print(allMyCapes[1] * 3)\n",
    "\n",
    "# 튜플의 원소에서 최소값 최대값 구하기\n",
    "lowest_value = (1, 5, 10, 15, 20, 50, 100, 1000)\n",
    "print(min(lowest_value))\n",
    "highest_value = (1, 5, 10, 15, 20, 50, 100, 1000)\n",
    "print(max(highest_value))\n",
    "\n",
    "# 튜플의 원소 개수 확인하기\n",
    "super_hair = ('Super Stache', 'Macho Beard', 'Gargantuan Goat-tee', \n",
    "               'Villainous Toupee', 'Unfortunate Baldness')\n",
    "\n",
    "print(len(super_hair))\n",
    "\n",
    "# 튜플을 정렬하기\n",
    "villains = ('Naughty Man ', 'Skid Mark ', \n",
    "            'Mister Millenial ', 'Jack Hammer ', \n",
    "            'The Spelling Bee ', 'Drank All The Milk Man ', \n",
    "            'Wonder Wedgie ', 'Escape Goat')\n",
    "print(sorted(villains))\n"
   ]
  },
  {
   "cell_type": "code",
   "execution_count": null,
   "metadata": {},
   "outputs": [],
   "source": []
  },
  {
   "cell_type": "code",
   "execution_count": 22,
   "metadata": {},
   "outputs": [
    {
     "name": "stdout",
     "output_type": "stream",
     "text": [
      "[2, 5, 10, 18, 20]\n",
      "55\n",
      "('Naughty Man ', 'Skid Mark ', 'Mister Millenial ', 'Jack Hammer ', 'The Spelling Bee ', 'Drank All The Milk Man ', 'Wonder Wedgie ', 'Escape Goat')\n",
      "('M', 'u', 's', 't', 'a', 'c', 'h', 'e', 'd', ' ', 'M', 'e', 'n', 'a', 'c', 'e', '!')\n",
      "('Super Stache', 'Macho Beard', 'Gargantuan Goat-tee', 'Face Mullet')\n",
      "There are this many of the letter i in Missisisippi: \n",
      "5\n",
      "There are this many of the letter s in Missisisippi: \n",
      "4\n",
      "False\n",
      "True\n",
      "Naughty Man \n",
      "Skid Mark \n",
      "Mister Millenial \n",
      "Jack Hammer \n",
      "The Spelling Bee \n",
      "Drank All The Milk Man \n",
      "Wonder Wedgie \n",
      "Escape Goat\n"
     ]
    }
   ],
   "source": [
    "# 튜플의 원소 정렬하기 \n",
    "numbers_sort = (10, 20, 5, 2, 18)\n",
    "print(sorted(numbers_sort))\n",
    "\n",
    "# 튜플 원소를 합산하기\n",
    "print(sum(numbers_sum))\n",
    "\n",
    "# 리스트를 튜플로 변환하기\n",
    "villainList = ['Naughty Man ', 'Skid Mark ', 'Mister Millenial ',\n",
    "               'Jack Hammer ', 'The Spelling Bee ', 'Drank All The Milk Man ',\n",
    "               'Wonder Wedgie ', 'Escape Goat']\n",
    "print(tuple(villainList))\n",
    "\n",
    "# 문자열을 튜플로 변환하기\n",
    "villain1 = \"Mustached Menace!\"\n",
    "print(tuple(villain1))\n",
    "\n",
    "# 튜플 저장한 변수를 삭제하기 \n",
    "facial_hair = ('Super Stache', 'Macho Beard', \n",
    "               'Gargantuan Goat-tee', 'Face Mullet',)\n",
    "print(facial_hair)\n",
    "# Using del to delete a tuple entirely\n",
    "del facial_hair\n",
    "\n",
    "# 튜플 내의 원소의 개수를 확인하기\n",
    "state = ('M', \"i\", \"s\", \"s\", \"i\", \"s\", \"i\", \"s\", \"i\", \"p\", \"p\", \"i\")\n",
    "print(\"There are this many of the letter i in Missisisippi: \")\n",
    "print(state.count('i'))\n",
    "print(\"There are this many of the letter s in Missisisippi: \")\n",
    "print(state.count('s'))\n",
    "\n",
    "# 특정 원소가 포함여부 확인\n",
    "print('z' in state)\n",
    "print('i' in state)\n",
    "\n",
    "# 튜플의 원소를 하나씩 순환하면서 출력하기\n",
    "for var in villainList:\n",
    "    print(var)\n"
   ]
  },
  {
   "cell_type": "code",
   "execution_count": null,
   "metadata": {},
   "outputs": [],
   "source": []
  },
  {
   "cell_type": "code",
   "execution_count": null,
   "metadata": {},
   "outputs": [],
   "source": []
  },
  {
   "cell_type": "code",
   "execution_count": 41,
   "metadata": {},
   "outputs": [],
   "source": [
    "algebro = {'codename': 'Algebro',\n",
    "           'power': 'Mathemagics',\n",
    "           'real-name': 'Al. G. Bro.'}"
   ]
  },
  {
   "cell_type": "code",
   "execution_count": null,
   "metadata": {},
   "outputs": [],
   "source": []
  },
  {
   "cell_type": "code",
   "execution_count": 25,
   "metadata": {},
   "outputs": [
    {
     "name": "stdout",
     "output_type": "stream",
     "text": [
      "{'codename': 'Algebro', 'power': 'Mathemagics', 'real-name': 'Al. G. Bro.'}\n"
     ]
    }
   ],
   "source": [
    "# 딕셔너리를 만들고 출력하기\n",
    "algebro = {'codename': 'Algebro', 'power': 'Mathemagics', \n",
    "           'real-name': 'Al. G. Bro.'}\n",
    "\n",
    "print(algebro)"
   ]
  },
  {
   "cell_type": "code",
   "execution_count": null,
   "metadata": {},
   "outputs": [],
   "source": []
  },
  {
   "cell_type": "code",
   "execution_count": 43,
   "metadata": {},
   "outputs": [
    {
     "name": "stdout",
     "output_type": "stream",
     "text": [
      "Al. G. Bro.\n"
     ]
    }
   ],
   "source": [
    "print(algebro['real-name'])"
   ]
  },
  {
   "cell_type": "code",
   "execution_count": null,
   "metadata": {},
   "outputs": [],
   "source": []
  },
  {
   "cell_type": "code",
   "execution_count": 26,
   "metadata": {},
   "outputs": [
    {
     "name": "stdout",
     "output_type": "stream",
     "text": [
      "dict_keys(['codename', 'power', 'real-name'])\n"
     ]
    }
   ],
   "source": [
    "# 딕셔너리 내부의 키만 조회하기\n",
    "algebro = {'codename': 'Algebro', 'power': 'Mathemagics', \n",
    "           'real-name': 'Al. G. Bro.'}\n",
    "\n",
    "print(algebro.keys())"
   ]
  },
  {
   "cell_type": "code",
   "execution_count": null,
   "metadata": {},
   "outputs": [],
   "source": []
  },
  {
   "cell_type": "code",
   "execution_count": 27,
   "metadata": {},
   "outputs": [
    {
     "name": "stdout",
     "output_type": "stream",
     "text": [
      "dict_values(['Algebro', 'Mathemagics', 'Al. G. Bro.'])\n"
     ]
    }
   ],
   "source": [
    "# 딕셔너리 내부의 값만 조회하기\n",
    "print(algebro.values())"
   ]
  },
  {
   "cell_type": "code",
   "execution_count": null,
   "metadata": {},
   "outputs": [],
   "source": []
  },
  {
   "cell_type": "code",
   "execution_count": 28,
   "metadata": {},
   "outputs": [
    {
     "name": "stdout",
     "output_type": "stream",
     "text": [
      "dict_items([('codename', 'Algebro'), ('power', 'Mathemagics'), ('real-name', 'Al. G. Bro.')])\n"
     ]
    }
   ],
   "source": [
    "# 카와 값(key-value pairs)을 쌍으로 출력하기\n",
    "print(algebro.items())"
   ]
  },
  {
   "cell_type": "code",
   "execution_count": null,
   "metadata": {},
   "outputs": [],
   "source": []
  },
  {
   "cell_type": "code",
   "execution_count": 47,
   "metadata": {},
   "outputs": [
    {
     "name": "stdout",
     "output_type": "stream",
     "text": [
      "The key is:  codename  and the value is:  Algebro\n",
      "The key is:  power  and the value is:  Mathemagics\n",
      "The key is:  real-name  and the value is:  Al. G. Bro.\n"
     ]
    }
   ],
   "source": [
    "for key, value in algebro.items():\n",
    "    print(\"The key is: \", key, \" and the value is: \", value)"
   ]
  },
  {
   "cell_type": "code",
   "execution_count": null,
   "metadata": {},
   "outputs": [],
   "source": []
  },
  {
   "cell_type": "code",
   "execution_count": 29,
   "metadata": {},
   "outputs": [
    {
     "name": "stdout",
     "output_type": "stream",
     "text": [
      "{'codename': 'Algebro', 'power': 'Mathemagics', 'real-name': 'Al. G. Bro.', 'age': '42'}\n"
     ]
    }
   ],
   "source": [
    "# 딕셔너리 원소의 값을 변경하기 \n",
    "algebro = {'codename': 'Algebro', \n",
    "           'power': 'Mathemagics',\n",
    "           'real-name': 'Al. G. Bro.'}\n",
    "\n",
    "algebro['age'] = '42'\n",
    "\n",
    "print(algebro)"
   ]
  },
  {
   "cell_type": "code",
   "execution_count": null,
   "metadata": {},
   "outputs": [],
   "source": []
  },
  {
   "cell_type": "code",
   "execution_count": 30,
   "metadata": {},
   "outputs": [
    {
     "name": "stdout",
     "output_type": "stream",
     "text": [
      "{'age': 43,\n",
      " 'codename': 'Algebro',\n",
      " 'power': 'Mathemagics',\n",
      " 'real-name': 'Al. G. Bro.'}\n"
     ]
    }
   ],
   "source": [
    "import pprint\n",
    "# 특정 키의 값을 변경한다. \n",
    "algebro['age'] = 43\n",
    "\n",
    "pprint.pprint(algebro)"
   ]
  },
  {
   "cell_type": "code",
   "execution_count": null,
   "metadata": {},
   "outputs": [],
   "source": []
  },
  {
   "cell_type": "code",
   "execution_count": 31,
   "metadata": {},
   "outputs": [
    {
     "name": "stdout",
     "output_type": "stream",
     "text": [
      "{'codename': 'Algebro',\n",
      " 'power': 'Mathemagics',\n",
      " 'real-name': 'Al. G. Bro.',\n",
      " 'villainType': 'mutate'}\n"
     ]
    }
   ],
   "source": [
    "import pprint\n",
    "\n",
    "algebro = {'codename': 'Algebro', \n",
    "           'power': 'Mathemagics', \n",
    "           'real-name': 'Al. G. Bro.'}\n",
    "# 새로운 딕셔너리를 받아서 내부의 키와 값으로 추가하기\n",
    "algebro.update({'villainType': 'mutate'})\n",
    "\n",
    "pprint.pprint(algebro)\n"
   ]
  },
  {
   "cell_type": "code",
   "execution_count": null,
   "metadata": {},
   "outputs": [],
   "source": []
  },
  {
   "cell_type": "code",
   "execution_count": 32,
   "metadata": {},
   "outputs": [
    {
     "name": "stdout",
     "output_type": "stream",
     "text": [
      "{'codename': 'Algebro', 'real-name': 'Al. G. Bro.', 'villainType': 'mutate'}\n"
     ]
    }
   ],
   "source": [
    "# 특정 원소 삭제 \n",
    "del algebro['power']\n",
    "\n",
    "pprint.pprint(algebro)"
   ]
  },
  {
   "cell_type": "code",
   "execution_count": null,
   "metadata": {},
   "outputs": [],
   "source": []
  },
  {
   "cell_type": "code",
   "execution_count": 33,
   "metadata": {},
   "outputs": [
    {
     "ename": "NameError",
     "evalue": "name 'algebro' is not defined",
     "output_type": "error",
     "traceback": [
      "\u001b[1;31m---------------------------------------------------------------------------\u001b[0m",
      "\u001b[1;31mNameError\u001b[0m                                 Traceback (most recent call last)",
      "\u001b[1;32m<ipython-input-33-0f59a3b046ad>\u001b[0m in \u001b[0;36m<module>\u001b[1;34m\u001b[0m\n\u001b[0;32m      2\u001b[0m \u001b[1;32mdel\u001b[0m \u001b[0malgebro\u001b[0m\u001b[1;33m\u001b[0m\u001b[1;33m\u001b[0m\u001b[0m\n\u001b[0;32m      3\u001b[0m \u001b[1;33m\u001b[0m\u001b[0m\n\u001b[1;32m----> 4\u001b[1;33m \u001b[0mprint\u001b[0m\u001b[1;33m(\u001b[0m\u001b[0malgebro\u001b[0m\u001b[1;33m)\u001b[0m\u001b[1;33m\u001b[0m\u001b[1;33m\u001b[0m\u001b[0m\n\u001b[0m",
      "\u001b[1;31mNameError\u001b[0m: name 'algebro' is not defined"
     ]
    }
   ],
   "source": [
    "# 변수 삭제 \n",
    "del algebro\n",
    "\n",
    "print(algebro)"
   ]
  },
  {
   "cell_type": "code",
   "execution_count": null,
   "metadata": {},
   "outputs": [],
   "source": []
  },
  {
   "cell_type": "code",
   "execution_count": 34,
   "metadata": {},
   "outputs": [
    {
     "name": "stdout",
     "output_type": "stream",
     "text": [
      "{}\n"
     ]
    }
   ],
   "source": [
    "# 모든 딕셔너리 원소 삭제하기\n",
    "algebro = {'codename': 'Algebro', \n",
    "           'power': 'Mathemagics', \n",
    "           'real-name': 'Al. G. Bro.'}\n",
    "algebro.clear()\n",
    "print(algebro)"
   ]
  },
  {
   "cell_type": "code",
   "execution_count": null,
   "metadata": {},
   "outputs": [],
   "source": []
  },
  {
   "cell_type": "code",
   "execution_count": 56,
   "metadata": {},
   "outputs": [
    {
     "name": "stdout",
     "output_type": "stream",
     "text": [
      "{'codename': 'Algebro', 'power': 'Mathemagics', 'real-name': 'Al. G. Bro.'}\n",
      "Al. G. Bro.\n",
      "dict_keys(['codename', 'power', 'real-name'])\n",
      "dict_values(['Algebro', 'Mathemagics', 'Al. G. Bro.'])\n",
      "dict_items([('codename', 'Algebro'), ('power', 'Mathemagics'), ('real-name', 'Al. G. Bro.')])\n",
      "The key is:  codename  and the value is:  Algebro\n",
      "The key is:  power  and the value is:  Mathemagics\n",
      "The key is:  real-name  and the value is:  Al. G. Bro.\n",
      "{'codename': 'Algebro', 'power': 'Mathemagics', 'real-name': 'Al. G. Bro.', 'age': '42'}\n",
      "{'codename': 'Algebro', 'power': 'Mathemagics', 'real-name': 'Al. G. Bro.', 'age': 43}\n",
      "{'codename': 'Algebro', 'power': 'Mathemagics', 'real-name': 'Al. G. Bro.', 'age': 43, 'villainType': 'mutate'}\n",
      "{'codename': 'Algebro', 'real-name': 'Al. G. Bro.', 'age': 43, 'villainType': 'mutate'}\n"
     ]
    }
   ],
   "source": [
    "# Create a dictionary name algebro and fill it with key-value pairs\n",
    "algebro = {'codename': 'Algebro', 'power': 'Mathemagics', 'real-name': 'Al. G. Bro.'}\n",
    "# Print out the algebro dictionary\n",
    "print(algebro)\n",
    "# Print out just the real-name key's value\n",
    "print(algebro['real-name'])\n",
    "# Print just the keys in the algebro dictionary\n",
    "print(algebro.keys())\n",
    "# Print just the values in the algebro dictionary\n",
    "print(algebro.values())\n",
    "# Print the key-value pairs\n",
    "print(algebro.items())\n",
    "# Using a for loop to iterate through and print out our dictionary\n",
    "for key, value in algebro.items():\n",
    "     print(\"The key is: \", key, \" and the value is: \", value)\n",
    "# Add the key 'age' to the dictionary 'algebro' and assign it the value '42'\n",
    "algebro['age'] = '42'\n",
    "# Print out algebro to show the newly added key-value pair\n",
    "print(algebro)\n",
    "# Updating a the value for our 'age' key\n",
    "algebro['age'] = 43\n",
    "# Printing the algebro dictionary to see the updated value of the 'age' key\n",
    "print(algebro)\n",
    "# Using dict.update() to add a key-pair value to our 'algebro' dictionary\n",
    "# Note the use of curly braces {}, mixed with parentheses ()\n",
    "algebro.update({'villainType': 'mutate'})\n",
    "# Printing out the results\n",
    "print(algebro)\n",
    "# Using the del keyword to delete a key-value pair\n",
    "del algebro['power']\n",
    "# Printing algebro to verify that we properly removed the key-value pair\n",
    "print(algebro)\n"
   ]
  },
  {
   "cell_type": "code",
   "execution_count": 58,
   "metadata": {},
   "outputs": [
    {
     "name": "stdout",
     "output_type": "stream",
     "text": [
      "{}\n"
     ]
    }
   ],
   "source": [
    "########################################################\n",
    "# This section of code is commented out because it will cause everything error\n",
    "# Deleting the algebro dictionary using the del keyword\n",
    "# del algebro\n",
    "# Printing the deleted algebro, which results in an error\n",
    "# This occurs because algebro no longer exists\n",
    "#print(algebro)\n",
    "################################################\n",
    "# Create a dictionary name algebro and fill it with key-value pairs\n",
    "algebro = {'codename': 'Algebro', 'power': 'Mathemagics', 'real-name': 'Al. G. Bro.'}\n",
    "algebro.clear()\n",
    "print(algebro)\n"
   ]
  },
  {
   "cell_type": "code",
   "execution_count": null,
   "metadata": {},
   "outputs": [],
   "source": []
  },
  {
   "cell_type": "code",
   "execution_count": 7,
   "metadata": {},
   "outputs": [],
   "source": [
    "key = list('abcde')\n",
    "value = [x for x in range(5)]"
   ]
  },
  {
   "cell_type": "code",
   "execution_count": null,
   "metadata": {},
   "outputs": [],
   "source": []
  },
  {
   "cell_type": "code",
   "execution_count": 8,
   "metadata": {},
   "outputs": [],
   "source": [
    "dd = { k : v for k,v in zip(key, value)}"
   ]
  },
  {
   "cell_type": "code",
   "execution_count": 9,
   "metadata": {},
   "outputs": [
    {
     "data": {
      "text/plain": [
       "{'a': 0, 'b': 1, 'c': 2, 'd': 3, 'e': 4}"
      ]
     },
     "execution_count": 9,
     "metadata": {},
     "output_type": "execute_result"
    }
   ],
   "source": [
    "dd"
   ]
  },
  {
   "cell_type": "code",
   "execution_count": 10,
   "metadata": {},
   "outputs": [
    {
     "name": "stdout",
     "output_type": "stream",
     "text": [
      "<class 'dict'>\n"
     ]
    }
   ],
   "source": [
    "print(type(dd))"
   ]
  },
  {
   "cell_type": "code",
   "execution_count": null,
   "metadata": {},
   "outputs": [],
   "source": []
  },
  {
   "cell_type": "code",
   "execution_count": 11,
   "metadata": {},
   "outputs": [],
   "source": [
    "dd_ = {}\n",
    "for t in zip(key, value) :\n",
    "    dd_.update(dict([t]))"
   ]
  },
  {
   "cell_type": "code",
   "execution_count": 12,
   "metadata": {},
   "outputs": [
    {
     "data": {
      "text/plain": [
       "{'a': 0, 'b': 1, 'c': 2, 'd': 3, 'e': 4}"
      ]
     },
     "execution_count": 12,
     "metadata": {},
     "output_type": "execute_result"
    }
   ],
   "source": [
    "dd_"
   ]
  },
  {
   "cell_type": "code",
   "execution_count": null,
   "metadata": {},
   "outputs": [],
   "source": []
  },
  {
   "cell_type": "code",
   "execution_count": 1,
   "metadata": {},
   "outputs": [],
   "source": [
    "s = set()"
   ]
  },
  {
   "cell_type": "code",
   "execution_count": 6,
   "metadata": {},
   "outputs": [
    {
     "data": {
      "text/plain": [
       "set()"
      ]
     },
     "execution_count": 6,
     "metadata": {},
     "output_type": "execute_result"
    }
   ],
   "source": [
    "s"
   ]
  },
  {
   "cell_type": "code",
   "execution_count": 7,
   "metadata": {},
   "outputs": [],
   "source": [
    "f =frozenset()"
   ]
  },
  {
   "cell_type": "code",
   "execution_count": 8,
   "metadata": {},
   "outputs": [
    {
     "data": {
      "text/plain": [
       "frozenset()"
      ]
     },
     "execution_count": 8,
     "metadata": {},
     "output_type": "execute_result"
    }
   ],
   "source": [
    "f"
   ]
  },
  {
   "cell_type": "code",
   "execution_count": null,
   "metadata": {},
   "outputs": [],
   "source": []
  },
  {
   "cell_type": "code",
   "execution_count": 11,
   "metadata": {},
   "outputs": [],
   "source": [
    "s_1 = {1,2,3,4,5,6}\n",
    "s_2 = {2,4,6}"
   ]
  },
  {
   "cell_type": "code",
   "execution_count": 12,
   "metadata": {},
   "outputs": [
    {
     "data": {
      "text/plain": [
       "{2, 4, 6}"
      ]
     },
     "execution_count": 12,
     "metadata": {},
     "output_type": "execute_result"
    }
   ],
   "source": [
    "s_1 & s_2"
   ]
  },
  {
   "cell_type": "code",
   "execution_count": 13,
   "metadata": {},
   "outputs": [
    {
     "data": {
      "text/plain": [
       "{2, 4, 6}"
      ]
     },
     "execution_count": 13,
     "metadata": {},
     "output_type": "execute_result"
    }
   ],
   "source": [
    "s_1.intersection(s_2)"
   ]
  },
  {
   "cell_type": "code",
   "execution_count": null,
   "metadata": {},
   "outputs": [],
   "source": []
  },
  {
   "cell_type": "code",
   "execution_count": 14,
   "metadata": {},
   "outputs": [],
   "source": [
    "f_1 = frozenset({1,2,3,4,5,6})\n",
    "f_2 = frozenset({2,4,6})"
   ]
  },
  {
   "cell_type": "code",
   "execution_count": 15,
   "metadata": {},
   "outputs": [
    {
     "data": {
      "text/plain": [
       "frozenset({2, 4, 6})"
      ]
     },
     "execution_count": 15,
     "metadata": {},
     "output_type": "execute_result"
    }
   ],
   "source": [
    "f_1 & f_2"
   ]
  },
  {
   "cell_type": "code",
   "execution_count": 16,
   "metadata": {},
   "outputs": [
    {
     "data": {
      "text/plain": [
       "frozenset({2, 4, 6})"
      ]
     },
     "execution_count": 16,
     "metadata": {},
     "output_type": "execute_result"
    }
   ],
   "source": [
    "f_1.intersection(f_2)"
   ]
  },
  {
   "cell_type": "code",
   "execution_count": null,
   "metadata": {},
   "outputs": [],
   "source": []
  },
  {
   "cell_type": "code",
   "execution_count": 17,
   "metadata": {},
   "outputs": [],
   "source": [
    "s_c = { x for x in range(10)}"
   ]
  },
  {
   "cell_type": "code",
   "execution_count": 18,
   "metadata": {},
   "outputs": [
    {
     "data": {
      "text/plain": [
       "{0, 1, 2, 3, 4, 5, 6, 7, 8, 9}"
      ]
     },
     "execution_count": 18,
     "metadata": {},
     "output_type": "execute_result"
    }
   ],
   "source": [
    "s_c"
   ]
  },
  {
   "cell_type": "code",
   "execution_count": null,
   "metadata": {},
   "outputs": [],
   "source": []
  },
  {
   "cell_type": "code",
   "execution_count": null,
   "metadata": {},
   "outputs": [],
   "source": []
  },
  {
   "cell_type": "code",
   "execution_count": 17,
   "metadata": {},
   "outputs": [],
   "source": [
    "villains = ('Eyebrow Raiser', 'Angry Heckler', 'Not So Happy Man', 'The Heck Raiser')"
   ]
  },
  {
   "cell_type": "code",
   "execution_count": null,
   "metadata": {},
   "outputs": [],
   "source": []
  },
  {
   "cell_type": "code",
   "execution_count": 18,
   "metadata": {},
   "outputs": [],
   "source": [
    "algebro = {'codename': 'Algebro', \n",
    "           'power': 'Mathemagics', \n",
    "           'real￾name': 'Al. G. Bro.'}"
   ]
  },
  {
   "cell_type": "code",
   "execution_count": null,
   "metadata": {},
   "outputs": [],
   "source": []
  },
  {
   "cell_type": "code",
   "execution_count": null,
   "metadata": {},
   "outputs": [],
   "source": []
  },
  {
   "cell_type": "code",
   "execution_count": null,
   "metadata": {},
   "outputs": [],
   "source": []
  },
  {
   "cell_type": "code",
   "execution_count": null,
   "metadata": {},
   "outputs": [],
   "source": []
  },
  {
   "cell_type": "code",
   "execution_count": null,
   "metadata": {},
   "outputs": [],
   "source": []
  },
  {
   "cell_type": "code",
   "execution_count": null,
   "metadata": {},
   "outputs": [],
   "source": []
  }
 ],
 "metadata": {
  "kernelspec": {
   "display_name": "Python 3",
   "language": "python",
   "name": "python3"
  },
  "language_info": {
   "codemirror_mode": {
    "name": "ipython",
    "version": 3
   },
   "file_extension": ".py",
   "mimetype": "text/x-python",
   "name": "python",
   "nbconvert_exporter": "python",
   "pygments_lexer": "ipython3",
   "version": "3.7.7"
  }
 },
 "nbformat": 4,
 "nbformat_minor": 4
}
