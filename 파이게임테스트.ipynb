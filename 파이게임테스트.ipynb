{
 "cells": [
  {
   "cell_type": "markdown",
   "metadata": {},
   "source": [
    "## 참조자료\n",
    "\n",
    "https://kkamikoon.tistory.com/132"
   ]
  },
  {
   "cell_type": "code",
   "execution_count": 1,
   "metadata": {},
   "outputs": [
    {
     "name": "stdout",
     "output_type": "stream",
     "text": [
      "pygame 1.9.6\n",
      "Hello from the pygame community. https://www.pygame.org/contribute.html\n"
     ]
    },
    {
     "ename": "SystemExit",
     "evalue": "",
     "output_type": "error",
     "traceback": [
      "An exception has occurred, use %tb to see the full traceback.\n",
      "\u001b[1;31mSystemExit\u001b[0m\n"
     ]
    },
    {
     "name": "stderr",
     "output_type": "stream",
     "text": [
      "C:\\Users\\dahlmoon\\Anaconda3\\lib\\site-packages\\IPython\\core\\interactiveshell.py:3339: UserWarning: To exit: use 'exit', 'quit', or Ctrl-D.\n",
      "  warn(\"To exit: use 'exit', 'quit', or Ctrl-D.\", stacklevel=1)\n"
     ]
    }
   ],
   "source": [
    "import pygame\n",
    "import sys\n",
    "\n",
    "SCREEN_WIDTH = 640\n",
    "SCREEN_HEIGHT = 480\n",
    "\n",
    "white = (255, 255, 255)\n",
    "black = (0, 0, 0)\n",
    "\n",
    "pygame.init()\n",
    "pygame.display.set_caption(\"Simple PyGame Example\")\n",
    "screen = pygame.display.set_mode((SCREEN_WIDTH, SCREEN_HEIGHT))\n",
    "\n",
    "pos_x = 200\n",
    "pos_y = 200\n",
    "\n",
    "clock = pygame.time.Clock()\n",
    "while True:\n",
    "    clock.tick(60)\n",
    "    for event in pygame.event.get():\n",
    "        if event.type == pygame.QUIT:\n",
    "            sys.exit()\n",
    "\n",
    "    key_event = pygame.key.get_pressed()\n",
    "    if key_event[pygame.K_LEFT]:\n",
    "        pos_x -= 1\n",
    "\n",
    "    if key_event[pygame.K_RIGHT]:\n",
    "        pos_x += 1\n",
    "\n",
    "    if key_event[pygame.K_UP]:\n",
    "        pos_y -= 1\n",
    "\n",
    "    if key_event[pygame.K_DOWN]:\n",
    "        pos_y += 1\n",
    "\n",
    "    screen.fill(black)\n",
    "    pygame.draw.circle(screen, white, (pos_x, pos_y), 20)\n",
    "    pygame.display.update()"
   ]
  },
  {
   "cell_type": "code",
   "execution_count": null,
   "metadata": {},
   "outputs": [],
   "source": []
  },
  {
   "cell_type": "code",
   "execution_count": 1,
   "metadata": {},
   "outputs": [
    {
     "name": "stdout",
     "output_type": "stream",
     "text": [
      "pygame 1.9.6\n",
      "Hello from the pygame community. https://www.pygame.org/contribute.html\n"
     ]
    },
    {
     "ename": "SystemExit",
     "evalue": "",
     "output_type": "error",
     "traceback": [
      "An exception has occurred, use %tb to see the full traceback.\n",
      "\u001b[1;31mSystemExit\u001b[0m\n"
     ]
    },
    {
     "name": "stderr",
     "output_type": "stream",
     "text": [
      "C:\\Users\\dahlmoon\\Anaconda3\\lib\\site-packages\\IPython\\core\\interactiveshell.py:3339: UserWarning: To exit: use 'exit', 'quit', or Ctrl-D.\n",
      "  warn(\"To exit: use 'exit', 'quit', or Ctrl-D.\", stacklevel=1)\n"
     ]
    }
   ],
   "source": [
    "import pygame\n",
    "from pygame.locals import *\n",
    "import sys\n",
    "import random\n",
    "# Creating a tuple to hold the RGB (Red, Green Blue) values\n",
    "# So that we can paint our screen blue later\n",
    "# And our text red\n",
    "colorBLUE = (0, 0, 255)\n",
    "colorRED = (255, 0, 0)\n",
    "colorPINK = (255,200,200)\n",
    "colorGREEN = (0,255,0)\n",
    "colorBLACK = (0,0,0)\n",
    "colorWHITE = (255,255,255)\n",
    "colorYELLOW = (255,255,0)\n",
    "# Initialize all of the Pygame modules so we can use them later on\n",
    "pygame.init()\n",
    "# Create the game screen and set it to 800 x 600 pixels\n",
    "screen = pygame.display.set_mode((800, 600), 0, 32)\n",
    "# Set a caption to our window\n",
    "pygame.display.set_caption(\"Super Sidekick: Sophie the Bulldog!\")\n",
    "# Draw a blue background onto our screen/window\n",
    "screen.fill(colorBLUE)\n",
    "# Prepare our font for text\n",
    "myFont = pygame.font.SysFont('None', 40)\n",
    "# Create a text object\n",
    "firstText = myFont.render(\"Sophie The Bulldog\", True, colorRED, colorBLUE)\n",
    "# Create the surface to write our text onto and its position\n",
    "firstTextRect = firstText.get_rect()\n",
    "firstTextRect.left = 100\n",
    "firstTextRect.top = 75\n",
    "# blit our text to the window\n",
    "screen.blit(firstText, firstTextRect)\n",
    "# Create a surface to hold our image\n",
    "sidekick = pygame.Rect(100,100, 200, 200)\n",
    "# create an object to load our image into\n",
    "sophie = pygame.image.load('./이미지/SophieTheBullDog.jpg')\n",
    "# Resize our image so it fits the surface we are going to\n",
    "# blit or paint our image onto\n",
    "thumbnail_sophie = pygame.transform.scale(sophie, (200,200))\n",
    "# blit or paint the image to the screen\n",
    "screen.blit(thumbnail_sophie, sidekick)\n",
    "# Drawing shapes\n",
    "pygame.draw.circle(screen, colorRED, (330, 475), 15, 1)\n",
    "pygame.draw.circle(screen, colorYELLOW, (375, 475), 15, 15)\n",
    "pygame.draw.circle(screen, colorPINK, (420, 475), 20, 10)\n",
    "pygame.draw.rect(screen, colorYELLOW, (455, 470, 20, 20), 4)\n",
    "pygame.draw.line(screen, colorRED, (300, 500), (500,500),1)\n",
    "pygame.draw.line(screen, colorYELLOW, (300, 515), (500,515),1)\n",
    "pygame.draw.line(screen, colorRED, (300, 530), (500,530),1)\n",
    "# Draw the now blue window to the screen\n",
    "pygame.display.update()\n",
    "# Create a variable to hold the value of whether\n",
    "# The game should end or not\n",
    "running = True\n",
    "# Create a loop that will keep the game running\n",
    "# Until the user decides to quit\n",
    "# When they do, it will change the value of running\n",
    "# To False, ending the game\n",
    "while True:\n",
    "# Get feedback from the player in the form of events\n",
    "    for event in pygame.event.get():\n",
    "        # If the player clicks the red 'x', it is considered a quit event\n",
    "        if event.type == QUIT:\n",
    "            pygame.quit()\n",
    "            sys.exit()\n",
    " \n",
    "        if event.type == pygame.KEYDOWN:\n",
    "            if event.key == pygame.K_q:   ## 키보드 q  입력\n",
    "                pygame.quit()\n",
    "                sys.exit()\n"
   ]
  },
  {
   "cell_type": "code",
   "execution_count": null,
   "metadata": {},
   "outputs": [],
   "source": []
  },
  {
   "cell_type": "code",
   "execution_count": null,
   "metadata": {},
   "outputs": [],
   "source": []
  }
 ],
 "metadata": {
  "kernelspec": {
   "display_name": "Python 3",
   "language": "python",
   "name": "python3"
  },
  "language_info": {
   "codemirror_mode": {
    "name": "ipython",
    "version": 3
   },
   "file_extension": ".py",
   "mimetype": "text/x-python",
   "name": "python",
   "nbconvert_exporter": "python",
   "pygments_lexer": "ipython3",
   "version": "3.7.7"
  }
 },
 "nbformat": 4,
 "nbformat_minor": 4
}
