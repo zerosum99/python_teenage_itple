{
 "cells": [
  {
   "cell_type": "code",
   "execution_count": null,
   "metadata": {},
   "outputs": [],
   "source": []
  },
  {
   "cell_type": "code",
   "execution_count": null,
   "metadata": {},
   "outputs": [],
   "source": []
  },
  {
   "cell_type": "code",
   "execution_count": null,
   "metadata": {},
   "outputs": [],
   "source": []
  },
  {
   "cell_type": "code",
   "execution_count": 1,
   "metadata": {},
   "outputs": [
    {
     "name": "stdout",
     "output_type": "stream",
     "text": [
      "하늘을 올려봐! 새일까? 비행기일까?\n",
      "둥 둥 둥 둥 둥 둥 둥 둥 둥\n",
      "아니, 이 멍청아. 그건 그냥 잠옷을 입고 날아다니는 어떤 남자야. 이제 일하러 가!!\n"
     ]
    }
   ],
   "source": [
    "print(\"하늘을 올려봐! 새일까? 비행기일까?\")\n",
    "print(\"둥 둥 둥 둥 둥 둥 둥 둥 둥\")\n",
    "print(\"아니, 이 멍청아. 그건 그냥 잠옷을 입고 날아다니는 어떤 남자야. 이제 일하러 가자!!\")"
   ]
  },
  {
   "cell_type": "code",
   "execution_count": null,
   "metadata": {},
   "outputs": [],
   "source": []
  }
 ],
 "metadata": {
  "kernelspec": {
   "display_name": "Python 3",
   "language": "python",
   "name": "python3"
  },
  "language_info": {
   "codemirror_mode": {
    "name": "ipython",
    "version": 3
   },
   "file_extension": ".py",
   "mimetype": "text/x-python",
   "name": "python",
   "nbconvert_exporter": "python",
   "pygments_lexer": "ipython3",
   "version": "3.7.7"
  }
 },
 "nbformat": 4,
 "nbformat_minor": 4
}
