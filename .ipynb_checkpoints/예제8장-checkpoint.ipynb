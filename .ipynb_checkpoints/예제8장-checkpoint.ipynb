{
 "cells": [
  {
   "cell_type": "code",
   "execution_count": null,
   "metadata": {},
   "outputs": [],
   "source": []
  },
  {
   "cell_type": "code",
   "execution_count": 1,
   "metadata": {},
   "outputs": [],
   "source": [
    "class Superhero():\n",
    "    pass\n",
    "    #(코드를 입력한다 )\n",
    "    #(더 많은 코드를 입력한다)\n"
   ]
  },
  {
   "cell_type": "code",
   "execution_count": null,
   "metadata": {},
   "outputs": [],
   "source": []
  },
  {
   "cell_type": "code",
   "execution_count": 2,
   "metadata": {},
   "outputs": [],
   "source": [
    "class AmericanSuperHero(): \n",
    "    pass\n",
    "    #(코드를 입력한다 )\n",
    "    #(더 많은 코드를 입력한다)\n"
   ]
  },
  {
   "cell_type": "code",
   "execution_count": null,
   "metadata": {},
   "outputs": [],
   "source": []
  },
  {
   "cell_type": "code",
   "execution_count": 3,
   "metadata": {},
   "outputs": [
    {
     "ename": "SyntaxError",
     "evalue": "unexpected EOF while parsing (<ipython-input-3-1ae07f7c7e9a>, line 4)",
     "output_type": "error",
     "traceback": [
      "\u001b[1;36m  File \u001b[1;32m\"<ipython-input-3-1ae07f7c7e9a>\"\u001b[1;36m, line \u001b[1;32m4\u001b[0m\n\u001b[1;33m    #(더 많은 코드를 입력한다)\u001b[0m\n\u001b[1;37m                    ^\u001b[0m\n\u001b[1;31mSyntaxError\u001b[0m\u001b[1;31m:\u001b[0m unexpected EOF while parsing\n"
     ]
    }
   ],
   "source": [
    "class AmericanSuperHero(): \n",
    "    \n",
    "     #(코드를 입력한다 )\n",
    "    #(더 많은 코드를 입력한다)"
   ]
  },
  {
   "cell_type": "code",
   "execution_count": null,
   "metadata": {},
   "outputs": [],
   "source": []
  },
  {
   "cell_type": "code",
   "execution_count": null,
   "metadata": {},
   "outputs": [],
   "source": []
  },
  {
   "cell_type": "code",
   "execution_count": null,
   "metadata": {},
   "outputs": [],
   "source": []
  },
  {
   "cell_type": "code",
   "execution_count": 2,
   "metadata": {},
   "outputs": [],
   "source": [
    "class Superhero():\n",
    " \n",
    "    def fly(self):\n",
    "        print(\"Look at me, I'm so fly!\")\n"
   ]
  },
  {
   "cell_type": "code",
   "execution_count": null,
   "metadata": {},
   "outputs": [],
   "source": []
  },
  {
   "cell_type": "code",
   "execution_count": 3,
   "metadata": {},
   "outputs": [],
   "source": [
    "class Superhero():\n",
    " \n",
    "    def fly(self):\n",
    "        print(\"Look at me, I'm so fly!\")\n",
    " \n",
    "    def hotDog(self):\n",
    "        print(\"I sure do like hot dogs!\")\n"
   ]
  },
  {
   "cell_type": "code",
   "execution_count": null,
   "metadata": {},
   "outputs": [],
   "source": []
  },
  {
   "cell_type": "code",
   "execution_count": 4,
   "metadata": {},
   "outputs": [],
   "source": [
    "HotDogMan = Superhero()"
   ]
  },
  {
   "cell_type": "code",
   "execution_count": null,
   "metadata": {},
   "outputs": [],
   "source": []
  },
  {
   "cell_type": "code",
   "execution_count": 5,
   "metadata": {},
   "outputs": [
    {
     "name": "stdout",
     "output_type": "stream",
     "text": [
      "Look at me, I'm so fly!\n",
      "I sure do like hot dogs!\n"
     ]
    }
   ],
   "source": [
    "HotDogMan.fly()\n",
    "HotDogMan.hotDog()"
   ]
  },
  {
   "cell_type": "code",
   "execution_count": null,
   "metadata": {},
   "outputs": [],
   "source": []
  },
  {
   "cell_type": "code",
   "execution_count": 6,
   "metadata": {},
   "outputs": [
    {
     "name": "stdout",
     "output_type": "stream",
     "text": [
      "Look at me, I'm so fly!\n",
      "I sure do like hot dogs!\n"
     ]
    }
   ],
   "source": [
    "class Superhero():\n",
    " \n",
    "    def fly(self):\n",
    "        print(\"Look at me, I'm so fly!\")\n",
    "  \n",
    "    def hotDog(self):\n",
    "        print(\"I sure do like hot dogs!\")\n",
    "\n",
    "        \n",
    "HotDogMan = Superhero()\n",
    "HotDogMan.fly()\n",
    "HotDogMan.hotDog()\n"
   ]
  },
  {
   "cell_type": "code",
   "execution_count": null,
   "metadata": {},
   "outputs": [],
   "source": []
  },
  {
   "cell_type": "code",
   "execution_count": 7,
   "metadata": {},
   "outputs": [
    {
     "name": "stdout",
     "output_type": "stream",
     "text": [
      "Overwriting SuperHeroClass.py\n"
     ]
    }
   ],
   "source": [
    "%%writefile SuperHeroClass.py\n",
    "\n",
    "import random\n",
    "\n",
    "# 클래스를 정의한다.\n",
    "class Superhero():\n",
    " \n",
    "    # 객체가 만들어질 때 속성을 초기화한다.\n",
    "    def __init__(self):\n",
    "        self.superName = \" \"\n",
    "        self.power = \" \"\n",
    "        self.braun = braun\n",
    "        self.brains = brains\n",
    "        self.stamina = stamina\n",
    "        self.wisdom = wisdom\n",
    "        self.constitution = constitution\n",
    "        self.dexterity = dexterity\n",
    "        self.speed = speed\n",
    "\n",
    "# 변수에  1부터 20사이의 값을 무작위로 선택한다.\n",
    "braun = random.randint(1,20)\n",
    "brains = random.randint(1,20)\n",
    "stamina = random.randint(1,20)\n",
    "wisdom = random.randint(1,20)\n",
    "constitution = random.randint(1,20)\n",
    "dexterity = random.randint(1,20)\n",
    "speed = random.randint(1,20)"
   ]
  },
  {
   "cell_type": "code",
   "execution_count": null,
   "metadata": {},
   "outputs": [],
   "source": []
  },
  {
   "cell_type": "code",
   "execution_count": null,
   "metadata": {},
   "outputs": [],
   "source": [
    "# 클래스를 정의한다.\n",
    "class Superhero():\n",
    " \n",
    "    # 객체가 만들어질 때 속성을 초기화한다.\n",
    "    def __init__(self):\n",
    "        self.superName = \" \"\n",
    "        self.power = \" \"\n",
    "        self.braun = braun\n",
    "        self.brains = brains\n",
    "        self.stamina = stamina\n",
    "        self.wisdom = wisdom\n",
    "        self.constitution = constitution\n",
    "        self.dexterity = dexterity\n",
    "        self.speed = speed"
   ]
  },
  {
   "cell_type": "code",
   "execution_count": null,
   "metadata": {},
   "outputs": [],
   "source": []
  },
  {
   "cell_type": "code",
   "execution_count": 8,
   "metadata": {},
   "outputs": [
    {
     "ename": "NameError",
     "evalue": "name 'brains' is not defined",
     "output_type": "error",
     "traceback": [
      "\u001b[0;31m---------------------------------------------------------------------------\u001b[0m",
      "\u001b[0;31mNameError\u001b[0m                                 Traceback (most recent call last)",
      "\u001b[0;32m<ipython-input-8-5f740b9e2df6>\u001b[0m in \u001b[0;36m<module>\u001b[0;34m\u001b[0m\n\u001b[0;32m----> 1\u001b[0;31m \u001b[0mself\u001b[0m\u001b[0;34m.\u001b[0m\u001b[0mbrains\u001b[0m \u001b[0;34m=\u001b[0m \u001b[0mbrains\u001b[0m\u001b[0;34m\u001b[0m\u001b[0;34m\u001b[0m\u001b[0m\n\u001b[0m",
      "\u001b[0;31mNameError\u001b[0m: name 'brains' is not defined"
     ]
    }
   ],
   "source": [
    "self.brains = brains"
   ]
  },
  {
   "cell_type": "code",
   "execution_count": null,
   "metadata": {},
   "outputs": [],
   "source": [
    "braun = random.randint(1,20)\n"
   ]
  },
  {
   "cell_type": "code",
   "execution_count": null,
   "metadata": {},
   "outputs": [],
   "source": []
  },
  {
   "cell_type": "code",
   "execution_count": 1,
   "metadata": {},
   "outputs": [
    {
     "name": "stdout",
     "output_type": "stream",
     "text": [
      "Overwriting SuperHeroClass.py\n"
     ]
    }
   ],
   "source": [
    "%%writefile SuperHeroClass.py\n",
    "\n",
    "import random\n",
    "\n",
    "class Superhero():\n",
    "    def __init__(self):\n",
    "        self.superName = \" \"\n",
    "        self.power = \" \"\n",
    "        self.braun = braun\n",
    "        self.brains = brains\n",
    "        self.stamina = stamina\n",
    "        self.wisdom = wisdom\n",
    "        self.constitution = constitution\n",
    "        self.dexterity = dexterity\n",
    "        self.speed = speed\n",
    "\n",
    "braun = random.randint(1,20)\n",
    "brains = random.randint(1,20)\n",
    "stamina = random.randint(1,20)\n",
    "wisdom = random.randint(1,20)\n",
    "constitution = random.randint(1,20)\n",
    "dexterity = random.randint(1,20)\n",
    "speed = random.randint(1,20)\n",
    "\n",
    "print(\"Please enter your super hero name: \")\n",
    "\n",
    "# 객체를 하나 만들고 변수에 할당한다.\n",
    "hero = Superhero()\n",
    "\n",
    "# 슈퍼 영웅의 이름을 입력한다. \n",
    "hero.superName = input('>')\n",
    "\n",
    "# 슈퍼 영웅의 상태를 출력한다. \n",
    "print(\" 슈퍼 영웅의 이름은  %s.\" % (hero.superName))\n",
    "print(\" 슈퍼 영웅의 상태 :\")\n",
    "print(\"\")\n",
    "print(\" 지능 : \", hero.brains)\n",
    "print(\" 용맹함: \", hero.braun)\n",
    "print(\" 체력: \", hero.stamina)\n",
    "print(\" 지혜 : \", hero.wisdom)\n",
    "print(\" 체질 : \", hero.constitution)\n",
    "print(\" 재치 : \", hero.dexterity)\n",
    "print(\" 속도 : \", hero.speed)\n",
    "print(\"\")"
   ]
  },
  {
   "cell_type": "code",
   "execution_count": null,
   "metadata": {},
   "outputs": [],
   "source": []
  },
  {
   "cell_type": "code",
   "execution_count": null,
   "metadata": {},
   "outputs": [],
   "source": [
    "#  특정 문자열을 키보드로 입력을 받는다. \n",
    "superName = input('>')"
   ]
  },
  {
   "cell_type": "code",
   "execution_count": null,
   "metadata": {},
   "outputs": [],
   "source": []
  },
  {
   "cell_type": "code",
   "execution_count": null,
   "metadata": {},
   "outputs": [],
   "source": [
    "print(\" 지능 : \", hero.brains)"
   ]
  },
  {
   "cell_type": "code",
   "execution_count": null,
   "metadata": {},
   "outputs": [],
   "source": []
  },
  {
   "cell_type": "code",
   "execution_count": 2,
   "metadata": {},
   "outputs": [
    {
     "name": "stdout",
     "output_type": "stream",
     "text": [
      "Please enter your super hero name: \n",
      ">슈퍼영웅\n",
      " 슈퍼 영웅의 이름은  슈퍼영웅.\n",
      " 슈퍼 영웅의 상태 :\n",
      "\n",
      "지능 :  10\n",
      " 용맹함:  10\n",
      " 체력:  8\n",
      " 지혜 :  2\n",
      " 체질 :  19\n",
      " 재치 :  1\n",
      " 속도 :  16\n",
      "\n"
     ]
    }
   ],
   "source": [
    "%run SuperHeroClass.py"
   ]
  },
  {
   "cell_type": "code",
   "execution_count": null,
   "metadata": {},
   "outputs": [],
   "source": []
  },
  {
   "cell_type": "code",
   "execution_count": null,
   "metadata": {},
   "outputs": [],
   "source": [
    "#  슈퍼 파워를 리스트로 만들어서 변수에 할당한다. \n",
    "superPowers = ['Flying', 'Super Strength', 'Telepathy', 'Super Speed', \n",
    "               'Can Eat a Lot of Hot Dogs', 'Good At Skipping Rope']\n",
    "# 임의로 하나의 슈퍼 파워를 리스트에서 선택한다.\n",
    "power = random.choice(superPowers)\n",
    "\n",
    "# 슈퍼 영웅의 이름과 성을 리스트로 만든다. \n",
    "superFirstName = ['Wonder','Whatta','Rabid','Incredible', 'Astonishing', \n",
    "                  'Decent', 'Stupendous', 'Above-average', 'That Guy', 'Improbably']\n",
    "superLastName = ['Boy', 'Man', 'Dingo', 'Beefcake', 'Girl', 'Woman', 'Guy', \n",
    "                 'Hero', 'Max', 'Dream', 'Macho Man','Stallion']\n",
    "# 슈퍼 영우의 이름과 성을 임의적으로 선택해서 하나를 만든다.\n",
    "superName = random.choice(superFirstName)+ \" \" +random.choice(superLastName)\n"
   ]
  },
  {
   "cell_type": "code",
   "execution_count": null,
   "metadata": {},
   "outputs": [],
   "source": []
  },
  {
   "cell_type": "code",
   "execution_count": null,
   "metadata": {},
   "outputs": [],
   "source": [
    "print(\"Please enter your super hero name: \")\n",
    "hero.superName = input('>')\n"
   ]
  },
  {
   "cell_type": "code",
   "execution_count": null,
   "metadata": {},
   "outputs": [],
   "source": []
  },
  {
   "cell_type": "code",
   "execution_count": 3,
   "metadata": {},
   "outputs": [
    {
     "name": "stdout",
     "output_type": "stream",
     "text": [
      "Overwriting SuperHeroClass.py\n"
     ]
    }
   ],
   "source": [
    "%%writefile SuperHeroClass.py\n",
    "\n",
    "import random\n",
    "\n",
    "class Superhero():\n",
    "\n",
    "    def __init__(self):\n",
    "        self.superName = superName\n",
    "        self.power = \" \"\n",
    "        self.braun = braun\n",
    "        self.brains = brains\n",
    "        self.stamina = stamina\n",
    "        self.wisdom = wisdom\n",
    "        self.constitution = constitution\n",
    "        self.dexterity = dexterity\n",
    "        self.speed = speed\n",
    "\n",
    "# Adding random values to each stat using the random() module\n",
    "braun = random.randint(1,20)\n",
    "brains = random.randint(1,20)\n",
    "stamina = random.randint(1,20)\n",
    "wisdom = random.randint(1,20)\n",
    "constitution = random.randint(1,20)\n",
    "dexterity = random.randint(1,20)\n",
    "speed = random.randint(1,20)\n",
    "\n",
    "#  슈퍼 파워를 리스트로 만들어서 변수에 할당한다. \n",
    "superPowers = ['Flying', 'Super Strength', 'Telepathy', 'Super Speed', \n",
    "               'Can Eat a Lot of Hot Dogs', 'Good At Skipping Rope']\n",
    "# 임의로 하나의 슈퍼 파워를 리스트에서 선택한다.\n",
    "power = random.choice(superPowers)\n",
    "\n",
    "# 슈퍼 영웅의 이름과 성을 리스트로 만든다. \n",
    "superFirstName = ['Wonder','Whatta','Rabid','Incredible', 'Astonishing', \n",
    "                   'Decent', 'Stupendous', 'Above-average', 'That Guy', 'Improbably']\n",
    "superLastName = ['Boy', 'Man', 'Dingo', 'Beefcake', 'Girl', 'Woman', 'Guy', \n",
    "                'Hero', 'Max', 'Dream', 'Macho Man','Stallion']\n",
    "# 슈퍼 영우의 이름과 성을 임의적으로 선택해서 하나를 만든다.\n",
    "superName = random.choice(superFirstName)+ \" \" +random.choice(superLastName)\n",
    "\n",
    "# 객체를 생성한다. \n",
    "hero = Superhero()\n",
    "\n",
    "# 슈퍼 영웅의 상태를 출력한다. \n",
    "print(\" 슈퍼 영웅의 이름은  %s.\" % (hero.superName))\n",
    "print(\" 슈퍼 영웅의 상태 :\")\n",
    "print(\"\")\n",
    "print(\" 지능 : \", hero.brains)\n",
    "print(\" 용맹함: \", hero.braun)\n",
    "print(\" 체력: \", hero.stamina)\n",
    "print(\" 지혜 : \", hero.wisdom)\n",
    "print(\" 체질 : \", hero.constitution)\n",
    "print(\" 재치 : \", hero.dexterity)\n",
    "print(\" 속도 : \", hero.speed)\n",
    "print(\"\")"
   ]
  },
  {
   "cell_type": "code",
   "execution_count": null,
   "metadata": {},
   "outputs": [],
   "source": []
  },
  {
   "cell_type": "code",
   "execution_count": 4,
   "metadata": {},
   "outputs": [
    {
     "name": "stdout",
     "output_type": "stream",
     "text": [
      " 슈퍼 영웅의 이름은  Wonder Woman.\n",
      " 슈퍼 영웅의 상태 :\n",
      "\n",
      " 지능 :  8\n",
      " 용맹함:  5\n",
      " 체력:  11\n",
      " 지혜 :  15\n",
      " 체질 :  18\n",
      " 재치 :  10\n",
      " 속도 :  8\n",
      "\n"
     ]
    }
   ],
   "source": [
    "%run SuperHeroClass.py"
   ]
  },
  {
   "cell_type": "code",
   "execution_count": null,
   "metadata": {},
   "outputs": [],
   "source": []
  },
  {
   "cell_type": "code",
   "execution_count": 5,
   "metadata": {},
   "outputs": [],
   "source": [
    "# 슈퍼영웅 클래스를 상속하는 돌연변이 클래스를 하나 만든다.\n",
    "class Mutate(Superhero):\n",
    "    def __init__(self):\n",
    "        Superhero.__init__(self)\n",
    "        print(\"You created a Mutate!\")\n",
    "        self.speed = self.speed + 10\n",
    "        \n",
    "# 슈퍼영웅 클래스를 상속하는 로봇 클래스를 만든다. \n",
    "class Robot(Superhero):\n",
    "    def __init__(self):\n",
    "        Superhero.__init__(self)\n",
    "        print(\"You created a robot!\")\n",
    "        self.braun = self.braun + 10\n"
   ]
  },
  {
   "cell_type": "code",
   "execution_count": null,
   "metadata": {},
   "outputs": [],
   "source": []
  },
  {
   "cell_type": "code",
   "execution_count": null,
   "metadata": {},
   "outputs": [],
   "source": [
    "self.speed = self.speed + 10"
   ]
  },
  {
   "cell_type": "code",
   "execution_count": null,
   "metadata": {},
   "outputs": [],
   "source": [
    "self.braun = self.braun + 10"
   ]
  },
  {
   "cell_type": "code",
   "execution_count": null,
   "metadata": {},
   "outputs": [],
   "source": []
  },
  {
   "cell_type": "code",
   "execution_count": 6,
   "metadata": {},
   "outputs": [
    {
     "name": "stdout",
     "output_type": "stream",
     "text": [
      "You created a robot!\n",
      "You created a Mutate!\n"
     ]
    }
   ],
   "source": [
    "hero2 = Robot()\n",
    "hero3 = Mutate()"
   ]
  },
  {
   "cell_type": "code",
   "execution_count": null,
   "metadata": {},
   "outputs": [],
   "source": []
  },
  {
   "cell_type": "code",
   "execution_count": 7,
   "metadata": {},
   "outputs": [
    {
     "name": "stdout",
     "output_type": "stream",
     "text": [
      " 슈퍼 영웅의 이름은  Wonder Woman.\n",
      " 슈퍼 파워는 :   \n",
      " 슈퍼 영웅의 상태 :\n",
      "\n",
      " 지능 :  8\n",
      " 용맹함 :  5\n",
      " 체력:  11\n",
      " 지혜 :  15\n",
      " 체질 :  18\n",
      " 재치 :  10\n",
      " 속도 :  8\n",
      "\n"
     ]
    }
   ],
   "source": [
    "# 객체를 하나 만든다\n",
    "hero = Superhero()\n",
    "\n",
    "print(\" 슈퍼 영웅의 이름은  %s.\" % (hero.superName))\n",
    "print(\" 슈퍼 파워는 : \", hero.power)\n",
    "print(\" 슈퍼 영웅의 상태 :\")\n",
    "print(\"\")\n",
    "print(\" 지능 : \",hero. brains)\n",
    "print(\" 용맹함 : \", hero.braun)\n",
    "print(\" 체력: \", hero.stamina)\n",
    "print(\" 지혜 : \", hero.wisdom)\n",
    "print(\" 체질 : \", hero.constitution)\n",
    "print(\" 재치 : \", hero.dexterity)\n",
    "print(\" 속도 : \", hero.speed)\n",
    "print(\"\")"
   ]
  },
  {
   "cell_type": "code",
   "execution_count": 8,
   "metadata": {},
   "outputs": [
    {
     "name": "stdout",
     "output_type": "stream",
     "text": [
      "You created a Mutate!\n",
      " 슈퍼 영웅의 이름은  Wonder Woman.\n",
      " 슈퍼 파워는 :   \n",
      " 슈퍼 영웅의 상태 :\n",
      "\n",
      " 지능 :  8\n",
      " 용맹함 :  5\n",
      " 체력:  11\n",
      " 지혜 :  15\n",
      " 체질 :  18\n",
      " 재치 :  10\n",
      " 속도 :  18\n",
      "\n"
     ]
    }
   ],
   "source": [
    "# Creating a Mutate object\n",
    "hero2 = Mutate()\n",
    "print(\" 슈퍼 영웅의 이름은  %s.\" % (hero2.superName))\n",
    "print(\" 슈퍼 파워는 : \", hero2.power)\n",
    "print(\" 슈퍼 영웅의 상태 :\")\n",
    "print(\"\")\n",
    "print(\" 지능 : \", hero2.brains)\n",
    "print(\" 용맹함 : \", hero2.braun)\n",
    "print(\" 체력: \", hero2.stamina)\n",
    "print(\" 지혜 : \", hero2.wisdom)\n",
    "print(\" 체질 : \", hero2.constitution)\n",
    "print(\" 재치 : \", hero2.dexterity)\n",
    "print(\" 속도 : \", hero2.speed)\n",
    "print(\"\")"
   ]
  },
  {
   "cell_type": "code",
   "execution_count": 9,
   "metadata": {},
   "outputs": [
    {
     "name": "stdout",
     "output_type": "stream",
     "text": [
      "You created a robot!\n",
      " 슈퍼 영웅의 이름은  Wonder Woman.\n",
      " 슈퍼 파워는 :   \n",
      " 슈퍼 영웅의 상태 :\n",
      "\n",
      " 지능 :  8\n",
      " 용맹함:  15\n",
      " 체력 :  11\n",
      " 지혜 :  15\n",
      " 체질 :  18\n",
      " 재치 :  10\n",
      " 속도 :  8\n",
      "\n"
     ]
    }
   ],
   "source": [
    "# Create a Robot character\n",
    "hero3 = Robot()\n",
    "print(\" 슈퍼 영웅의 이름은  %s.\" % (hero3.superName))\n",
    "print(\" 슈퍼 파워는 : \", hero3.power)\n",
    "print(\" 슈퍼 영웅의 상태 :\")\n",
    "print(\"\")\n",
    "print(\" 지능 : \", hero3.brains)\n",
    "print(\" 용맹함: \", hero3.braun)\n",
    "print(\" 체력 : \", hero3.stamina)\n",
    "print(\" 지혜 : \", hero3.wisdom)\n",
    "print(\" 체질 : \", hero3.constitution)\n",
    "print(\" 재치 : \", hero3.dexterity)\n",
    "print(\" 속도 : \", hero3.speed)\n",
    "print(\"\")"
   ]
  },
  {
   "cell_type": "code",
   "execution_count": null,
   "metadata": {},
   "outputs": [],
   "source": []
  },
  {
   "cell_type": "code",
   "execution_count": 13,
   "metadata": {},
   "outputs": [
    {
     "name": "stdout",
     "output_type": "stream",
     "text": [
      "Overwriting SuperheroClass.py\n"
     ]
    }
   ],
   "source": [
    "%%writefile SuperheroClass.py \n",
    "import random\n",
    "\n",
    "# 클래스를 정의한다.\n",
    "class Superhero():\n",
    " \n",
    "    # 객체가 만들어질 때 속성을 초기화한다.\n",
    "    def __init__(self):\n",
    "        self.superName = superName\n",
    "        self.power = power\n",
    "        self.braun = braun\n",
    "        self.brains = brains\n",
    "        self.stamina = stamina\n",
    "        self.wisdom = wisdom\n",
    "        self.constitution = constitution\n",
    "        self.dexterity = dexterity\n",
    "        self.speed = speed\n",
    "\n",
    "# 변수에  1부터 20사이의 값을 무작위로 선택한다.\n",
    "braun = random.randint(1,20)\n",
    "brains = random.randint(1,20)\n",
    "stamina = random.randint(1,20)\n",
    "wisdom = random.randint(1,20)\n",
    "constitution = random.randint(1,20)\n",
    "dexterity = random.randint(1,20)\n",
    "speed = random.randint(1,20)\n",
    "\n",
    "#  슈퍼 파워를 리스트로 만들어서 변수에 할당한다. \n",
    "superPowers = ['Flying', 'Super Strength', 'Telepathy', 'Super Speed', \n",
    "               'Can Eat a Lot of Hot Dogs', 'Good At Skipping Rope']\n",
    "# 임의로 하나의 슈퍼 파워를 리스트에서 선택한다.\n",
    "power = random.choice(superPowers)\n",
    "\n",
    "# 슈퍼 영웅의 이름과 성을 리스트로 만든다. \n",
    "superFirstName = ['Wonder','Whatta','Rabid','Incredible', 'Astonishing', \n",
    "                   'Decent', 'Stupendous', 'Above-average', 'That Guy', 'Improbably']\n",
    "superLastName = ['Boy', 'Man', 'Dingo', 'Beefcake', 'Girl', 'Woman', 'Guy', \n",
    "                'Hero', 'Max', 'Dream', 'Macho Man','Stallion']\n",
    "# 슈퍼 영우의 이름과 성을 임의적으로 선택해서 하나를 만든다.\n",
    "superName = random.choice(superFirstName)+ \" \" +random.choice(superLastName)\n",
    "\n",
    "# 슈퍼영웅 클래스를 상속하는 돌연변이 클래스를 하나 만든다.\n",
    "class Mutate(Superhero):\n",
    "    def __init__(self):\n",
    "        Superhero.__init__(self)\n",
    "        print(\"You created a Mutate!\")\n",
    "        self.speed = self.speed + 10\n",
    "        \n",
    "# 슈퍼영웅 클래스를 상속하는 로봇 클래스를 만든다. \n",
    "class Robot(Superhero):\n",
    "    def __init__(self):\n",
    "        Superhero.__init__(self)\n",
    "        print(\"You created a robot!\")\n",
    "        self.braun = self.braun + 10\n",
    "        \n",
    "\n",
    "\n",
    "# 객체를 하나 만든다\n",
    "hero = Superhero()\n",
    "\n",
    "print(\" 슈퍼 영웅의 이름은  %s.\" % (hero.superName))\n",
    "print(\" 슈퍼 파워는 : \", hero.power)\n",
    "print(\" 슈퍼 영웅의 상태 :\")\n",
    "print(\"\")\n",
    "print(\" 지능 : \",hero. brains)\n",
    "print(\" 용맹함 : \", hero.braun)\n",
    "print(\" 체력: \", hero.stamina)\n",
    "print(\" 지혜 : \", hero.wisdom)\n",
    "print(\" 체질 : \", hero.constitution)\n",
    "print(\" 재치 : \", hero.dexterity)\n",
    "print(\" 속도 : \", hero.speed)\n",
    "print(\"\")\n",
    "\n",
    "# Creating a Mutate object\n",
    "hero2 = Mutate()\n",
    "print(\" 슈퍼 영웅의 이름은  %s.\" % (hero2.superName))\n",
    "print(\" 슈퍼 파워는 : \", hero2.power)\n",
    "print(\" 슈퍼 영웅의 상태 :\")\n",
    "print(\"\")\n",
    "print(\" 지능 : \", hero2.brains)\n",
    "print(\" 용맹함 : \", hero2.braun)\n",
    "print(\" 체력: \", hero2.stamina)\n",
    "print(\" 지혜 : \", hero2.wisdom)\n",
    "print(\" 체질 : \", hero2.constitution)\n",
    "print(\" 재치 : \", hero2.dexterity)\n",
    "print(\" 속도 : \", hero2.speed)\n",
    "print(\"\")\n",
    "\n",
    "# Create a Robot character\n",
    "hero3 = Robot()\n",
    "print(\" 슈퍼 영웅의 이름은  %s.\" % (hero3.superName))\n",
    "print(\" 슈퍼 파워는 : \", hero3.power)\n",
    "print(\" 슈퍼 영웅의 상태 :\")\n",
    "print(\"\")\n",
    "print(\" 지능 : \", hero3.brains)\n",
    "print(\" 용맹함: \", hero3.braun)\n",
    "print(\" 체력 : \", hero3.stamina)\n",
    "print(\" 지혜 : \", hero3.wisdom)\n",
    "print(\" 체질 : \", hero3.constitution)\n",
    "print(\" 재치 : \", hero3.dexterity)\n",
    "print(\" 속도 : \", hero3.speed)\n",
    "print(\"\")\n"
   ]
  },
  {
   "cell_type": "code",
   "execution_count": null,
   "metadata": {},
   "outputs": [],
   "source": []
  },
  {
   "cell_type": "code",
   "execution_count": 14,
   "metadata": {},
   "outputs": [
    {
     "name": "stdout",
     "output_type": "stream",
     "text": [
      " 슈퍼 영웅의 이름은  That Guy Macho Man.\n",
      " 슈퍼 파워는 :  Super Speed\n",
      " 슈퍼 영웅의 상태 :\n",
      "\n",
      " 지능 :  7\n",
      " 용맹함 :  20\n",
      " 체력:  18\n",
      " 지혜 :  6\n",
      " 체질 :  3\n",
      " 재치 :  3\n",
      " 속도 :  5\n",
      "\n",
      "You created a Mutate!\n",
      " 슈퍼 영웅의 이름은  That Guy Macho Man.\n",
      " 슈퍼 파워는 :  Super Speed\n",
      " 슈퍼 영웅의 상태 :\n",
      "\n",
      " 지능 :  7\n",
      " 용맹함 :  20\n",
      " 체력:  18\n",
      " 지혜 :  6\n",
      " 체질 :  3\n",
      " 재치 :  3\n",
      " 속도 :  15\n",
      "\n",
      "You created a robot!\n",
      " 슈퍼 영웅의 이름은  That Guy Macho Man.\n",
      " 슈퍼 파워는 :  Super Speed\n",
      " 슈퍼 영웅의 상태 :\n",
      "\n",
      " 지능 :  7\n",
      " 용맹함:  30\n",
      " 체력 :  18\n",
      " 지혜 :  6\n",
      " 체질 :  3\n",
      " 재치 :  3\n",
      " 속도 :  5\n",
      "\n"
     ]
    }
   ],
   "source": [
    "%run SuperheroClass.py "
   ]
  },
  {
   "cell_type": "code",
   "execution_count": null,
   "metadata": {},
   "outputs": [],
   "source": []
  },
  {
   "cell_type": "code",
   "execution_count": null,
   "metadata": {},
   "outputs": [],
   "source": [
    "# 소개문구 \n",
    "print(\"Are you ready to create a super hero with the Super Hero Generator 3000?\")\n",
    "# 특정 문구 입력 \n",
    "print(\"Enter Y/N:\")\n",
    "answer = input()\n",
    "answer = answer.upper()\n",
    "\n",
    "# 반복해서 처리할 수 있도록 처리 \n",
    "while answer != \"Y\":\n",
    "    print(\"I'm sorry, but you have to choose Y to continue!\")\n",
    "    print(\"Choose Y/N:\")\n",
    "    answer = input()\n",
    "    answer = (answer.upper())\n",
    "print(\"Great, let's get started!\")"
   ]
  },
  {
   "cell_type": "code",
   "execution_count": null,
   "metadata": {},
   "outputs": [],
   "source": []
  },
  {
   "cell_type": "code",
   "execution_count": null,
   "metadata": {},
   "outputs": [],
   "source": [
    "# 선택을 입력으로 받는다\n",
    "print(\"Choose from the following hero options: \")\n",
    "print(\"Press 1 for a Regular Superhero\")\n",
    "print(\"Press 2 for a Mutate Superhero\")\n",
    "print(\"Press 3 for a Robot Superhero\")\n",
    "answer2 = input()"
   ]
  },
  {
   "cell_type": "code",
   "execution_count": null,
   "metadata": {},
   "outputs": [],
   "source": []
  },
  {
   "cell_type": "code",
   "execution_count": 15,
   "metadata": {},
   "outputs": [
    {
     "ename": "NameError",
     "evalue": "name 'answer2' is not defined",
     "output_type": "error",
     "traceback": [
      "\u001b[1;31m---------------------------------------------------------------------------\u001b[0m",
      "\u001b[1;31mNameError\u001b[0m                                 Traceback (most recent call last)",
      "\u001b[1;32m<ipython-input-15-2dcfba47299f>\u001b[0m in \u001b[0;36m<module>\u001b[1;34m\u001b[0m\n\u001b[1;32m----> 1\u001b[1;33m \u001b[1;32mif\u001b[0m \u001b[0manswer2\u001b[0m\u001b[1;33m==\u001b[0m\u001b[1;34m'1'\u001b[0m\u001b[1;33m:\u001b[0m\u001b[1;33m\u001b[0m\u001b[1;33m\u001b[0m\u001b[0m\n\u001b[0m\u001b[0;32m      2\u001b[0m     \u001b[0mhero\u001b[0m \u001b[1;33m=\u001b[0m \u001b[0mSuperhero\u001b[0m\u001b[1;33m(\u001b[0m\u001b[1;33m)\u001b[0m\u001b[1;33m\u001b[0m\u001b[1;33m\u001b[0m\u001b[0m\n\u001b[0;32m      3\u001b[0m     \u001b[0mprint\u001b[0m\u001b[1;33m(\u001b[0m\u001b[1;34m\"You created a regular super hero!\"\u001b[0m\u001b[1;33m)\u001b[0m\u001b[1;33m\u001b[0m\u001b[1;33m\u001b[0m\u001b[0m\n\u001b[0;32m      4\u001b[0m     \u001b[0mprint\u001b[0m\u001b[1;33m(\u001b[0m\u001b[1;34m\"Generating stats, name, and super powers.\"\u001b[0m\u001b[1;33m)\u001b[0m\u001b[1;33m\u001b[0m\u001b[1;33m\u001b[0m\u001b[0m\n\u001b[0;32m      5\u001b[0m \u001b[1;33m\u001b[0m\u001b[0m\n",
      "\u001b[1;31mNameError\u001b[0m: name 'answer2' is not defined"
     ]
    }
   ],
   "source": [
    "if answer2=='1':\n",
    "    hero = Superhero()\n",
    "    print(\"You created a regular super hero!\")\n",
    "    print(\"Generating stats, name, and super powers.\")\n",
    " \n",
    "    # 효과음 추가\n",
    "    for i in range(1):\n",
    "        print(\"...........\")\n",
    "        time.sleep(3)\n",
    "        print(\"(nah...you wouldn't like THAT one...)\")\n",
    " \n",
    "    for i in range(2):\n",
    "        print(\"...........\")\n",
    "        time.sleep(3)\n",
    " \n",
    "    print(\"(almost there....)\")\n",
    " \n",
    "    print(\" 슈퍼 영웅의 이름은  %s.\" % (hero.superName))\n",
    "    print(\" 슈퍼 파워는 : \", hero.power)\n",
    "    print(\" 슈퍼 영웅의 상태 :\")\n",
    "    print(\"\")\n",
    "    print(\" 지능 : \",hero. brains)\n",
    "    print(\" 용맹함 : \", hero.braun)\n",
    "    print(\" 체력: \", hero.stamina)\n",
    "    print(\" 지혜 : \", hero.wisdom)\n",
    "    print(\" 체질 : \", hero.constitution)\n",
    "    print(\" 재치 : \", hero.dexterity)\n",
    "    print(\" 속도 : \", hero.speed)\n",
    "    print(\"\")\n",
    "elif answer2=='2':\n",
    "    hero2 = Mutate()\n",
    "    print(\"Generating stats, name, and super powers.\")\n",
    "    # 효과음 추가\n",
    "    for i in range(1):\n",
    "        print(\"...........\")\n",
    "        time.sleep(3)\n",
    "        print(\"(nah...you wouldn't like THAT one...)\")\n",
    " \n",
    "    for i in range(2):\n",
    "        print(\"...........\")\n",
    "        time.sleep(3)\n",
    " \n",
    "    print(\" 슈퍼 영웅의 이름은  %s.\" % (hero2.superName))\n",
    "    print(\" 슈퍼 파워는 : \", hero2.power)\n",
    "    print(\" 슈퍼 영웅의 상태 :\")\n",
    "    print(\"\")\n",
    "    print(\" 지능 : \", hero2.brains)\n",
    "    print(\" 용맹함 : \", hero2.braun)\n",
    "    print(\" 체력: \", hero2.stamina)\n",
    "    print(\" 지혜 : \", hero2.wisdom)\n",
    "    print(\" 체질 : \", hero2.constitution)\n",
    "    print(\" 재치 : \", hero2.dexterity)\n",
    "    print(\" 속도 : \", hero2.speed)\n",
    "    print(\"\")\n",
    "elif answer2=='3':\n",
    "    hero3 = Robot()\n",
    "    print(\"Generating stats, name, and super powers.\")\n",
    "    # 효과음 추가\n",
    "    for i in range(1):\n",
    "        print(\"...........\") \n",
    "        time.sleep(3)\n",
    "        print(\"(nah...you wouldn't like THAT one...)\")\n",
    " \n",
    "    for i in range(2):\n",
    "        print(\"...........\")\n",
    "        time.sleep(3)\n",
    "        \n",
    "    print(\" 슈퍼 영웅의 이름은  %s.\" % (hero3.superName))\n",
    "    print(\" 슈퍼 파워는 : \", hero3.power)\n",
    "    print(\" 슈퍼 영웅의 상태 :\")\n",
    "    print(\"\")\n",
    "    print(\" 지능 : \", hero3.brains)\n",
    "    print(\" 용맹함: \", hero3.braun)\n",
    "    print(\" 체력 : \", hero3.stamina)\n",
    "    print(\" 지혜 : \", hero3.wisdom)\n",
    "    print(\" 체질 : \", hero3.constitution)\n",
    "    print(\" 재치 : \", hero3.dexterity)\n",
    "    print(\" 속도 : \", hero3.speed)\n",
    "    print(\"\")\n",
    "    \n",
    "else:\n",
    "    print(\"You did not choose the proper answer! Program will now self-destruct!\")\n"
   ]
  },
  {
   "cell_type": "code",
   "execution_count": null,
   "metadata": {},
   "outputs": [],
   "source": []
  },
  {
   "cell_type": "code",
   "execution_count": 16,
   "metadata": {},
   "outputs": [
    {
     "name": "stdout",
     "output_type": "stream",
     "text": [
      "Are you ready to create a super hero with the Super Hero Generator 3000?\n",
      "Enter Y/N:\n",
      "y\n",
      "Great, let's get started!\n",
      "Choose from the following hero options: \n",
      "Press 1 for a Regular Superhero\n",
      "Press 2 for a Mutate Superhero\n",
      "Press 3 for a Robot Superhero\n",
      "1\n",
      "You created a regular super hero!\n",
      "Generating stats, name, and super powers.\n",
      "...........\n",
      "(nah...you wouldn't like THAT one...)\n",
      "...........\n",
      "...........\n",
      "(almost there....)\n",
      " 슈퍼 영웅의 이름은  Decent Beefcake.\n",
      " 슈퍼 파워는 :  Flying\n",
      " 슈퍼 영웅의 상태 :\n",
      "\n",
      " 지능 :  3\n",
      " 용맹함 :  12\n",
      " 체력:  13\n",
      " 지혜 :  18\n",
      " 체질 :  7\n",
      " 재치 :  7\n",
      " 속도 :  8\n",
      "\n"
     ]
    }
   ],
   "source": [
    "import random\n",
    "import time\n",
    "\n",
    "# 클래스를 정의한다.\n",
    "class Superhero():\n",
    " \n",
    "    # 객체가 만들어질 때 속성을 초기화한다.\n",
    "    def __init__(self):\n",
    "        self.superName = superName\n",
    "        self.power = power\n",
    "        self.braun = braun\n",
    "        self.brains = brains\n",
    "        self.stamina = stamina\n",
    "        self.wisdom = wisdom\n",
    "        self.constitution = constitution\n",
    "        self.dexterity = dexterity\n",
    "        self.speed = speed\n",
    "\n",
    "# 변수에  1부터 20사이의 값을 무작위로 선택한다.\n",
    "braun = random.randint(1,20)\n",
    "brains = random.randint(1,20)\n",
    "stamina = random.randint(1,20)\n",
    "wisdom = random.randint(1,20)\n",
    "constitution = random.randint(1,20)\n",
    "dexterity = random.randint(1,20)\n",
    "speed = random.randint(1,20)\n",
    "\n",
    "\n",
    "#  슈퍼 파워를 리스트로 만들어서 변수에 할당한다. \n",
    "superPowers = ['Flying', 'Super Strength', 'Telepathy', 'Super Speed', \n",
    "               'Can Eat a Lot of Hot Dogs', 'Good At Skipping Rope']\n",
    "# 임의로 하나의 슈퍼 파워를 리스트에서 선택한다.\n",
    "power = random.choice(superPowers)\n",
    "\n",
    "# 슈퍼 영웅의 이름과 성을 리스트로 만든다. \n",
    "superFirstName = ['Wonder','Whatta','Rabid','Incredible', 'Astonishing', \n",
    "                   'Decent', 'Stupendous', 'Above-average', 'That Guy', 'Improbably']\n",
    "superLastName = ['Boy', 'Man', 'Dingo', 'Beefcake', 'Girl', 'Woman', 'Guy', \n",
    "                'Hero', 'Max', 'Dream', 'Macho Man','Stallion']\n",
    "# 슈퍼 영우의 이름과 성을 임의적으로 선택해서 하나를 만든다.\n",
    "superName = random.choice(superFirstName)+ \" \" +random.choice(superLastName)\n",
    "\n",
    "# 슈퍼영웅 클래스를 상속하는 돌연변이 클래스를 하나 만든다.\n",
    "class Mutate(Superhero):\n",
    "    def __init__(self):\n",
    "        Superhero.__init__(self)\n",
    "        print(\"You created a Mutate!\")\n",
    "        self.speed = self.speed + 10\n",
    "        \n",
    "# 슈퍼영웅 클래스를 상속하는 로봇 클래스를 만든다. \n",
    "class Robot(Superhero):\n",
    "    def __init__(self):\n",
    "        Superhero.__init__(self)\n",
    "        print(\"You created a robot!\")\n",
    "        self.braun = self.braun + 10\n",
    "        \n",
    "# 소개문구 \n",
    "print(\"Are you ready to create a super hero with the Super Hero Generator 3000?\")\n",
    "# 특정 문구 입력 \n",
    "print(\"Enter Y/N:\")\n",
    "answer = input()\n",
    "answer = answer.upper()\n",
    "\n",
    "# 반복해서 처리할 수 있도록 처리 \n",
    "while answer != \"Y\":\n",
    "    print(\"I'm sorry, but you have to choose Y to continue!\")\n",
    "    print(\"Choose Y/N:\")\n",
    "    answer = input()\n",
    "    answer = (answer.upper())\n",
    "print(\"Great, let's get started!\")\n",
    "        \n",
    "# 선택을 입력으로 받는다\n",
    "print(\"Choose from the following hero options: \")\n",
    "print(\"Press 1 for a Regular Superhero\")\n",
    "print(\"Press 2 for a Mutate Superhero\")\n",
    "print(\"Press 3 for a Robot Superhero\")\n",
    "answer2 = input()\n",
    "\n",
    "if answer2=='1':\n",
    "    hero = Superhero()\n",
    "    print(\"You created a regular super hero!\")\n",
    "    print(\"Generating stats, name, and super powers.\")\n",
    " \n",
    "    # 효과음 추가\n",
    "    for i in range(1):\n",
    "        print(\"...........\")\n",
    "        time.sleep(3)\n",
    "        print(\"(nah...you wouldn't like THAT one...)\")\n",
    " \n",
    "    for i in range(2):\n",
    "        print(\"...........\")\n",
    "        time.sleep(3)\n",
    " \n",
    "    print(\"(almost there....)\")\n",
    " \n",
    "    print(\" 슈퍼 영웅의 이름은  %s.\" % (hero.superName))\n",
    "    print(\" 슈퍼 파워는 : \", hero.power)\n",
    "    print(\" 슈퍼 영웅의 상태 :\")\n",
    "    print(\"\")\n",
    "    print(\" 지능 : \",hero. brains)\n",
    "    print(\" 용맹함 : \", hero.braun)\n",
    "    print(\" 체력: \", hero.stamina)\n",
    "    print(\" 지혜 : \", hero.wisdom)\n",
    "    print(\" 체질 : \", hero.constitution)\n",
    "    print(\" 재치 : \", hero.dexterity)\n",
    "    print(\" 속도 : \", hero.speed)\n",
    "    print(\"\")\n",
    "elif answer2=='2':\n",
    "    hero2 = Mutate()\n",
    "    print(\"Generating stats, name, and super powers.\")\n",
    "    # 효과음 추가\n",
    "    for i in range(1):\n",
    "        print(\"...........\")\n",
    "        time.sleep(3)\n",
    "        print(\"(nah...you wouldn't like THAT one...)\")\n",
    " \n",
    "    for i in range(2):\n",
    "        print(\"...........\")\n",
    "        time.sleep(3)\n",
    " \n",
    "    print(\" 슈퍼 영웅의 이름은  %s.\" % (hero2.superName))\n",
    "    print(\" 슈퍼 파워는 : \", hero2.power)\n",
    "    print(\" 슈퍼 영웅의 상태 :\")\n",
    "    print(\"\")\n",
    "    print(\" 지능 : \", hero2.brains)\n",
    "    print(\" 용맹함 : \", hero2.braun)\n",
    "    print(\" 체력: \", hero2.stamina)\n",
    "    print(\" 지혜 : \", hero2.wisdom)\n",
    "    print(\" 체질 : \", hero2.constitution)\n",
    "    print(\" 재치 : \", hero2.dexterity)\n",
    "    print(\" 속도 : \", hero2.speed)\n",
    "    print(\"\")\n",
    "elif answer2=='3':\n",
    "    hero3 = Robot()\n",
    "    print(\"Generating stats, name, and super powers.\")\n",
    "    # 효과음 추가\n",
    "    for i in range(1):\n",
    "        print(\"...........\") \n",
    "        time.sleep(3)\n",
    "        print(\"(nah...you wouldn't like THAT one...)\")\n",
    " \n",
    "    for i in range(2):\n",
    "        print(\"...........\")\n",
    "        time.sleep(3)\n",
    "        \n",
    "    print(\" 슈퍼 영웅의 이름은  %s.\" % (hero3.superName))\n",
    "    print(\" 슈퍼 파워는 : \", hero3.power)\n",
    "    print(\" 슈퍼 영웅의 상태 :\")\n",
    "    print(\"\")\n",
    "    print(\" 지능 : \", hero3.brains)\n",
    "    print(\" 용맹함: \", hero3.braun)\n",
    "    print(\" 체력 : \", hero3.stamina)\n",
    "    print(\" 지혜 : \", hero3.wisdom)\n",
    "    print(\" 체질 : \", hero3.constitution)\n",
    "    print(\" 재치 : \", hero3.dexterity)\n",
    "    print(\" 속도 : \", hero3.speed)\n",
    "    print(\"\")\n",
    "    \n",
    "else:\n",
    "    print(\"You did not choose the proper answer! Program will now self-destruct!\")\n"
   ]
  },
  {
   "cell_type": "code",
   "execution_count": null,
   "metadata": {},
   "outputs": [],
   "source": []
  },
  {
   "cell_type": "code",
   "execution_count": null,
   "metadata": {},
   "outputs": [],
   "source": []
  },
  {
   "cell_type": "code",
   "execution_count": null,
   "metadata": {},
   "outputs": [],
   "source": []
  },
  {
   "cell_type": "code",
   "execution_count": null,
   "metadata": {},
   "outputs": [],
   "source": []
  },
  {
   "cell_type": "code",
   "execution_count": null,
   "metadata": {},
   "outputs": [],
   "source": []
  },
  {
   "cell_type": "code",
   "execution_count": null,
   "metadata": {},
   "outputs": [],
   "source": []
  },
  {
   "cell_type": "code",
   "execution_count": null,
   "metadata": {},
   "outputs": [],
   "source": [
    "def Print(hero) :\n",
    "    print(\"(almost there....)\")\n",
    "    print(\" \")\n",
    "    print(\"Your name is %s.\" % (hero.superName))\n",
    "    print(\"Your super power is: \", hero.power)\n",
    "    print(\"Your new stats are:\")\n",
    "    print(\"\")\n",
    "    print(\"Brains: \", hero.brains)\n",
    "    print(\"Braun: \", hero.braun)\n",
    "    print(\"Stamina: \", hero.stamina)\n",
    "    print(\"Wisdom: \", hero.wisdom)\n",
    "    print(\"Constitution: \", hero.constitution)\n",
    "    print(\"Dexterity: \", hero.dexterity) \n",
    "    print(\"Speed \", hero.speed)\n",
    "    print(\"\")"
   ]
  },
  {
   "cell_type": "code",
   "execution_count": null,
   "metadata": {},
   "outputs": [],
   "source": [
    "import time"
   ]
  },
  {
   "cell_type": "code",
   "execution_count": null,
   "metadata": {},
   "outputs": [],
   "source": [
    "if answer2=='1':\n",
    "    # Creating the Superhero object\n",
    "    hero = Superhero()\n",
    "    # We print out the result of the created object, including its parameters\n",
    "    print(\"You created a regular super hero!\")\n",
    "    print(\"Generating stats, name, and super powers.\")\n",
    " \n",
    "    # Creating dramatic effect\n",
    " \n",
    "    for i in range(1):\n",
    "        print(\"...........\")\n",
    "        time.sleep(3) \n",
    "        print(\"(nah...you wouldn't like THAT one...)\")\n",
    " \n",
    "    for i in range(2):\n",
    "        print(\"...........\")\n",
    "        time.sleep(3)\n",
    "    Print(hero)\n",
    "        \n",
    "elif answer2=='2':\n",
    "    # Creating a Mutate object\n",
    "    hero2 = Mutate()\n",
    "    print(\"Generating stats, name, and super powers.\")\n",
    "    # Creating dramatic effect\n",
    "    for i in range(1):\n",
    "        print(\"...........\")\n",
    "        time.sleep(3)\n",
    "        print(\"(nah...you wouldn't like THAT one...)\")\n",
    " \n",
    "    for i in range(2):\n",
    "        print(\"...........\")\n",
    "        time.sleep(3)\n",
    "    Print(hero2)\n",
    "\n",
    "elif answer2=='3':\n",
    "    # Create a Robot character\n",
    "    hero3 = Robot()\n",
    "    print(\"Generating stats, name, and super powers.\")\n",
    " \n",
    "    # Creating dramatic effect\n",
    "    for i in range(1):\n",
    "        print(\"...........\")\n",
    "        time.sleep(3)\n",
    "    print(\"(nah...you wouldn't like THAT one...)\")\n",
    "    \n",
    "    for i in range(2):\n",
    "        print(\"...........\")\n",
    "        time.sleep(3)\n",
    "    Print(hero3)\n",
    "else:\n",
    "    print(\"You did not choose the proper answer! Program will now self￾destruct!\")\n"
   ]
  },
  {
   "cell_type": "code",
   "execution_count": null,
   "metadata": {},
   "outputs": [],
   "source": []
  }
 ],
 "metadata": {
  "kernelspec": {
   "display_name": "Python 3",
   "language": "python",
   "name": "python3"
  },
  "language_info": {
   "codemirror_mode": {
    "name": "ipython",
    "version": 3
   },
   "file_extension": ".py",
   "mimetype": "text/x-python",
   "name": "python",
   "nbconvert_exporter": "python",
   "pygments_lexer": "ipython3",
   "version": "3.7.7"
  }
 },
 "nbformat": 4,
 "nbformat_minor": 4
}
