{
 "cells": [
  {
   "cell_type": "code",
   "execution_count": null,
   "metadata": {},
   "outputs": [],
   "source": []
  },
  {
   "cell_type": "code",
   "execution_count": null,
   "metadata": {},
   "outputs": [],
   "source": [
    "if making sandwich, get bread\n",
    "Then choose peanut butter type;\n",
    "if peanutButterType = \"Creamy\"\n",
    "print \"That's gross. Don't be gross.\"\n",
    "else print \"Crunchy is the correct choice! You win deliciousness!\"\n",
    "Next choose jelly type;\n",
    "If jellyType = \"Grape\"\n",
    "print \"You really aren't good at this are you?\"\n",
    "else if jellyType = \"Strawberry Jam\"\n",
    "print \"Sure, if you want to ruin your peanut butter, go ahead.\"\n",
    "else print \"Apple Jelly is the only Jelly! The golden nectar of the Gods! \n",
    "You are so wise!\"\n",
    "Next put peanut butter and jelly on bread, smash together, leave the crusts \n",
    "on, and eat."
   ]
  },
  {
   "cell_type": "code",
   "execution_count": null,
   "metadata": {},
   "outputs": [],
   "source": []
  },
  {
   "cell_type": "code",
   "execution_count": 1,
   "metadata": {},
   "outputs": [
    {
     "name": "stdout",
     "output_type": "stream",
     "text": [
      "Writing ConditionalStatements.py\n"
     ]
    }
   ],
   "source": [
    "%%writefile ConditionalStatements.py\n",
    "superHeroType=\"Dark and Brooding\"\n",
    "\n",
    "print(\"Let's see what sort of hero we have here...\")\n",
    "if superHeroType==\"Dark and Brooding\":\n",
    "    print(\"Ah, it says here you are 'Dark and Brooding'.\")\n",
    "    print(\"I bet you had a tragic event in your past!\")\n",
    "    print(\"Your voice sounds pretty rough by the way...\")\n",
    "    print(\"Here, have a cough drop. Or two.\")"
   ]
  },
  {
   "cell_type": "code",
   "execution_count": null,
   "metadata": {},
   "outputs": [],
   "source": []
  },
  {
   "cell_type": "code",
   "execution_count": null,
   "metadata": {},
   "outputs": [],
   "source": [
    "superHeroType=\"Dark and Brooding\""
   ]
  },
  {
   "cell_type": "code",
   "execution_count": null,
   "metadata": {},
   "outputs": [],
   "source": []
  },
  {
   "cell_type": "code",
   "execution_count": null,
   "metadata": {},
   "outputs": [],
   "source": [
    "if superHeroType==\"Dark and Brooding\":"
   ]
  },
  {
   "cell_type": "code",
   "execution_count": null,
   "metadata": {},
   "outputs": [],
   "source": []
  },
  {
   "cell_type": "code",
   "execution_count": 2,
   "metadata": {},
   "outputs": [
    {
     "name": "stdout",
     "output_type": "stream",
     "text": [
      "Let's see what sort of hero we have here...\n",
      "Ah, it says here you are 'Dark and Brooding'.\n",
      "I bet you had a tragic event in your past!\n",
      "Your voice sounds pretty rough by the way...\n",
      "Here, have a cough drop. Or two.\n"
     ]
    }
   ],
   "source": [
    "%run ConditionalStatements.py"
   ]
  },
  {
   "cell_type": "code",
   "execution_count": null,
   "metadata": {},
   "outputs": [],
   "source": []
  },
  {
   "cell_type": "code",
   "execution_count": 5,
   "metadata": {},
   "outputs": [
    {
     "name": "stdout",
     "output_type": "stream",
     "text": [
      "Let's see what sort of hero we have here...\n"
     ]
    }
   ],
   "source": [
    "superHeroType=\"Quick-Witted and Funny\"\n",
    "print(\"Let's see what sort of hero we have here...\")\n",
    "if superHeroType==\"Dark and Brooding\":\n",
    "    print(\"Ah, it says here you are 'Dark and Brooding'.\")\n",
    "    print(\"I bet you had a tragic event in your past!\")\n",
    "    print(\"Your voice sounds pretty rough by the way...\")\n",
    "    print(\"Here, have a cough drop. Or two.\")\n"
   ]
  },
  {
   "cell_type": "code",
   "execution_count": null,
   "metadata": {},
   "outputs": [],
   "source": []
  },
  {
   "cell_type": "code",
   "execution_count": 3,
   "metadata": {},
   "outputs": [
    {
     "name": "stdout",
     "output_type": "stream",
     "text": [
      "Overwriting ConditionalStatements.py\n"
     ]
    }
   ],
   "source": [
    "%%writefile ConditionalStatements.py\n",
    "superHeroType=\"Quick-Witted and Funny\"\n",
    "print(\"Let's see what sort of hero we have here...\")\n",
    "\n",
    "if superHeroType==\"Dark and Brooding\":\n",
    "    print(\"Ah, it says here you are 'Dark and Brooding'.\")\n",
    "    print(\"I bet you had a tragic event in your past!\")\n",
    "    print(\"Your voice sounds pretty rough by the way...\")\n",
    "    print(\"Here, have a cough drop. Or two.\")\n",
    "    \n",
    "if superHeroType==\"Too Polite\":\n",
    "    print(\"It says here that you are 'Too Polite'\")\n",
    "    print(\"How are you ever going to catch that criminal if you keep holding the door?\")\n",
    "    print(\"Don't say sorry to him - he's the villain!\")\n",
    "    \n",
    "    \n",
    "if superHeroType==\"Quick-Witted and Funny\":\n",
    "    print(\"Oh boy. I can tell by all the puns that you are the Quick-Witted and Funny Type.\")\n",
    "    print(\"I have a joke for you:\")\n",
    "    print(\"What has 8 fingers, two thumbs, and isn't funny?\")\n",
    "    print(\"You!\")\n"
   ]
  },
  {
   "cell_type": "code",
   "execution_count": null,
   "metadata": {},
   "outputs": [],
   "source": []
  },
  {
   "cell_type": "code",
   "execution_count": 4,
   "metadata": {},
   "outputs": [
    {
     "name": "stdout",
     "output_type": "stream",
     "text": [
      "Let's see what sort of hero we have here...\n",
      "Oh boy. I can tell by all the puns that you are the Quick-Witted and Funny Type.\n",
      "I have a joke for you:\n",
      "What has 8 fingers, two thumbs, and isn't funny?\n",
      "You!\n"
     ]
    }
   ],
   "source": [
    "%run ConditionalStatements.py"
   ]
  },
  {
   "cell_type": "code",
   "execution_count": null,
   "metadata": {},
   "outputs": [],
   "source": []
  },
  {
   "cell_type": "code",
   "execution_count": 5,
   "metadata": {},
   "outputs": [
    {
     "name": "stdout",
     "output_type": "stream",
     "text": [
      "Writing MathIsHard.py\n"
     ]
    }
   ],
   "source": [
    "%%writefile MathIsHard.py\n",
    "wonderBoyAllowance = 10\n",
    "newCape = 20\n",
    "print(\"That new cape sure is shiny. I wonder if you can afford it...\")\n",
    "\n",
    "if wonderBoyAllowance > newCape:\n",
    "    print(\"Congrats! You have enough to buy that new cape!\")\n",
    "    \n",
    "if wonderBoyAllowance < newCape:\n",
    "    print(\"Looks like you'll have to keep wearing that towel as a cape...\")\n",
    "    print(\"Maybe if you ask nicely Wonder Dad will give you a raise...\")\n"
   ]
  },
  {
   "cell_type": "code",
   "execution_count": null,
   "metadata": {},
   "outputs": [],
   "source": []
  },
  {
   "cell_type": "code",
   "execution_count": 6,
   "metadata": {},
   "outputs": [
    {
     "name": "stdout",
     "output_type": "stream",
     "text": [
      "That new cape sure is shiny. I wonder if you can afford it...\n",
      "Looks like you'll have to keep wearing that towel as a cape...\n",
      "Maybe if you ask nicely Wonder Dad will give you a raise...\n"
     ]
    }
   ],
   "source": [
    "%run MathIsHard.py"
   ]
  },
  {
   "cell_type": "code",
   "execution_count": null,
   "metadata": {},
   "outputs": [],
   "source": []
  },
  {
   "cell_type": "code",
   "execution_count": null,
   "metadata": {},
   "outputs": [],
   "source": []
  },
  {
   "cell_type": "code",
   "execution_count": 8,
   "metadata": {},
   "outputs": [
    {
     "name": "stdout",
     "output_type": "stream",
     "text": [
      "Writing BooleanExamples.py\n"
     ]
    }
   ],
   "source": [
    "%%writefile BooleanExamples.py\n",
    "# Creating two variables with different values\n",
    "a=10\n",
    "b=20\n",
    "\n",
    "# Compare values using the different Comparison Operators\n",
    "print(\"Is the value of a EQUAL to b?\", a == b)\n",
    "print(\"Is the value of a NOT EQUAL to b?\", a != b)\n",
    "print(\"Is the value of a GREATER than b?\", a > b)\n",
    "print(\"Is the value of a LESS than b?\", a < b)\n",
    "print(\"Is the value of a GREATER THAN or EQUAL to b?\", a >= b)\n",
    "print(\"Is the value of a LESS THAN or EQUAL to b?\", a <= b)"
   ]
  },
  {
   "cell_type": "code",
   "execution_count": null,
   "metadata": {},
   "outputs": [],
   "source": []
  },
  {
   "cell_type": "code",
   "execution_count": 9,
   "metadata": {},
   "outputs": [
    {
     "name": "stdout",
     "output_type": "stream",
     "text": [
      "Is the value of a EQUAL to b? False\n",
      "Is the value of a NOT EQUAL to b? True\n",
      "Is the value of a GREATER than b? False\n",
      "Is the value of a LESS than b? True\n",
      "Is the value of a GREATER THAN or EQUAL to b? False\n",
      "Is the value of a LESS THAN or EQUAL to b? True\n"
     ]
    }
   ],
   "source": [
    "%run BooleanExamples.py"
   ]
  },
  {
   "cell_type": "code",
   "execution_count": null,
   "metadata": {},
   "outputs": [],
   "source": []
  },
  {
   "cell_type": "code",
   "execution_count": 9,
   "metadata": {},
   "outputs": [
    {
     "name": "stdout",
     "output_type": "stream",
     "text": [
      "That new cape sure is shiny. I wonder if you can afford it...\n",
      "Looks like you'll have to keep wearing that towel as a cape...\n",
      "Maybe if you ask nicely Wonder Dad will give you a raise...\n"
     ]
    }
   ],
   "source": [
    "WonderBoyAllowance = 10\n",
    "NewCape = 20\n",
    "\n",
    "print(\"That new cape sure is shiny. I wonder if you can afford it...\")\n",
    "\n",
    "if WonderBoyAllowance > NewCape:\n",
    "    print(\"축하해! 그 새 망토를 살 만큼은 충분하다.!\")\n",
    "else:\n",
    "    print(\"Looks like you'll have to keep wearing that towel as a cape...\")\n",
    "    print(\"Maybe if you ask nicely Wonder Dad will give you a raise...\")\n"
   ]
  },
  {
   "cell_type": "code",
   "execution_count": null,
   "metadata": {},
   "outputs": [],
   "source": []
  },
  {
   "cell_type": "code",
   "execution_count": 10,
   "metadata": {},
   "outputs": [
    {
     "name": "stdout",
     "output_type": "stream",
     "text": [
      "That new cape sure is shiny. I wonder if you can afford it...\n",
      "You have exactly enough money to purchase the cape!\n",
      "No change for you!\n",
      "Eh...and no tip for me I see...\n"
     ]
    }
   ],
   "source": [
    "# Create our variables representing our allowance and the cost of a new cape\n",
    "wonderBoyAllowance = 20\n",
    "newCape = 20\n",
    "print(\"That new cape sure is shiny. I wonder if you can afford it...\")\n",
    "\n",
    "if wonderBoyAllowance > newCape:\n",
    "    print(\"Congrats! You have enough to buy that new cape!\")\n",
    "    print(\"And it looks like you have some money left over.\")\n",
    "    print(\"How about getting a hair cut? You hair is covering your mask!\")\n",
    "elif wonderBoyAllowance == newCape:\n",
    "    print(\"You have exactly enough money to purchase the cape!\")\n",
    "    print(\"No change for you!\")\n",
    "    print(\"Eh...and no tip for me I see...\")\n",
    "else:\n",
    "    print(\"Looks like you'll have to keep wearing that towel as a cape...\")\n",
    "    print(\"Maybe if you ask nicely Wonder Dad will give you a raise...\")\n"
   ]
  },
  {
   "cell_type": "code",
   "execution_count": null,
   "metadata": {},
   "outputs": [],
   "source": []
  },
  {
   "cell_type": "code",
   "execution_count": 11,
   "metadata": {},
   "outputs": [
    {
     "name": "stdout",
     "output_type": "stream",
     "text": [
      "That new cape sure is shiny. I wonder if you can afford it...\n",
      "You have exactly enough money to purchase the cape!\n",
      "No change for you!\n",
      "Eh...and no tip for me I see...\n"
     ]
    }
   ],
   "source": [
    "# Create our variables representing our allowance and the cost of a new cape\n",
    "wonderBoyAllowance = 20\n",
    "newCape = 20\n",
    "print(\"That new cape sure is shiny. I wonder if you can afford it...\")\n",
    "\n",
    "# Check to see if allowance is greater than the cost of the new cape\n",
    "if wonderBoyAllowance > newCape:\n",
    "    print(\"Congrats! You have enough to buy that new cape!\")\n",
    "    print(\"And it looks like you have some money left over.\")\n",
    "    print(\"How about getting a hair cut? You hair is covering your mask!\")\n",
    "# Check to see if allowance is the same exact price as the new cape\n",
    "elif wonderBoyAllowance == newCape:\n",
    "    print(\"You have exactly enough money to purchase the cape!\")\n",
    "    print(\"No change for you!\")\n",
    "    print(\"Eh...and no tip for me I see...\")\n",
    "# Check to see if allowance is zero dollars\n",
    "elif wonderBoyAllowance == 0:\n",
    "    print(\"Oh boy, you are broke!\")\n",
    "    print(\"Maybe it's time to hang up the cape and grab an apron!\")\n",
    "    print(\"Time to become...Bag Boy!\")\n",
    "# If all other conditions fail, this else will trigger\n",
    "else:\n",
    "    print(\"Looks like you'll have to keep wearing that towel as a cape...\")\n",
    "    print(\"Maybe if you ask nicely Wonder Dad will give you a raise...\")"
   ]
  },
  {
   "cell_type": "code",
   "execution_count": null,
   "metadata": {},
   "outputs": [],
   "source": []
  },
  {
   "cell_type": "code",
   "execution_count": 1,
   "metadata": {},
   "outputs": [
    {
     "name": "stdout",
     "output_type": "stream",
     "text": [
      " 망토를 구매할 비용이 가능한지? .\n",
      " 충분히 가지고 있어!\n"
     ]
    }
   ],
   "source": [
    "# 우리의 수당과 새로운 망토 비용을 나타내는 변수를 만듭니다. \n",
    "wonderBoyAllowance = 20\n",
    "newCape = 20\n",
    "\n",
    "print(\" 망토를 구매할 비용이 가능한지? .\")\n",
    "\n",
    "if wonderBoyAllowance == 0:\n",
    "    print(\" 20 달러 더 필요합니다.\")\n",
    "elif wonderBoyAllowance == 1:\n",
    "    print(\" 19 달러 더 필요합니다.\")\n",
    "elif wonderBoyAllowance == 2:\n",
    "    print(\" 18 달러 더 필요합니다.\")\n",
    "elif wonderBoyAllowance == 3:\n",
    "    print(\" 17 달러 더 필요합니다.\")\n",
    "elif wonderBoyAllowance == 4:\n",
    "    print(\" 16 달러 더 필요합니다s.\")\n",
    "elif wonderBoyAllowance == 5:\n",
    "    print(\" 15 달러 더 필요합니다\")\n",
    "# 15 ~19에 도달 할 때까지 elif를 계속 추가하십시오\n",
    "# 그런 다음 값이 20 이상인 경우 else를 사용하십시오.\n",
    "else:\n",
    "    print(\" 충분히 가지고 있어!\")\n"
   ]
  },
  {
   "cell_type": "code",
   "execution_count": null,
   "metadata": {},
   "outputs": [],
   "source": []
  },
  {
   "cell_type": "code",
   "execution_count": 13,
   "metadata": {},
   "outputs": [
    {
     "name": "stdout",
     "output_type": "stream",
     "text": [
      "Wow...you can afford to buy a new cape!\n",
      "And your old cape IS really stinky!\n",
      "Why not treat yourself to a new cape?\n"
     ]
    }
   ],
   "source": [
    "# Create a few variables to evaluate\n",
    "wonderBoyAllowance = 20\n",
    "newCape = 20\n",
    "oldCape = 'smelly'\n",
    "# Check to see if allowance is equal to the cost of a new cape AND\n",
    "# that the old cape is \"smelly\"\n",
    "if wonderBoyAllowance >= newCape and oldCape == 'smelly':\n",
    "    print(\"Wow...you can afford to buy a new cape!\")\n",
    "    print(\"And your old cape IS really stinky!\")\n",
    "    print(\"Why not treat yourself to a new cape?\")\n",
    "# If the if fails, this else statement will trigger\n",
    "else:\n",
    "    print(\"Sorry kid, it just isn't time for a new cape yet.\")"
   ]
  },
  {
   "cell_type": "code",
   "execution_count": null,
   "metadata": {},
   "outputs": [],
   "source": []
  },
  {
   "cell_type": "code",
   "execution_count": 14,
   "metadata": {},
   "outputs": [
    {
     "name": "stdout",
     "output_type": "stream",
     "text": [
      "Looks like you can either afford a new cape or new shoes.\n",
      "That's good, because one of them are really stinky!\n"
     ]
    }
   ],
   "source": [
    "# Variables to check\n",
    "wonderBoyAllowance = 20\n",
    "newCape = 20\n",
    "newShoes = 50\n",
    "# Checks if you can afford a new cape OR if you can afford new shoes\n",
    "if wonderBoyAllowance >= newCape or wonderBoyAllowance >= newShoes:\n",
    "    print(\"Looks like you can either afford a new cape or new shoes.\")\n",
    "    print(\"That's good, because one of them are really stinky!\")\n",
    "# If both of the conditionals fail, the else below triggers\n",
    "# If even one of the conditionals are true, the else does not trigger\n",
    "else:\n",
    "    print(\"That's a shame, because one of them is really stanky!\")\n"
   ]
  },
  {
   "cell_type": "code",
   "execution_count": null,
   "metadata": {},
   "outputs": [],
   "source": []
  },
  {
   "cell_type": "code",
   "execution_count": 15,
   "metadata": {},
   "outputs": [
    {
     "name": "stdout",
     "output_type": "stream",
     "text": [
      "You can afford a new cape.\n",
      "But how about new shoes?\n",
      "You can only afford the new cape, sorry.\n"
     ]
    }
   ],
   "source": [
    "# Variables to check\n",
    "wonderBoyAllowance = 20\n",
    "newCape = 20\n",
    "newShoes = 50\n",
    "# Checks if you can afford a new cape\n",
    "if wonderBoyAllowance >= newCape:\n",
    "    print(\"You can afford a new cape.\")\n",
    "    print(\"But how about new shoes?\")\n",
    "    # When the if check to see if you can afford the new cape passes it does this\n",
    "    if wonderBoyAllowance >= newShoes:\n",
    "        print(\"Looks like you can afford new shoes as well.\")\n",
    "        print(\"That's good, because the old ones are really stinky!\")\n",
    "        print(\"But can you afford both together?\")\n",
    "    #If you cannot afford the shoes, but can afford the cape, it does this\n",
    "    else:\n",
    "        print(\"You can only afford the new cape, sorry.\")\n",
    "# If both of the conditionals fail, the else below triggers\n",
    "# If even one of the conditionals are true, this else does not trigger\n",
    "else:\n",
    "    print(\"That's a shame, because one of them is really stanky!\")"
   ]
  },
  {
   "cell_type": "code",
   "execution_count": null,
   "metadata": {},
   "outputs": [],
   "source": []
  },
  {
   "cell_type": "code",
   "execution_count": 16,
   "metadata": {},
   "outputs": [
    {
     "name": "stdout",
     "output_type": "stream",
     "text": [
      "Congratulations on finishing your Super-Hero Quiz Intelligence/Reasoning Test.\n",
      "Or, S.Q.U.I.R.T. for short.\n",
      "Let's see if you passed or failed your exam!\n",
      "A passing grade means you are licensed to be a Sidekick!\n",
      "Here are your results: \n",
      "Look at you! Top of your class. Yer a regular little S.Q.U.I.R.T. if I ever saw one!\n"
     ]
    }
   ],
   "source": [
    "# Variable representing Wonder Boy's Test Score\n",
    "wonderBoyScore = 100\n",
    "# Introduction text\n",
    "print(\"Congratulations on finishing your Super-Hero Quiz Intelligence/Reasoning Test.\")\n",
    "print(\"Or, S.Q.U.I.R.T. for short.\")\n",
    "print(\"Let's see if you passed or failed your exam!\")\n",
    "print(\"A passing grade means you are licensed to be a Sidekick!\")\n",
    "# Comparison block to see if Wonder Boy passed his S.Q.U.I.R.T. Exam\n",
    "if wonderBoyScore > 60:\n",
    "    print(\"Here are your results: \")\n",
    "    if wonderBoyScore > 60 and wonderBoyScore < 70:\n",
    "        print(\"Well, you passed by the skin of your teeth!\")\n",
    "    elif wonderBoyScore >= 70 and wonderBoyScore < 80:\n",
    "        print(\"You passed...average isn't so bad. I'm sure you'll make up for it with heart.\")\n",
    "    elif wonderBoyScore >= 80 and wonderBoyScore < 90:\n",
    "        print(\"Wow, not bad at all! You are a regular B+ Plus player!\")\n",
    "    elif wonderBoyScore >= 90:\n",
    "        print(\"Look at you! Top of your class. Yer a regular little S.Q.U.I.R.T. if I ever saw one!\")\n",
    "else:\n",
    "    print(\"Nice try fella, but I'm sorry you didn't pass.\")\n",
    "    print(\"I hear the Burger Blitz needs a security guard - you are a shoo-in!\")"
   ]
  },
  {
   "cell_type": "code",
   "execution_count": null,
   "metadata": {},
   "outputs": [],
   "source": []
  },
  {
   "cell_type": "code",
   "execution_count": 17,
   "metadata": {},
   "outputs": [
    {
     "name": "stdout",
     "output_type": "stream",
     "text": [
      "Yes, 10 is less than 20\n"
     ]
    }
   ],
   "source": [
    "if 10 < 20:\n",
    "    print(\"Yes, 10 is less than 20\")"
   ]
  },
  {
   "cell_type": "code",
   "execution_count": null,
   "metadata": {},
   "outputs": [],
   "source": []
  },
  {
   "cell_type": "code",
   "execution_count": 18,
   "metadata": {},
   "outputs": [
    {
     "name": "stdout",
     "output_type": "stream",
     "text": [
      "Yes, 10 is less than 20\n"
     ]
    }
   ],
   "source": [
    "if 10 < 20:\n",
    "    print(\"Yes, 10 is less than 20\")\n",
    "else:\n",
    "    print(\"Maths are hard! Numbers bad for brain!\")"
   ]
  },
  {
   "cell_type": "code",
   "execution_count": null,
   "metadata": {},
   "outputs": [],
   "source": []
  },
  {
   "cell_type": "code",
   "execution_count": 19,
   "metadata": {},
   "outputs": [
    {
     "name": "stdout",
     "output_type": "stream",
     "text": [
      "Yes, 10 is less than 20\n"
     ]
    }
   ],
   "source": [
    "if 10 < 20:\n",
    "    print(\"Yes, 10 is less than 20\")\n",
    "elif 10 == 20:\n",
    "    print(\"10 shouldn't be equal to 20, but if you say!\")\n",
    "else:\n",
    "    print(\"In our backwards world, 10 is greater than 20!\")"
   ]
  },
  {
   "cell_type": "code",
   "execution_count": null,
   "metadata": {},
   "outputs": [],
   "source": []
  }
 ],
 "metadata": {
  "kernelspec": {
   "display_name": "Python 3",
   "language": "python",
   "name": "python3"
  },
  "language_info": {
   "codemirror_mode": {
    "name": "ipython",
    "version": 3
   },
   "file_extension": ".py",
   "mimetype": "text/x-python",
   "name": "python",
   "nbconvert_exporter": "python",
   "pygments_lexer": "ipython3",
   "version": "3.7.7"
  }
 },
 "nbformat": 4,
 "nbformat_minor": 4
}
