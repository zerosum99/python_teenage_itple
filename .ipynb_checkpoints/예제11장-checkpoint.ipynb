{
 "cells": [
  {
   "cell_type": "code",
   "execution_count": null,
   "metadata": {},
   "outputs": [],
   "source": []
  },
  {
   "cell_type": "code",
   "execution_count": 1,
   "metadata": {},
   "outputs": [
    {
     "name": "stdout",
     "output_type": "stream",
     "text": [
      "Requirement already up-to-date: pygame in c:\\users\\dahlmoon\\anaconda3\\lib\\site-packages (1.9.6)\n"
     ]
    }
   ],
   "source": [
    "!pip install pygame -U"
   ]
  },
  {
   "cell_type": "code",
   "execution_count": null,
   "metadata": {},
   "outputs": [],
   "source": []
  },
  {
   "cell_type": "code",
   "execution_count": null,
   "metadata": {},
   "outputs": [],
   "source": []
  },
  {
   "cell_type": "code",
   "execution_count": 1,
   "metadata": {},
   "outputs": [
    {
     "name": "stdout",
     "output_type": "stream",
     "text": [
      "pygame 1.9.6\n",
      "Hello from the pygame community. https://www.pygame.org/contribute.html\n"
     ]
    }
   ],
   "source": [
    "import pygame\n",
    "from pygame.locals import *\n",
    "import sys"
   ]
  },
  {
   "cell_type": "code",
   "execution_count": null,
   "metadata": {},
   "outputs": [],
   "source": []
  },
  {
   "cell_type": "code",
   "execution_count": 4,
   "metadata": {},
   "outputs": [
    {
     "ename": "SystemExit",
     "evalue": "",
     "output_type": "error",
     "traceback": [
      "An exception has occurred, use %tb to see the full traceback.\n",
      "\u001b[1;31mSystemExit\u001b[0m\n"
     ]
    },
    {
     "name": "stderr",
     "output_type": "stream",
     "text": [
      "C:\\Users\\dahlmoon\\Anaconda3\\lib\\site-packages\\IPython\\core\\interactiveshell.py:3351: UserWarning: To exit: use 'exit', 'quit', or Ctrl-D.\n",
      "  warn(\"To exit: use 'exit', 'quit', or Ctrl-D.\", stacklevel=1)\n"
     ]
    }
   ],
   "source": [
    "# 모듈을 초기화\n",
    "pygame.init()\n",
    "\n",
    "# 스크린 창을  800 x 600 pixels로 지정\n",
    "screen = pygame.display.set_mode((800, 600))\n",
    "\n",
    "# 무한 순환 처리\n",
    "while True:\n",
    "    \n",
    "    #  내부 이벤트를 감지\n",
    "    for event in pygame.event.get():\n",
    "        # 창에 x를 눌러 이벤트를 종료\n",
    "        if event.type == QUIT:\n",
    "            pygame.quit()\n",
    "            sys.exit()\n"
   ]
  },
  {
   "cell_type": "code",
   "execution_count": null,
   "metadata": {},
   "outputs": [],
   "source": []
  },
  {
   "cell_type": "code",
   "execution_count": 5,
   "metadata": {},
   "outputs": [
    {
     "ename": "SystemExit",
     "evalue": "",
     "output_type": "error",
     "traceback": [
      "An exception has occurred, use %tb to see the full traceback.\n",
      "\u001b[1;31mSystemExit\u001b[0m\n"
     ]
    }
   ],
   "source": [
    "#  파란색 화면 :RGB (Red, Green Blue) 값을 변수에 할당한다. \n",
    "colorBLUE = (0, 0, 255)\n",
    "# 파이 게임 초기화 \n",
    "pygame.init()\n",
    "# 스크린 표시\n",
    "screen = pygame.display.set_mode((800, 600), 0, 32)\n",
    "# 화면 캡션 세팅\n",
    "pygame.display.set_caption(\"Super Sidekick: Sophie the Bulldog!\")\n",
    "# 화면에 색상 표시\n",
    "screen.fill(colorBLUE)\n",
    "# 화면 업데이트\n",
    "pygame.display.update()\n",
    "# Create a variable to hold the value of whether\n",
    "# The game should end or not\n",
    "running = True\n",
    "#  게임을 실행한다. \n",
    "while True:\n",
    "    # 발생하는 이벤트를 받는다 \n",
    "    for event in pygame.event.get():\n",
    "        # 종료이벤트를 받아서 종료한다.\n",
    "        if event.type == QUIT:\n",
    "            pygame.quit()\n",
    "            sys.exit()\n"
   ]
  },
  {
   "cell_type": "code",
   "execution_count": null,
   "metadata": {},
   "outputs": [],
   "source": []
  },
  {
   "cell_type": "code",
   "execution_count": null,
   "metadata": {},
   "outputs": [],
   "source": [
    "sidekick = pygame.Rect(100,100, 200, 200)\n",
    "sophie = pygame.image.load('SophieTheBullDog.jpg')\n",
    "thumbnail_sophie = pygame.transform.scale(sophie, (200,200))\n",
    "screen.blit(thumbnail_sophie, sidekick)"
   ]
  },
  {
   "cell_type": "code",
   "execution_count": null,
   "metadata": {},
   "outputs": [],
   "source": []
  },
  {
   "cell_type": "code",
   "execution_count": 6,
   "metadata": {},
   "outputs": [
    {
     "ename": "SystemExit",
     "evalue": "",
     "output_type": "error",
     "traceback": [
      "An exception has occurred, use %tb to see the full traceback.\n",
      "\u001b[1;31mSystemExit\u001b[0m\n"
     ]
    }
   ],
   "source": [
    "\n",
    "colorBLUE = (0, 0, 255)\n",
    "pygame.init()\n",
    "screen = pygame.display.set_mode((800, 600), 0, 32)\n",
    "pygame.display.set_caption(\"Super Sidekick: Sophie the Bulldog!\")\n",
    "screen.fill(colorBLUE)\n",
    "\n",
    "# 이미지 크기 지정 \n",
    "sidekick = pygame.Rect(100,100, 200, 200)\n",
    "# 이미지 로딩 \n",
    "sophie = pygame.image.load('./이미지/SophieTheBullDog.jpg')\n",
    "# 이미지 리사이즈 지정 \n",
    "thumbnail_sophie = pygame.transform.scale(sophie, (200,200))\n",
    "# 이미지를 스크린에 표시하기 \n",
    "screen.blit(thumbnail_sophie, sidekick)\n",
    "# 화면 갱신 \n",
    "pygame.display.update()\n",
    "# Create a variable to hold the value of whether\n",
    "# 게임시작 \n",
    "while True:\n",
    "    for event in pygame.event.get():\n",
    "        if event.type == QUIT:\n",
    "            pygame.quit()\n",
    "            sys.exit()\n"
   ]
  },
  {
   "cell_type": "code",
   "execution_count": null,
   "metadata": {},
   "outputs": [],
   "source": []
  },
  {
   "cell_type": "code",
   "execution_count": null,
   "metadata": {},
   "outputs": [],
   "source": [
    "# 글씨 입력준비\n",
    "myFont = pygame.font.SysFont('None', 40)\n",
    "# 텍스트를 만든다\n",
    "firstText = myFont.render(\"Sophie The Bulldog\", True, colorRED, colorBLUE)\n",
    "\n",
    "# 글자가 들어갈 공간과 위치를 지정한다\n",
    "firstTextRect = firstText.get_rect()\n",
    "firstTextRect.left = 100\n",
    "firstTextRect.top = 75\n",
    "\n",
    "# 화면에 표시한다. \n",
    "screen.blit(firstText, firstTextRect)\n"
   ]
  },
  {
   "cell_type": "code",
   "execution_count": null,
   "metadata": {},
   "outputs": [],
   "source": []
  },
  {
   "cell_type": "code",
   "execution_count": null,
   "metadata": {},
   "outputs": [],
   "source": [
    "colorRED = (255, 0, 0)"
   ]
  },
  {
   "cell_type": "code",
   "execution_count": null,
   "metadata": {},
   "outputs": [],
   "source": []
  },
  {
   "cell_type": "code",
   "execution_count": null,
   "metadata": {},
   "outputs": [],
   "source": [
    "# 글씨 입력준비\n",
    "myFont = pygame.font.SysFont('None', 40)"
   ]
  },
  {
   "cell_type": "code",
   "execution_count": null,
   "metadata": {},
   "outputs": [],
   "source": []
  },
  {
   "cell_type": "code",
   "execution_count": null,
   "metadata": {},
   "outputs": [],
   "source": [
    "# 텍스트를 만든다\n",
    "firstText = myFont.render(\"Sophie The Bulldog\", True, colorRED, colorBLUE)"
   ]
  },
  {
   "cell_type": "code",
   "execution_count": null,
   "metadata": {},
   "outputs": [],
   "source": []
  },
  {
   "cell_type": "code",
   "execution_count": null,
   "metadata": {},
   "outputs": [],
   "source": []
  },
  {
   "cell_type": "code",
   "execution_count": 3,
   "metadata": {},
   "outputs": [
    {
     "ename": "SystemExit",
     "evalue": "",
     "output_type": "error",
     "traceback": [
      "An exception has occurred, use %tb to see the full traceback.\n",
      "\u001b[1;31mSystemExit\u001b[0m\n"
     ]
    },
    {
     "name": "stderr",
     "output_type": "stream",
     "text": [
      "C:\\Users\\dahlmoon\\Anaconda3\\lib\\site-packages\\IPython\\core\\interactiveshell.py:3351: UserWarning: To exit: use 'exit', 'quit', or Ctrl-D.\n",
      "  warn(\"To exit: use 'exit', 'quit', or Ctrl-D.\", stacklevel=1)\n"
     ]
    }
   ],
   "source": [
    "# 파란색과 붉은 색 지정 \n",
    "colorBLUE = (0, 0, 255)\n",
    "colorRED = (255, 0, 0)\n",
    "pygame.init()\n",
    "screen = pygame.display.set_mode((800, 600), 0, 32)\n",
    "pygame.display.set_caption(\"Super Sidekick: Sophie the Bulldog!\")\n",
    "# 화면을 파란색으로 지정 \n",
    "screen.fill(colorBLUE)\n",
    "# 글씨 입력준비\n",
    "myFont = pygame.font.SysFont('None', 40)\n",
    "# 텍스트를 만든다\n",
    "firstText = myFont.render(\"Sophie The Bulldog\", True, colorRED, colorBLUE)\n",
    "# 글자가 들어갈 공간과 위치를 지정한다\n",
    "firstTextRect = firstText.get_rect()\n",
    "firstTextRect.left = 100\n",
    "firstTextRect.top = 75\n",
    "# 화면에 표시한다. \n",
    "screen.blit(firstText, firstTextRect)\n",
    "# 이미지가 들어갈 공간을 지정한다\n",
    "sidekick = pygame.Rect(100,100, 200, 200)\n",
    "# 이미지를 로딩한다.\n",
    "sophie = pygame.image.load('./이미지/SophieTheBullDog.jpg')\n",
    "# 이미지 사이즈를 지정하면서 변형시킨다 \n",
    "thumbnail_sophie = pygame.transform.scale(sophie, (200,200))\n",
    "# 화면에 글자와 이미지를 표시한다. \n",
    "screen.blit(thumbnail_sophie, sidekick)\n",
    "# 화면을 갱신한다.\n",
    "pygame.display.update()\n",
    "\n",
    "# Create a variable to hold the value of whether\n",
    "# The game should end or not\n",
    "running = True\n",
    "# 사용자와 화면간에 상호작용을 수행\n",
    "while True:\n",
    "    for event in pygame.event.get():\n",
    "        if event.type == QUIT:\n",
    "            pygame.quit()\n",
    "            sys.exit()"
   ]
  },
  {
   "cell_type": "code",
   "execution_count": null,
   "metadata": {},
   "outputs": [],
   "source": []
  },
  {
   "cell_type": "code",
   "execution_count": null,
   "metadata": {},
   "outputs": [],
   "source": [
    "# 다양한 색상을 만듭니다.\n",
    "colorBLUE = (0, 0, 255)\n",
    "colorRED = (255, 0, 0)\n",
    "colorPINK = (255,200,200)\n",
    "colorGREEN = (0,255,0)\n",
    "colorBLACK = (0,0,0)\n",
    "colorWHITE = (255,255,255)\n",
    "colorYELLOW = (255,255,0)"
   ]
  },
  {
   "cell_type": "code",
   "execution_count": null,
   "metadata": {},
   "outputs": [],
   "source": []
  },
  {
   "cell_type": "code",
   "execution_count": null,
   "metadata": {},
   "outputs": [],
   "source": [
    "# 원을 그립니다. \n",
    "pygame.draw.circle(screen, colorRED, (330, 475), 15, 1)\n",
    "pygame.draw.circle(screen, colorYELLOW, (375, 475), 15, 15)\n",
    "pygame.draw.circle(screen, colorPINK, (420, 475), 20, 10)"
   ]
  },
  {
   "cell_type": "code",
   "execution_count": null,
   "metadata": {},
   "outputs": [],
   "source": []
  },
  {
   "cell_type": "code",
   "execution_count": 2,
   "metadata": {},
   "outputs": [
    {
     "ename": "SystemExit",
     "evalue": "",
     "output_type": "error",
     "traceback": [
      "An exception has occurred, use %tb to see the full traceback.\n",
      "\u001b[1;31mSystemExit\u001b[0m\n"
     ]
    },
    {
     "name": "stderr",
     "output_type": "stream",
     "text": [
      "C:\\Users\\dahlmoon\\Anaconda3\\lib\\site-packages\\IPython\\core\\interactiveshell.py:3351: UserWarning: To exit: use 'exit', 'quit', or Ctrl-D.\n",
      "  warn(\"To exit: use 'exit', 'quit', or Ctrl-D.\", stacklevel=1)\n"
     ]
    }
   ],
   "source": [
    "# 다양한 색상을 만듭니다.\n",
    "colorBLUE = (0, 0, 255)\n",
    "colorRED = (255, 0, 0)\n",
    "colorPINK = (255,200,200)\n",
    "colorGREEN = (0,255,0)\n",
    "colorBLACK = (0,0,0)\n",
    "colorWHITE = (255,255,255)\n",
    "colorYELLOW = (255,255,0)\n",
    "\n",
    "# 파이게임을 초기화합니다.\n",
    "pygame.init()\n",
    "\n",
    "# 화면 크기를 조정합니다 \n",
    "screen = pygame.display.set_mode((800, 600), 0, 32)\n",
    "\n",
    "# 전체 화면의 이름을 만듭니다.\n",
    "pygame.display.set_caption(\"Super Sidekick: Sophie the Bulldog!\")\n",
    "# 화면의 기본 색상을 표시합니다 \n",
    "screen.fill(colorBLUE)\n",
    "# 글씨체를 지정합니다. \n",
    "myFont = pygame.font.SysFont('None', 40)\n",
    "# 텍스트를 생성하고 위치를 지정합니다.\n",
    "firstText = myFont.render(\"Sophie The Bulldog\", True, colorRED, colorBLUE)\n",
    "firstTextRect = firstText.get_rect()\n",
    "firstTextRect.left = 100\n",
    "firstTextRect.top = 75\n",
    "# 이미지가 표시될 영역을 지정합니다 \n",
    "screen.blit(firstText, firstTextRect)\n",
    "sidekick = pygame.Rect(100,100, 200, 200)\n",
    "sophie = pygame.image.load('./이미지/SophieTheBullDog.jpg')\n",
    "thumbnail_sophie = pygame.transform.scale(sophie, (200,200))\n",
    "screen.blit(thumbnail_sophie, sidekick)\n",
    "\n",
    "# 원을 그립니다. \n",
    "pygame.draw.circle(screen, colorRED, (330, 475), 15, 1)\n",
    "pygame.draw.circle(screen, colorYELLOW, (375, 475), 15, 15)\n",
    "pygame.draw.circle(screen, colorPINK, (420, 475), 20, 10)\n",
    "\n",
    "# 화면 전체를 갱신합니다. \n",
    "pygame.display.update()\n",
    "\n",
    "running = True\n",
    "while True:\n",
    "    # Get feedback from the player in the form of events\n",
    "    for event in pygame.event.get():\n",
    "        # If the player clicks the red 'x', it is considered a quit event\n",
    "        if event.type == QUIT:\n",
    "            pygame.quit()\n",
    "            sys.exit()"
   ]
  },
  {
   "cell_type": "code",
   "execution_count": null,
   "metadata": {},
   "outputs": [],
   "source": []
  },
  {
   "cell_type": "code",
   "execution_count": null,
   "metadata": {},
   "outputs": [],
   "source": [
    "# 선 사각형 등을 그리기\n",
    "pygame.draw.rect(screen, colorYELLOW, (455, 470, 20, 20), 4)\n",
    "pygame.draw.line(screen, colorRED, (300, 500), (500,500),1)\n",
    "pygame.draw.line(screen, colorYELLOW, (300, 515), (500,515),1)\n",
    "pygame.draw.line(screen, colorRED, (300, 530), (500,530),1)"
   ]
  },
  {
   "cell_type": "code",
   "execution_count": null,
   "metadata": {},
   "outputs": [],
   "source": []
  },
  {
   "cell_type": "code",
   "execution_count": null,
   "metadata": {},
   "outputs": [],
   "source": []
  },
  {
   "cell_type": "code",
   "execution_count": 3,
   "metadata": {},
   "outputs": [
    {
     "ename": "SystemExit",
     "evalue": "",
     "output_type": "error",
     "traceback": [
      "An exception has occurred, use %tb to see the full traceback.\n",
      "\u001b[1;31mSystemExit\u001b[0m\n"
     ]
    }
   ],
   "source": [
    "colorBLUE = (0, 0, 255)\n",
    "colorRED = (255, 0, 0)\n",
    "colorPINK = (255,200,200)\n",
    "colorGREEN = (0,255,0)\n",
    "colorBLACK = (0,0,0)\n",
    "colorWHITE = (255,255,255)\n",
    "colorYELLOW = (255,255,0)\n",
    "\n",
    "pygame.init()\n",
    "screen = pygame.display.set_mode((800, 600), 0, 32)\n",
    "pygame.display.set_caption(\"Super Sidekick: Sophie the Bulldog!\")\n",
    "screen.fill(colorBLUE)\n",
    "myFont = pygame.font.SysFont('None', 40)\n",
    "firstText = myFont.render(\"Sophie The Bulldog\", True, colorRED, colorBLUE)\n",
    "firstTextRect = firstText.get_rect()\n",
    "firstTextRect.left = 100\n",
    "firstTextRect.top = 75\n",
    "screen.blit(firstText, firstTextRect)\n",
    "sidekick = pygame.Rect(100,100, 200, 200)\n",
    "sophie = pygame.image.load('./이미지/SophieTheBullDog.jpg')\n",
    "thumbnail_sophie = pygame.transform.scale(sophie, (200,200))\n",
    "screen.blit(thumbnail_sophie, sidekick)\n",
    "pygame.draw.circle(screen, colorRED, (330, 475), 15, 1)\n",
    "pygame.draw.circle(screen, colorYELLOW, (375, 475), 15, 15)\n",
    "pygame.draw.circle(screen, colorPINK, (420, 475), 20, 10)\n",
    "\n",
    "# 다양한 도형 그리기\n",
    "pygame.draw.rect(screen, colorYELLOW, (455, 470, 20, 20), 4)\n",
    "pygame.draw.line(screen, colorRED, (300, 500), (500,500),1)\n",
    "pygame.draw.line(screen, colorYELLOW, (300, 515), (500,515),1)\n",
    "pygame.draw.line(screen, colorRED, (300, 530), (500,530),1)\n",
    "\n",
    "pygame.display.update()\n",
    "running = True\n",
    "while True:\n",
    "    # Get feedback from the player in the form of events\n",
    "    for event in pygame.event.get():\n",
    "        # If the player clicks the red 'x', it is considered a quit event\n",
    "        if event.type == QUIT:\n",
    "            pygame.quit()\n",
    "            sys.exit()\n"
   ]
  },
  {
   "cell_type": "code",
   "execution_count": null,
   "metadata": {},
   "outputs": [],
   "source": []
  },
  {
   "cell_type": "code",
   "execution_count": null,
   "metadata": {},
   "outputs": [],
   "source": [
    "# 이벤트 추가하기 \n",
    "while True:\n",
    "    for event in pygame.event.get():\n",
    "        if event.type == QUIT:\n",
    "            pygame.quit()\n",
    "            sys.exit()\n",
    "        if event.type == pygame.KEYDOWN:\n",
    "            if event.key == pygame.K_q:\n",
    "                pygame.quit()\n",
    "                sys.exit()\n",
    "        if event.type == pygame.KEYDOWN:\n",
    "            if event.key == pygame.K_ESCAPE:\n",
    "                pygame.quit()\n",
    "                sys.exit()"
   ]
  },
  {
   "cell_type": "code",
   "execution_count": null,
   "metadata": {},
   "outputs": [],
   "source": []
  },
  {
   "cell_type": "code",
   "execution_count": null,
   "metadata": {},
   "outputs": [],
   "source": [
    "if event.type == pygame.KEYDOWN:\n",
    "    if event.key == pygame.K_a:\n",
    "        # do something..."
   ]
  },
  {
   "cell_type": "code",
   "execution_count": null,
   "metadata": {},
   "outputs": [],
   "source": []
  },
  {
   "cell_type": "code",
   "execution_count": 2,
   "metadata": {},
   "outputs": [
    {
     "ename": "SystemExit",
     "evalue": "",
     "output_type": "error",
     "traceback": [
      "An exception has occurred, use %tb to see the full traceback.\n",
      "\u001b[1;31mSystemExit\u001b[0m\n"
     ]
    },
    {
     "name": "stderr",
     "output_type": "stream",
     "text": [
      "C:\\Users\\dahlmoon\\Anaconda3\\lib\\site-packages\\IPython\\core\\interactiveshell.py:3351: UserWarning: To exit: use 'exit', 'quit', or Ctrl-D.\n",
      "  warn(\"To exit: use 'exit', 'quit', or Ctrl-D.\", stacklevel=1)\n"
     ]
    }
   ],
   "source": [
    "import random\n",
    "\n",
    "colorBLUE = (0, 0, 255)\n",
    "colorRED = (255, 0, 0)\n",
    "colorPINK = (255,200,200)\n",
    "colorGREEN = (0,255,0)\n",
    "colorBLACK = (0,0,0)\n",
    "colorWHITE = (255,255,255)\n",
    "colorYELLOW = (255,255,0)\n",
    "pygame.init()\n",
    "screen = pygame.display.set_mode((800, 600), 0, 32)\n",
    "pygame.display.set_caption(\"Super Sidekick: Sophie the Bulldog!\")\n",
    "screen.fill(colorBLUE)\n",
    "myFont = pygame.font.SysFont('None', 40)\n",
    "firstText = myFont.render(\"Sophie The Bulldog\", True, colorRED, colorBLUE)\n",
    "firstTextRect = firstText.get_rect()\n",
    "firstTextRect.left = 100\n",
    "firstTextRect.top = 75\n",
    "screen.blit(firstText, firstTextRect)\n",
    "sidekick = pygame.Rect(100,100, 200, 200)\n",
    "sophie = pygame.image.load('./이미지/SophieTheBullDog.jpg')\n",
    "thumbnail_sophie = pygame.transform.scale(sophie, (200,200))\n",
    "screen.blit(thumbnail_sophie, sidekick)\n",
    "# \n",
    "pygame.draw.circle(screen, colorRED, (330, 475), 15, 1)\n",
    "pygame.draw.circle(screen, colorYELLOW, (375, 475), 15, 15)\n",
    "pygame.draw.circle(screen, colorPINK, (420, 475), 20, 10)\n",
    "pygame.draw.rect(screen, colorYELLOW, (455, 470, 20, 20), 4)\n",
    "pygame.draw.line(screen, colorRED, (300, 500), (500,500),1)\n",
    "pygame.draw.line(screen, colorYELLOW, (300, 515), (500,515),1)\n",
    "pygame.draw.line(screen, colorRED, (300, 530), (500,530),1)\n",
    "pygame.display.update()\n",
    "running = True\n",
    "# 이벤트 추가하기 \n",
    "while True:\n",
    "    for event in pygame.event.get():\n",
    "        if event.type == QUIT:\n",
    "            pygame.quit()\n",
    "            sys.exit()\n",
    "        if event.type == pygame.KEYDOWN:\n",
    "            if event.key == pygame.K_q:\n",
    "                pygame.quit()\n",
    "                sys.exit()\n",
    "        if event.type == pygame.KEYDOWN:\n",
    "            if event.key == pygame.K_ESCAPE:\n",
    "                pygame.quit()\n",
    "                sys.exit()"
   ]
  },
  {
   "cell_type": "code",
   "execution_count": null,
   "metadata": {},
   "outputs": [],
   "source": []
  },
  {
   "cell_type": "code",
   "execution_count": null,
   "metadata": {},
   "outputs": [],
   "source": [
    "## 두개를 지정해야 키보드 처리할 때 글자가 화면에 나왔다가 사라짐\n",
    "if event.type == pygame.KEYDOWN:\n",
    "    if event.key == pygame.K_b:\n",
    "        barkText = myFont.render(\"Bark!\", True, colorRED, colorBLUE)\n",
    "        barkTextRect = barkText.get_rect()\n",
    "        barkTextRect.left = 300\n",
    "        barkTextRect.top = 175\n",
    "        screen.blit(barkText, barkTextRect)\n",
    "        pygame.display.update()\n",
    "\n",
    "        \n",
    "if event.type == pygame.KEYUP:\n",
    "    if event.key == pygame.K_b:\n",
    "        barkText = myFont.render(\"Bark!\", True, colorBLUE, colorBLUE)\n",
    "        barkTextRect = barkText.get_rect()\n",
    "        barkTextRect.left = 300\n",
    "        barkTextRect.top = 175\n",
    "         screen.blit(barkText, barkTextRect)\n",
    "        pygame.display.update()"
   ]
  },
  {
   "cell_type": "code",
   "execution_count": null,
   "metadata": {},
   "outputs": [],
   "source": []
  },
  {
   "cell_type": "code",
   "execution_count": null,
   "metadata": {},
   "outputs": [],
   "source": [
    "if event.key == pygame.K_b:"
   ]
  },
  {
   "cell_type": "code",
   "execution_count": null,
   "metadata": {},
   "outputs": [],
   "source": []
  },
  {
   "cell_type": "code",
   "execution_count": null,
   "metadata": {},
   "outputs": [],
   "source": [
    "barkTextRect = barkText.get_rect()"
   ]
  },
  {
   "cell_type": "code",
   "execution_count": null,
   "metadata": {},
   "outputs": [],
   "source": []
  },
  {
   "cell_type": "code",
   "execution_count": null,
   "metadata": {},
   "outputs": [],
   "source": [
    "barkTextRect.left = 300\n",
    "barkTextRect.top = 175"
   ]
  },
  {
   "cell_type": "code",
   "execution_count": null,
   "metadata": {},
   "outputs": [],
   "source": []
  },
  {
   "cell_type": "code",
   "execution_count": null,
   "metadata": {},
   "outputs": [],
   "source": [
    "if event.type == pygame.KEYUP:\n",
    "    if event.key == pygame.K_b:\n",
    "        barkText = myFont.render(\"Bark!\", True, colorBLUE, colorBLUE)\n",
    "        barkTextRect = barkText.get_rect()\n",
    "        barkTextRect.left = 300\n",
    "        barkTextRect.top = 175\n",
    "         screen.blit(barkText, barkTextRect)\n",
    "        pygame.display.update()"
   ]
  },
  {
   "cell_type": "code",
   "execution_count": null,
   "metadata": {},
   "outputs": [],
   "source": []
  },
  {
   "cell_type": "code",
   "execution_count": null,
   "metadata": {},
   "outputs": [],
   "source": []
  },
  {
   "cell_type": "code",
   "execution_count": 3,
   "metadata": {},
   "outputs": [
    {
     "ename": "SystemExit",
     "evalue": "",
     "output_type": "error",
     "traceback": [
      "An exception has occurred, use %tb to see the full traceback.\n",
      "\u001b[1;31mSystemExit\u001b[0m\n"
     ]
    }
   ],
   "source": [
    "import random\n",
    "\n",
    "colorBLUE = (0, 0, 255)\n",
    "colorRED = (255, 0, 0)\n",
    "colorPINK = (255,200,200)\n",
    "colorGREEN = (0,255,0)\n",
    "colorBLACK = (0,0,0)\n",
    "colorWHITE = (255,255,255)\n",
    "colorYELLOW = (255,255,0)\n",
    "\n",
    "pygame.init()\n",
    "screen = pygame.display.set_mode((800, 600), 0, 32)\n",
    "pygame.display.set_caption(\"Super Sidekick: Sophie the Bulldog!\")\n",
    "screen.fill(colorBLUE)\n",
    "# Prepare our font for text\n",
    "myFont = pygame.font.SysFont('None', 40)\n",
    "firstText = myFont.render(\"Sophie The Bulldog\", True, colorRED, colorBLUE)\n",
    "firstTextRect = firstText.get_rect()\n",
    "firstTextRect.left = 100\n",
    "firstTextRect.top = 75\n",
    "screen.blit(firstText, firstTextRect)\n",
    "sidekick = pygame.Rect(100,100, 200, 200)\n",
    "sophie = pygame.image.load('./이미지/SophieTheBullDog.jpg')\n",
    "\n",
    "thumbnail_sophie = pygame.transform.scale(sophie, (200,200))\n",
    "screen.blit(thumbnail_sophie, sidekick)\n",
    "pygame.draw.circle(screen, colorRED, (330, 475), 15, 1)\n",
    "pygame.draw.circle(screen, colorYELLOW, (375, 475), 15, 15)\n",
    "pygame.draw.circle(screen, colorPINK, (420, 475), 20, 10)\n",
    "pygame.draw.rect(screen, colorYELLOW, (455, 470, 20, 20), 4)\n",
    "pygame.draw.line(screen, colorRED, (300, 500), (500,500),1)\n",
    "pygame.draw.line(screen, colorYELLOW, (300, 515), (500,515),1)\n",
    "pygame.draw.line(screen, colorRED, (300, 530), (500,530),1)\n",
    "pygame.display.update()\n",
    "\n",
    "running = True\n",
    "while True:\n",
    "    for event in pygame.event.get():\n",
    "        if event.type == QUIT:\n",
    "            pygame.quit()\n",
    "            sys.exit()\n",
    " \n",
    "        if event.type == pygame.KEYDOWN:\n",
    "            if event.key == pygame.K_q:   ## 키보드 q  입력\n",
    "                pygame.quit()\n",
    "                sys.exit()\n",
    "                \n",
    "        if event.type == pygame.KEYDOWN:\n",
    "            if event.key == pygame.K_ESCAPE:\n",
    "                pygame.quit()\n",
    "                sys.exit()\n",
    "                \n",
    "         ## 두개를 지정해야 키보드 처리할 때 글자가 화면에 나왔다가 사라짐\n",
    "        if event.type == pygame.KEYDOWN:\n",
    "            if event.key == pygame.K_b:\n",
    "                barkText = myFont.render(\"Bark!\", True, colorRED, colorBLUE)\n",
    "                barkTextRect = barkText.get_rect()\n",
    "                barkTextRect.left = 300\n",
    "                barkTextRect.top = 175\n",
    "                screen.blit(barkText, barkTextRect)\n",
    "                pygame.display.update()\n",
    " \n",
    "        if event.type == pygame.KEYUP:\n",
    "            if event.key == pygame.K_b:\n",
    "                barkText = myFont.render(\"Bark!\", True, colorBLUE, colorBLUE)\n",
    "                barkTextRect = barkText.get_rect()\n",
    "                barkTextRect.left = 300\n",
    "                barkTextRect.top = 175\n",
    "                screen.blit(barkText, barkTextRect)\n",
    "                pygame.display.update()\n",
    "\n"
   ]
  },
  {
   "cell_type": "code",
   "execution_count": null,
   "metadata": {},
   "outputs": [],
   "source": []
  },
  {
   "cell_type": "code",
   "execution_count": null,
   "metadata": {},
   "outputs": [],
   "source": []
  }
 ],
 "metadata": {
  "kernelspec": {
   "display_name": "Python 3",
   "language": "python",
   "name": "python3"
  },
  "language_info": {
   "codemirror_mode": {
    "name": "ipython",
    "version": 3
   },
   "file_extension": ".py",
   "mimetype": "text/x-python",
   "name": "python",
   "nbconvert_exporter": "python",
   "pygments_lexer": "ipython3",
   "version": "3.7.7"
  }
 },
 "nbformat": 4,
 "nbformat_minor": 4
}
