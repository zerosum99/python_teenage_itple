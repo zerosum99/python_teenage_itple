{
 "cells": [
  {
   "cell_type": "code",
   "execution_count": null,
   "metadata": {},
   "outputs": [],
   "source": []
  },
  {
   "cell_type": "code",
   "execution_count": 2,
   "metadata": {},
   "outputs": [],
   "source": [
    "# 무작위 추출 모듈을 import 한다.\n",
    "import random\n",
    "\n",
    "# 시간을 관리하는 모듈을 import 한다.\n",
    "import time"
   ]
  },
  {
   "cell_type": "code",
   "execution_count": null,
   "metadata": {},
   "outputs": [],
   "source": []
  },
  {
   "cell_type": "code",
   "execution_count": null,
   "metadata": {},
   "outputs": [],
   "source": []
  },
  {
   "cell_type": "code",
   "execution_count": 3,
   "metadata": {},
   "outputs": [],
   "source": [
    "brains = 0\n",
    "braun = 0\n",
    "stamina = 0\n",
    "wisdom = 0\n",
    "power = 0\n",
    "constitution = 0\n",
    "dexterity = 0\n",
    "speed = 0\n",
    "answer = ' '"
   ]
  },
  {
   "cell_type": "code",
   "execution_count": null,
   "metadata": {},
   "outputs": [],
   "source": []
  },
  {
   "cell_type": "code",
   "execution_count": 4,
   "metadata": {},
   "outputs": [],
   "source": [
    "# 수퍼 파워를 리스트로 만든다.\n",
    "superPowers = ['Flying', 'Super Strength', 'Telepathy', \n",
    "               'Super Speed', 'Can Eat a Lot of Hot Dogs', 'Good At Skipping Rope']\n",
    "\n",
    "# 이름(First Name)과 성(Last Name)을  리스트로 만든다.\n",
    "superFirstName = ['Wonder','Whatta','Rabid','Incredible', 'Astonishing', \n",
    "                  'Decent', 'Stupendous', 'Above-average', 'That Guy', 'Improbably']\n",
    "superLastName = ['Boy', 'Man', 'Dingo', 'Beefcake', 'Girl', 'Woman', \n",
    "                 'Guy', 'Hero', 'Max', 'Dream', 'Macho Man','Stallion']\n"
   ]
  },
  {
   "cell_type": "code",
   "execution_count": null,
   "metadata": {},
   "outputs": [],
   "source": []
  },
  {
   "cell_type": "code",
   "execution_count": 3,
   "metadata": {},
   "outputs": [
    {
     "name": "stdout",
     "output_type": "stream",
     "text": [
      "Are you ready to create a super hero with the Super Hero Generator 3000?\n",
      " Y/N을 입력하세요 :\n",
      "N\n"
     ]
    }
   ],
   "source": [
    "# 소개 문구를 출력한다. \n",
    "print(\"Are you ready to create a super hero with the Super Hero Generator 3000?\")\n",
    "#  입력함수에 입력할 내용을 표시한다. \n",
    "# input() 함수는 키보드로 입력할 수 있는 환경을 제공한다.\n",
    "#  입력된 내용이 파이썬 문자열이므로 전부 대문자로 표시한다. \n",
    "print(\" Y/N을 입력하세요 :\")\n",
    "answer = input()\n",
    "answer = answer.upper()"
   ]
  },
  {
   "cell_type": "code",
   "execution_count": null,
   "metadata": {},
   "outputs": [],
   "source": []
  },
  {
   "cell_type": "code",
   "execution_count": 2,
   "metadata": {},
   "outputs": [
    {
     "name": "stdout",
     "output_type": "stream",
     "text": [
      " 영어 대문자 Y일때까지 반복됩니다.!\n",
      " Y/N을 선택하세요 :\n",
      "n\n",
      " 영어 대문자 Y일때까지 반복됩니다.!\n",
      " Y/N을 선택하세요 :\n",
      "y\n",
      "자 시작합니다!\n"
     ]
    }
   ],
   "source": [
    "# While 순환문은 answer 변수의 값이  \"Y\"  가 아닐때 처리된다. \n",
    "# 순환문을 종료하려면 'Y'' 문자를 입력한다. \n",
    "answer = \"\"\n",
    "while answer != \"Y\":\n",
    "    print(\" 영어 대문자 Y일때까지 반복됩니다.!\")\n",
    "    print(\" Y/N을 선택하세요 :\")\n",
    "    answer = input()\n",
    "    answer = answer.upper()\n",
    "print(\"자 시작합니다!\")\n"
   ]
  },
  {
   "cell_type": "code",
   "execution_count": null,
   "metadata": {},
   "outputs": [],
   "source": []
  },
  {
   "cell_type": "code",
   "execution_count": 7,
   "metadata": {},
   "outputs": [
    {
     "name": "stdout",
     "output_type": "stream",
     "text": [
      "...........\n",
      "...........\n",
      "...........\n",
      "(I bet you can't stand the suspense!)\n",
      "\n"
     ]
    }
   ],
   "source": [
    "# 처리를 잠시 지연 처리할 때는 sleep 함수를 사용한다.\n",
    "# sleep 함수에 정수로 입력하면 잠시 중단된 후에 다시 실행한다.\n",
    "for i in range(3):\n",
    "    print(\"...........\")\n",
    "    time.sleep(3)\n",
    "    \n",
    "print(\"(I bet you can't stand the suspense!)\")\n",
    "print(\"\")"
   ]
  },
  {
   "cell_type": "code",
   "execution_count": null,
   "metadata": {},
   "outputs": [],
   "source": []
  },
  {
   "cell_type": "code",
   "execution_count": 9,
   "metadata": {},
   "outputs": [],
   "source": [
    "superFirstName = ['Wonder','Whatta','Rabid','Incredible', 'Astonishing',\n",
    "                  'Decent', 'Stupendous', 'Above-average', 'That Guy', 'Improbably']\n",
    "superLastName = ['Boy', 'Man', 'Dingo', 'Beefcake', 'Girl', 'Woman',\n",
    "                 'Guy', 'Hero', 'Max', 'Dream', 'Macho Man','Stallion']"
   ]
  },
  {
   "cell_type": "code",
   "execution_count": null,
   "metadata": {},
   "outputs": [],
   "source": []
  },
  {
   "cell_type": "code",
   "execution_count": 11,
   "metadata": {},
   "outputs": [
    {
     "name": "stdout",
     "output_type": "stream",
     "text": [
      "슈퍼 영웅의 이름 :\n",
      "Astonishing Hero\n"
     ]
    }
   ],
   "source": [
    "# 이름과 성을 무작위로 결합을 위해 choice 함수를 사용한다.\n",
    "superName = random.choice(superFirstName)+ \" \" +random.choice(superLastName)\n",
    "print(\"슈퍼 영웅의 이름 :\")\n",
    "print(superName)"
   ]
  },
  {
   "cell_type": "code",
   "execution_count": null,
   "metadata": {},
   "outputs": [],
   "source": []
  },
  {
   "cell_type": "code",
   "execution_count": 3,
   "metadata": {},
   "outputs": [
    {
     "name": "stdout",
     "output_type": "stream",
     "text": [
      "Are you ready to create a super hero with the Super Hero Generator 3000?\n",
      "Enter Y/N:\n",
      "Y\n",
      "시작하자! \n",
      "무작위 이름 추출 \n",
      "...........\n",
      "...........\n",
      "...........\n",
      "(I bet you can't stand the suspense!)\n",
      "\n",
      "슈퍼 영웅의 이름 :\n",
      "Wonder Boy\n"
     ]
    }
   ],
   "source": [
    "# 무작위 추출 모듈을 import 한다.\n",
    "import random\n",
    "\n",
    "# 시간을 관리하는 모듈을 import 한다.\n",
    "import time\n",
    "\n",
    "# 인물들의 상태 변수를 정의한다.\n",
    "brains = 0\n",
    "braun = 0\n",
    "stamina = 0\n",
    "wisdom = 0\n",
    "power = 0\n",
    "constitution = 0\n",
    "dexterity = 0\n",
    "speed = 0\n",
    "answer = ''\n",
    "\n",
    "# 슈퍼 파워 리스트를 만든다.\n",
    "superPowers = ['Flying', 'Super Strength', 'Telepathy', 'Super Speed', \n",
    "                          'Can Eat a Lot of Hot Dogs', 'Good At Skipping Rope']\n",
    "\n",
    "# 슈퍼 영웅의 이름과 성을 리스트로 만든다. \n",
    "superFirstName = ['Wonder','Whatta','Rabid','Incredible', 'Astonishing', \n",
    "                                'Decent', 'Stupendous', 'Above-average', 'That Guy', 'Improbably']\n",
    "superLastName = ['Boy', 'Man', 'Dingo', 'Beefcake', 'Girl', 'Woman', 'Guy', \n",
    "                                'Hero', 'Max', 'Dream', 'Macho Man','Stallion']\n",
    "\n",
    "# 소개 문구를 출력한다.\n",
    "print(\"Are you ready to create a super hero with the Super Hero Generator 3000?\")\n",
    "\n",
    "#  입력함수에 입력할 내용을 표시한다. \n",
    "# input() 함수는 키보드로 입력할 수 있는 환경을 제공한다.\n",
    "#  입력된 내용이 파이썬 문자열이므로 전부 대문자로 표시한다. \n",
    "print(\"Enter Y/N:\")\n",
    "answer = input()\n",
    "answer = (answer.upper())\n",
    "\n",
    "# While 순환문은 answer 변수의 값이  \"Y\"  가 아닐때 처리된다. \n",
    "# 순환문을 종료하려면 'Y'' 문자를 입력한다. \n",
    "while answer != \"Y\":\n",
    "    print(\"I'm sorry, but you have to choose Y to continue!\")\n",
    "    print(\"Choose Y/N:\")\n",
    "    answer = input()\n",
    "    answer = answer.upper()\n",
    "print(\"시작하자! \")\n",
    "print(\"무작위 이름 추출 \")\n",
    "\n",
    "# Creating suspense using the time() function\n",
    "for i in range(3):\n",
    "    print(\"...........\")\n",
    "    time.sleep(3)\n",
    "    \n",
    "print(\"(I bet you can't stand the suspense!)\")\n",
    "print(\"\")\n",
    "\n",
    "# 이름과 성을 무작위로 결합을 위해 choice 함수를 사용한다.\n",
    "superName = random.choice(superFirstName)+ \" \" +random.choice(superLastName)\n",
    "print(\"슈퍼 영웅의 이름 :\")\n",
    "print(superName)\n"
   ]
  },
  {
   "cell_type": "code",
   "execution_count": null,
   "metadata": {},
   "outputs": [],
   "source": []
  },
  {
   "cell_type": "code",
   "execution_count": 14,
   "metadata": {},
   "outputs": [
    {
     "name": "stdout",
     "output_type": "stream",
     "text": [
      "\n",
      "이제 어떤 슈퍼 파워를 가지고 있는지 알아볼 시간이다.!)\n",
      "(슈퍼 영웅 이름 생성하기)\n",
      "...........\n",
      "...........\n",
      "(nah...you wouldn't like THAT one...)\n",
      "...........\n",
      "...........\n",
      "(almost there....)\n",
      " 새로운 파워는 :\n",
      "Telepathy\n",
      "\n"
     ]
    }
   ],
   "source": [
    "print(\"\")\n",
    "print(\"이제 어떤 슈퍼 파워를 가지고 있는지 알아볼 시간이다.!)\")\n",
    "print(\"(슈퍼 영웅 이름 생성하기)\")\n",
    "\n",
    "for i in range(2):\n",
    "    print(\"...........\")\n",
    "    time.sleep(3)\n",
    "    \n",
    "print(\"(nah...you wouldn't like THAT one...)\")\n",
    "\n",
    "for i in range(2):\n",
    "    print(\"...........\")\n",
    "    time.sleep(3)\n",
    "    \n",
    "print(\"(almost there....)\")\n",
    "\n",
    "# 파워를 무작위로 선택한다.\n",
    "power = random.choice(superPowers)\n",
    "\n",
    "# 새로 선택된 파워를 출력한다.\n",
    "print(\" 새로운 파워는 :\")\n",
    "print(power)\n",
    "print(\"\")"
   ]
  },
  {
   "cell_type": "code",
   "execution_count": null,
   "metadata": {},
   "outputs": [],
   "source": []
  },
  {
   "cell_type": "code",
   "execution_count": 4,
   "metadata": {},
   "outputs": [
    {
     "name": "stdout",
     "output_type": "stream",
     "text": [
      "마지막으로, 상태를 생성합시다!\n",
      "당신은 아주 똑똑할까요? 아주 강합니까? 아주 잘 생겼나요?\n",
      "알아낼 시간!\n",
      "...........\n",
      "...........\n",
      "...........\n",
      " 새로운 상태는 :\n",
      "\n",
      "지능 :  20\n",
      "용맹함 :  2\n",
      " 체력 :  8\n",
      "지혜 :  15\n",
      " 체질 :  3\n",
      " 재치 :  4\n",
      " 속도 :  3\n",
      "\n"
     ]
    }
   ],
   "source": [
    "print ( \"마지막으로, 상태를 생성합시다!\")\n",
    "print ( \"당신은 아주 똑똑할까요? 아주 강합니까? 아주 잘 생겼나요?\")\n",
    "print ( \"알아낼 시간!\")\n",
    "\n",
    "for i in range(3):\n",
    "    print(\"...........\")\n",
    "    time.sleep(3)\n",
    "\n",
    "# 파워에 대한 임의 값을 1부터 20까지의 숫자 중에 선택한다.\n",
    "brains = random.randint(1,20)\n",
    "braun = random.randint(1,20)\n",
    "stamina = random.randint(1,20)\n",
    "wisdom = random.randint(1,20)\n",
    "constitution = random.randint(1,20)\n",
    "dexterity = random.randint(1,20)\n",
    "speed = random.randint(1,20)\n",
    "\n",
    "# 현재 상태를 출력한다. \n",
    "print(\" 새로운 상태는 :\")\n",
    "print(\"\")\n",
    "print(\"지능 : \", brains)\n",
    "print(\"용맹함 : \", braun)\n",
    "print(\" 체력 : \", stamina)\n",
    "print(\"지혜 : \", wisdom)\n",
    "print(\" 체질 : \", constitution)\n",
    "print(\" 재치 : \", dexterity)\n",
    "print(\" 속도 : \", speed)\n",
    "print(\"\")"
   ]
  },
  {
   "cell_type": "code",
   "execution_count": 20,
   "metadata": {},
   "outputs": [],
   "source": [
    "brains = random.randint(1,20)\n",
    "braun = random.randint(1,20)\n",
    "stamina = random.randint(1,20)\n",
    "wisdom = random.randint(1,20)\n",
    "constitution = random.randint(1,20)\n",
    "dexterity = random.randint(1,20)\n",
    "speed = random.randint(1,20)\n"
   ]
  },
  {
   "cell_type": "code",
   "execution_count": null,
   "metadata": {},
   "outputs": [],
   "source": []
  },
  {
   "cell_type": "code",
   "execution_count": null,
   "metadata": {},
   "outputs": [],
   "source": []
  },
  {
   "cell_type": "code",
   "execution_count": 6,
   "metadata": {},
   "outputs": [
    {
     "name": "stdout",
     "output_type": "stream",
     "text": [
      "Are you ready to create a super hero with the Super Hero Generator 3000?\n",
      "Enter Y/N:\n",
      "Y\n",
      "시작하자!\n",
      "무작위 이름 선택 ...\n",
      "...........\n",
      "...........\n",
      "...........\n",
      "(I bet you can't stand the suspense!)\n",
      "\n",
      "Your Super Hero Name is:\n",
      "Whatta Max\n",
      "\n",
      "Now it's time to see what super power you have!)\n",
      "(generating super hero power...)\n",
      "...........\n",
      "...........\n",
      "(nah...you wouldn't like THAT one...)\n",
      "...........\n",
      "...........\n",
      "(almost there....)\n",
      "슈퍼 파워는 :\n",
      "Telepathy\n",
      "\n",
      "Last but not least, let's generate your stats!\n",
      "Will you be super smart? Super strong? Super Good Looking?\n",
      "Time to find out!\n",
      "...........\n",
      "...........\n",
      "...........\n",
      "새로운 상태를 알아본다 :\n",
      "\n",
      " 지능 :  17\n",
      " 용맹함:  14\n",
      " 체력 :  20\n",
      "지혜 :  5\n",
      " 체질 :  17\n",
      " 재치 :  19\n",
      " 속도 :  17\n",
      "\n",
      "새로운 슈퍼 히어로의 요약입니다!\n",
      "Super Hero Generator 3000을 사용해 주셔서 감사합니다!\n",
      "모든 친구들에게 말 해주세요!\n",
      "\n",
      " 슈퍼 영웅 요약 :\n",
      "\n",
      "\n",
      "슈퍼 영웅 이름 :  Whatta Max\n",
      " 슈퍼 파워 :  Telepathy\n",
      "\n",
      " 지능 :  17\n",
      " 용맹함 :  14\n",
      " 체력 :  20\n",
      "지혜 :  5\n",
      " 체질 :  17\n",
      " 재치 :  19\n",
      " 속도 :  17\n"
     ]
    }
   ],
   "source": [
    "import random\n",
    "import time\n",
    "\n",
    "brains = 0\n",
    "braun = 0\n",
    "stamina = 0\n",
    "wisdom = 0\n",
    "power = 0\n",
    "constitution = 0\n",
    "dexterity = 0\n",
    "speed = 0\n",
    "answer = ''\n",
    "\n",
    "# 슈퍼 파워를 리스트로 만든다 \n",
    "superPowers = ['Flying', 'Super Strength', 'Telepathy', 'Super Speed',\n",
    "               'Can Eat a Lot of Hot Dogs', 'Good At Skipping Rope']\n",
    "\n",
    "# 슈퍼 영융 이름과 성을 리스트로 만든다.\n",
    "superFirstName = ['Wonder','Whatta','Rabid','Incredible', 'Astonishing', \n",
    "                 'Decent', 'Stupendous', 'Above-average', 'That Guy', 'Improbably']\n",
    "superLastName = ['Boy', 'Man', 'Dingo', 'Beefcake', 'Girl', 'Woman', 'Guy', \n",
    "                  'Hero', 'Max', 'Dream', 'Macho Man','Stallion']\n",
    "\n",
    "# Introductory text\n",
    "print(\"Are you ready to create a super hero with the Super Hero Generator 3000?\")\n",
    "\n",
    "#  입력함수에 입력할 내용을 표시한다. \n",
    "# input() 함수는 키보드로 입력할 수 있는 환경을 제공한다.\n",
    "#  입력된 내용이 파이썬 문자열이므로 전부 대문자로 표시한다. \n",
    "print(\"Enter Y/N:\")\n",
    "answer = input()\n",
    "answer = answer.upper()\n",
    "      \n",
    "# While 순환문은 answer 변수의 값이  \"Y\"  가 아닐때 처리된다. \n",
    "# 순환문을 종료하려면 'Y'' 문자를 입력한다. \n",
    "while answer != \"Y\":\n",
    "    print(\"I'm sorry, but you have to choose Y to continue!\")\n",
    "    print(\"Choose Y/N:\")\n",
    "    answer = input()\n",
    "    answer = answer.upper()\n",
    "print(\"시작하자!\")\n",
    "print(\"무작위 이름 선택 ...\")\n",
    "\n",
    "for i in range(3):\n",
    "    print(\"...........\")\n",
    "    time.sleep(3)\n",
    "print(\"(I bet you can't stand the suspense!)\")\n",
    "print(\"\")\n",
    "\n",
    "#슈퍼 영웅 이름을 선택한다 \n",
    "superName = random.choice(superFirstName)+ \" \" +random.choice(superLastName)\n",
    "print(\"Your Super Hero Name is:\")\n",
    "print(superName)\n",
    "print(\"\")\n",
    "print(\"Now it's time to see what super power you have!)\")\n",
    "print(\"(generating super hero power...)\")\n",
    "\n",
    "# Creating dramatic effect again\n",
    "for i in range(2):\n",
    "    print(\"...........\")\n",
    "    time.sleep(3)\n",
    "print(\"(nah...you wouldn't like THAT one...)\")\n",
    "for i in range(2):\n",
    "    print(\"...........\")\n",
    "    time.sleep(3)\n",
    "print(\"(almost there....)\")\n",
    "\n",
    "# 슈퍼 파워를 선택한다. \n",
    "power = random.choice(superPowers)\n",
    "# Printing out the variable power and some text\n",
    "print(\"슈퍼 파워는 :\")\n",
    "print(power)\n",
    "print(\"\")\n",
    "print(\"Last but not least, let's generate your stats!\")\n",
    "print(\"Will you be super smart? Super strong? Super Good Looking?\")\n",
    "print(\"Time to find out!\")\n",
    "\n",
    "# Creating dramatic effect and slowing the program down again\n",
    "for i in range(3):\n",
    "    print(\"...........\")\n",
    "    time.sleep(3)\n",
    "\n",
    "# 1-20 까지의 슈퍼 파워을 선택한다 \n",
    "brains = random.randint(1,20)\n",
    "braun = random.randint(1,20)\n",
    "stamina = random.randint(1,20)\n",
    "wisdom = random.randint(1,20)\n",
    "constitution = random.randint(1,20)\n",
    "dexterity = random.randint(1,20)\n",
    "speed = random.randint(1,20)\n",
    "\n",
    "# 상태를 출력합니다\n",
    "print(\"새로운 상태를 알아본다 :\")\n",
    "print(\"\")\n",
    "print(\" 지능 : \", brains)\n",
    "print(\" 용맹함: \", braun)\n",
    "print(\" 체력 : \", stamina)\n",
    "print(\"지혜 : \", wisdom)\n",
    "print(\" 체질 : \", constitution)\n",
    "print(\" 재치 : \", dexterity)\n",
    "print(\" 속도 : \", speed)\n",
    "print(\"\")\n",
    "\n",
    "# 슈퍼 영웅과 슈퍼 파워를  출력한다 \n",
    "print ( \"새로운 슈퍼 히어로의 요약입니다!\")\n",
    "print ( \"Super Hero Generator 3000을 사용해 주셔서 감사합니다!\")\n",
    "print ( \"모든 친구들에게 말 해주세요!\")\n",
    "print(\"\")\n",
    "print(\" 슈퍼 영웅 요약 :\")\n",
    "print(\"\")\n",
    "print(\"\")\n",
    "print(\"슈퍼 영웅 이름 : \", superName)\n",
    "print(\" 슈퍼 파워 : \", power)\n",
    "print(\"\")\n",
    "print(\" 지능 : \", brains)\n",
    "print(\" 용맹함 : \", braun)\n",
    "print(\" 체력 : \", stamina)\n",
    "print(\"지혜 : \", wisdom)\n",
    "print(\" 체질 : \", constitution)\n",
    "print(\" 재치 : \", dexterity)\n",
    "print(\" 속도 : \", speed)\n"
   ]
  },
  {
   "cell_type": "code",
   "execution_count": null,
   "metadata": {},
   "outputs": [],
   "source": []
  },
  {
   "cell_type": "code",
   "execution_count": null,
   "metadata": {},
   "outputs": [],
   "source": []
  }
 ],
 "metadata": {
  "kernelspec": {
   "display_name": "Python 3",
   "language": "python",
   "name": "python3"
  },
  "language_info": {
   "codemirror_mode": {
    "name": "ipython",
    "version": 3
   },
   "file_extension": ".py",
   "mimetype": "text/x-python",
   "name": "python",
   "nbconvert_exporter": "python",
   "pygments_lexer": "ipython3",
   "version": "3.7.7"
  }
 },
 "nbformat": 4,
 "nbformat_minor": 4
}
