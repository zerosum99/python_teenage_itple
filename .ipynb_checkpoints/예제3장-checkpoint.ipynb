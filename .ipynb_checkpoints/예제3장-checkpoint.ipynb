{
 "cells": [
  {
   "cell_type": "code",
   "execution_count": 1,
   "metadata": {},
   "outputs": [],
   "source": [
    "# 이 코드 블록은 무작위로 영웅의 통계를 계산합니다."
   ]
  },
  {
   "cell_type": "code",
   "execution_count": null,
   "metadata": {},
   "outputs": [],
   "source": []
  },
  {
   "cell_type": "code",
   "execution_count": 2,
   "metadata": {},
   "outputs": [],
   "source": [
    "import random\n",
    "# 이 코드 블록은 무작위로 영웅의 통계를 계산합니다.\n",
    "\n",
    "strength = random.randint(1,20)\n",
    "intelligence = random.randint(1,20)\n",
    "endurance = random.randint(1,20)\n",
    "wisdom = random.randint(1,20)\n",
    "print(\" 인물의 통계 :\")\n",
    "print(\" 힘 :\", strength)\n",
    "print(\" 지성 \", intelligence)\n",
    "print(\" 지구력 \", endurance)\n",
    "print(\" 지혜 \", wisdom)"
   ]
  },
  {
   "cell_type": "code",
   "execution_count": null,
   "metadata": {},
   "outputs": [],
   "source": []
  },
  {
   "cell_type": "code",
   "execution_count": 3,
   "metadata": {},
   "outputs": [
    {
     "name": "stdout",
     "output_type": "stream",
     "text": [
      "Your character's statistics are:\n",
      "Strength: 14\n",
      "Intelligence 4\n",
      "Endurance 16\n",
      "Wisdom 11\n"
     ]
    }
   ],
   "source": [
    "import random\n",
    "# 이 코드 블록은 무작위로 영웅의 통계를 계산합니다.\n",
    "strength = random.randint(1,20)\n",
    "intelligence = random.randint(1,20)\n",
    "endurance = random.randint(1,20)\n",
    "wisdom = random.randint(1,20)\n",
    "\n",
    "# 랜덤 계산 코드 종료\n",
    "print(\" 인물의 통계 :\")\n",
    "print(\" 힘 :\", strength)\n",
    "print(\" 지성 \", intelligence)\n",
    "print(\" 지구력 \", endurance)\n",
    "print(\" 지혜 \", wisdom)"
   ]
  },
  {
   "cell_type": "code",
   "execution_count": null,
   "metadata": {},
   "outputs": [],
   "source": []
  },
  {
   "cell_type": "code",
   "execution_count": 1,
   "metadata": {},
   "outputs": [
    {
     "name": "stdout",
     "output_type": "stream",
     "text": [
      " 인물의 통계 :\n",
      " 힘 : 4\n",
      " 지성  9\n",
      " 지구력  18\n",
      " 지혜  11\n"
     ]
    }
   ],
   "source": [
    "# 랜덤 함수 가져 오기\n",
    "import random\n",
    "#이 코드는 James Payne이 작성했습니다.\n",
    "# Apress Books에서 청소년을위한 Python으로 출판\n",
    "#이 코드 블록은 무작위로 영웅의 상태를 계산합니다.\n",
    "strength = random.randint(1,20)\n",
    "intelligence = random.randint(1,20)\n",
    "endurance = random.randint(1,20)\n",
    "wisdom = random.randint(1,20)\n",
    "# 난수 생성기 코드의 끝\n",
    "# 플레이어 통계를 출력합니다\n",
    "print(\" 인물의 통계 :\")\n",
    "print(\" 힘 :\", strength)\n",
    "print(\" 지성 \", intelligence)\n",
    "print(\" 지구력 \", endurance)\n",
    "print(\" 지혜 \", wisdom)"
   ]
  },
  {
   "cell_type": "code",
   "execution_count": null,
   "metadata": {},
   "outputs": [],
   "source": []
  },
  {
   "cell_type": "code",
   "execution_count": 5,
   "metadata": {},
   "outputs": [],
   "source": [
    "import random  # 랜덤 모듈 가져 오기"
   ]
  },
  {
   "cell_type": "code",
   "execution_count": null,
   "metadata": {},
   "outputs": [],
   "source": []
  },
  {
   "cell_type": "code",
   "execution_count": 1,
   "metadata": {},
   "outputs": [
    {
     "name": "stdout",
     "output_type": "stream",
     "text": [
      " 인물의 통계 :\n",
      " 지구력  2\n",
      " 지혜  10\n"
     ]
    }
   ],
   "source": [
    "import random\n",
    "strength = random.randint(1,20)\n",
    "intelligence = random.randint(1,20)\n",
    "endurance = random.randint(1,20)\n",
    "wisdom = random.randint(1,20)\n",
    "\n",
    "print(\" 인물의 통계 :\")\n",
    "#print(\" 힘 :\", strength)\n",
    "#print(\" 지성 \", intelligence)\n",
    "print(\" 지구력 \", endurance)\n",
    "print(\" 지혜 \", wisdom)"
   ]
  },
  {
   "cell_type": "code",
   "execution_count": null,
   "metadata": {},
   "outputs": [],
   "source": []
  },
  {
   "cell_type": "code",
   "execution_count": 7,
   "metadata": {},
   "outputs": [
    {
     "name": "stdout",
     "output_type": "stream",
     "text": [
      "Holy smokes, it's the Grill Master!\n"
     ]
    }
   ],
   "source": [
    "# 텍스트를 인쇄하는 방법입니다\n",
    "print(\"Holy smokes, it's the Grill Master!\")"
   ]
  },
  {
   "cell_type": "code",
   "execution_count": null,
   "metadata": {},
   "outputs": [],
   "source": []
  },
  {
   "cell_type": "code",
   "execution_count": 8,
   "metadata": {},
   "outputs": [
    {
     "ename": "SyntaxError",
     "evalue": "invalid syntax (<ipython-input-8-e3ec27fd1e11>, line 2)",
     "output_type": "error",
     "traceback": [
      "\u001b[1;36m  File \u001b[1;32m\"<ipython-input-8-e3ec27fd1e11>\"\u001b[1;36m, line \u001b[1;32m2\u001b[0m\n\u001b[1;33m    print('Holy smokes, it's the Grill Master!')\u001b[0m\n\u001b[1;37m                           ^\u001b[0m\n\u001b[1;31mSyntaxError\u001b[0m\u001b[1;31m:\u001b[0m invalid syntax\n"
     ]
    }
   ],
   "source": [
    "# 텍스트를 인쇄하는 방법입니다\n",
    "print('Holy smokes, it's the Grill Master!')"
   ]
  },
  {
   "cell_type": "code",
   "execution_count": null,
   "metadata": {},
   "outputs": [],
   "source": [
    "# 텍스트를 인쇄하는 방법입니다\n",
    "print('Holy smokes, it\\'s the Grill Master!') # 이스케이프 키 사용에 주의"
   ]
  },
  {
   "cell_type": "code",
   "execution_count": null,
   "metadata": {},
   "outputs": [],
   "source": []
  },
  {
   "cell_type": "code",
   "execution_count": null,
   "metadata": {},
   "outputs": [],
   "source": [
    "# 텍스트를 인쇄하는 방법입니다\n",
    "print(\"Holy smokes, it's the Grill Master!\")\n",
    "print(\"His sizzling meats are too good to resist!\")\n",
    "print(\"Quick Wonder Boy! Get some Wonder Bread and make me a sandwich!\")\n",
    "print(\"To quote a genius: 'Man Cannot Live On Bread and Water Alone!'\")"
   ]
  },
  {
   "cell_type": "code",
   "execution_count": null,
   "metadata": {},
   "outputs": [],
   "source": []
  },
  {
   "cell_type": "code",
   "execution_count": null,
   "metadata": {},
   "outputs": [],
   "source": [
    "name = \"Grillmaster\"\n",
    "print(name)"
   ]
  },
  {
   "cell_type": "code",
   "execution_count": null,
   "metadata": {},
   "outputs": [],
   "source": []
  },
  {
   "cell_type": "code",
   "execution_count": null,
   "metadata": {},
   "outputs": [],
   "source": [
    "age = \"42\"\n",
    "graduation = 27\n",
    "print(age + graduation)"
   ]
  },
  {
   "cell_type": "code",
   "execution_count": null,
   "metadata": {},
   "outputs": [],
   "source": []
  },
  {
   "cell_type": "code",
   "execution_count": 2,
   "metadata": {},
   "outputs": [
    {
     "name": "stdout",
     "output_type": "stream",
     "text": [
      "원더보이\n"
     ]
    }
   ],
   "source": [
    "print(\"원더\" + \"보이\")"
   ]
  },
  {
   "cell_type": "code",
   "execution_count": null,
   "metadata": {},
   "outputs": [],
   "source": []
  },
  {
   "cell_type": "code",
   "execution_count": 1,
   "metadata": {},
   "outputs": [
    {
     "name": "stdout",
     "output_type": "stream",
     "text": [
      "원더보이\n"
     ]
    }
   ],
   "source": [
    "firstName = \"원더\"\n",
    "lastName = \"보이\"\n",
    "print(firstName + lastName)"
   ]
  },
  {
   "cell_type": "code",
   "execution_count": null,
   "metadata": {},
   "outputs": [],
   "source": []
  },
  {
   "cell_type": "code",
   "execution_count": 3,
   "metadata": {},
   "outputs": [
    {
     "name": "stdout",
     "output_type": "stream",
     "text": [
      "원더 보이\n"
     ]
    }
   ],
   "source": [
    "print(\"원더 \" + \"보이\")"
   ]
  },
  {
   "cell_type": "code",
   "execution_count": null,
   "metadata": {},
   "outputs": [],
   "source": []
  },
  {
   "cell_type": "code",
   "execution_count": 4,
   "metadata": {},
   "outputs": [
    {
     "name": "stdout",
     "output_type": "stream",
     "text": [
      "원더 보이\n"
     ]
    }
   ],
   "source": [
    "print(\"원더\" + \" 보이\")"
   ]
  },
  {
   "cell_type": "code",
   "execution_count": null,
   "metadata": {},
   "outputs": [],
   "source": []
  },
  {
   "cell_type": "code",
   "execution_count": 5,
   "metadata": {},
   "outputs": [
    {
     "name": "stdout",
     "output_type": "stream",
     "text": [
      "원더 보이\n"
     ]
    }
   ],
   "source": [
    "print(\"원더\" + \" \" + \"보이\")"
   ]
  },
  {
   "cell_type": "code",
   "execution_count": null,
   "metadata": {},
   "outputs": [],
   "source": []
  },
  {
   "cell_type": "code",
   "execution_count": 6,
   "metadata": {},
   "outputs": [
    {
     "name": "stdout",
     "output_type": "stream",
     "text": [
      "원더보이원더보이원더보이원더보이원더보이\n"
     ]
    }
   ],
   "source": [
    "print(\"원더보이\" * 5)"
   ]
  },
  {
   "cell_type": "code",
   "execution_count": null,
   "metadata": {},
   "outputs": [],
   "source": []
  },
  {
   "cell_type": "code",
   "execution_count": 7,
   "metadata": {},
   "outputs": [
    {
     "name": "stdout",
     "output_type": "stream",
     "text": [
      "그릴 마스터 바비큐를 망쳤어!\n",
      "사람들이 너의 이름을 외치고 있다.!\n",
      "원더보이원더보이원더보이원더보이원더보이\n"
     ]
    }
   ],
   "source": [
    "sidekick=\"원더보이\"\n",
    "print(\"그릴 마스터 바비큐를 망쳤어!\")\n",
    "print(\"사람들이 너의 이름을 외치고 있다.!\")\n",
    "print(sidekick *5)"
   ]
  },
  {
   "cell_type": "code",
   "execution_count": null,
   "metadata": {},
   "outputs": [],
   "source": []
  },
  {
   "cell_type": "code",
   "execution_count": 8,
   "metadata": {},
   "outputs": [
    {
     "name": "stdout",
     "output_type": "stream",
     "text": [
      "스파이더맨은 왜 메이 숙모와 문제가 있을까.?\n",
      "그는 인터넷으로 너무 많은 시간을 보내고 있어..\n"
     ]
    }
   ],
   "source": [
    "joke = \"스파이더맨은 왜 메이 숙모와 문제가 있을까.?\"\n",
    "punchline = \"그는 인터넷으로 너무 많은 시간을 보내고 있어..\"\n",
    "print(joke)\n",
    "print(punchline)"
   ]
  },
  {
   "cell_type": "code",
   "execution_count": null,
   "metadata": {},
   "outputs": [],
   "source": []
  },
  {
   "cell_type": "code",
   "execution_count": 9,
   "metadata": {},
   "outputs": [
    {
     "name": "stdout",
     "output_type": "stream",
     "text": [
      "My name is Grill Master\n",
      "and I have an appetite\n",
      "For destruction\n",
      "That is well done!\n"
     ]
    }
   ],
   "source": [
    "print(\"\"\"My name is Grill Master\n",
    "and I have an appetite\n",
    "For destruction\n",
    "That is well done!\"\"\")"
   ]
  },
  {
   "cell_type": "code",
   "execution_count": null,
   "metadata": {},
   "outputs": [],
   "source": []
  },
  {
   "cell_type": "code",
   "execution_count": 10,
   "metadata": {},
   "outputs": [
    {
     "name": "stdout",
     "output_type": "stream",
     "text": [
      "My name is Grill Master\n",
      "and I have an appetite\n",
      "For destruction\n",
      "That is well done!\n"
     ]
    }
   ],
   "source": [
    "print('''My name is Grill Master\n",
    "and I have an appetite\n",
    "For destruction\n",
    "That is well done!''')"
   ]
  },
  {
   "cell_type": "code",
   "execution_count": null,
   "metadata": {},
   "outputs": [],
   "source": []
  },
  {
   "cell_type": "code",
   "execution_count": 12,
   "metadata": {},
   "outputs": [
    {
     "name": "stdout",
     "output_type": "stream",
     "text": [
      "내이름은 \n",
      "원더보이야 \n",
      "그리고 내가 이 타이츠를 입을 수 있다는 것은 \n",
      "놀라운 일이다!\n"
     ]
    }
   ],
   "source": [
    "print(\"내이름은 \\n원더보이야 \\n그리고 내가 이 타이츠를 입을 수 있다는 것은 \\n놀라운 일이다!\")"
   ]
  },
  {
   "cell_type": "code",
   "execution_count": null,
   "metadata": {},
   "outputs": [],
   "source": []
  },
  {
   "cell_type": "code",
   "execution_count": 13,
   "metadata": {},
   "outputs": [
    {
     "name": "stdout",
     "output_type": "stream",
     "text": [
      "My name is\n",
      "Wonder Boy\n",
      "And it is a wonder\n",
      "That I can fit in these tights!\n",
      "There trunks are \ttight\n",
      "tight \ttight \ttight \tso very tight!\n"
     ]
    }
   ],
   "source": [
    "print(\"My name is\\nWonder Boy\\nAnd it is a wonder\\nThat I can fit in these tights!\")\n",
    "print(\"There trunks are \\ttight\")\n",
    "print(\"tight \\ttight \\ttight \\tso very tight!\")"
   ]
  },
  {
   "cell_type": "code",
   "execution_count": null,
   "metadata": {},
   "outputs": [],
   "source": []
  },
  {
   "cell_type": "code",
   "execution_count": 9,
   "metadata": {},
   "outputs": [
    {
     "name": "stdout",
     "output_type": "stream",
     "text": [
      "My name is\n",
      "Wonder Boy\n",
      "And it is a wonder\n",
      "That I can fit in these tights!\n",
      "There trunks are \ttight\n",
      "tight \ttight \ttight \tso very tight!\n",
      "\n",
      "\n",
      "And when the people see me they all shout and agree:\n",
      "\"Boy, those tights are too tight for he!\"\n"
     ]
    }
   ],
   "source": [
    "print(\"My name is\\nWonder Boy\\nAnd it is a wonder\\nThat I can fit in these tights!\")\n",
    "print(\"There trunks are \\ttight\")\n",
    "print(\"tight \\ttight \\ttight \\tso very tight!\")\n",
    "print(\"\\n\")\n",
    "print(\"And when the people see me they all shout and agree:\")\n",
    "print(\"\\\"Boy, those tights are too tight for he!\\\"\")"
   ]
  },
  {
   "cell_type": "code",
   "execution_count": null,
   "metadata": {},
   "outputs": [],
   "source": []
  },
  {
   "cell_type": "code",
   "execution_count": 10,
   "metadata": {},
   "outputs": [
    {
     "name": "stdout",
     "output_type": "stream",
     "text": [
      "\"Boy, those tights are too tight for he!\"\n"
     ]
    }
   ],
   "source": [
    "print(\"\\\"Boy, those tights are too tight for he!\\\"\")"
   ]
  },
  {
   "cell_type": "code",
   "execution_count": null,
   "metadata": {},
   "outputs": [],
   "source": []
  },
  {
   "cell_type": "code",
   "execution_count": 11,
   "metadata": {},
   "outputs": [],
   "source": [
    "superPowers = ['flight', 'cool cape', '20/20 vision', 'Coding Skillz']"
   ]
  },
  {
   "cell_type": "code",
   "execution_count": null,
   "metadata": {},
   "outputs": [],
   "source": []
  },
  {
   "cell_type": "code",
   "execution_count": 12,
   "metadata": {},
   "outputs": [
    {
     "name": "stdout",
     "output_type": "stream",
     "text": [
      "['flight', 'cool cape', '20/20 vision', 'Coding Skillz']\n"
     ]
    }
   ],
   "source": [
    "print(superPowers)"
   ]
  },
  {
   "cell_type": "code",
   "execution_count": null,
   "metadata": {},
   "outputs": [],
   "source": []
  },
  {
   "cell_type": "code",
   "execution_count": 13,
   "metadata": {},
   "outputs": [
    {
     "name": "stdout",
     "output_type": "stream",
     "text": [
      "Coding Skillz\n"
     ]
    }
   ],
   "source": [
    "superPowers = ['flight', 'cool cape', '20/20 vision', 'Coding Skillz']\n",
    "print(superPowers[3])"
   ]
  },
  {
   "cell_type": "code",
   "execution_count": null,
   "metadata": {},
   "outputs": [],
   "source": []
  },
  {
   "cell_type": "code",
   "execution_count": 14,
   "metadata": {},
   "outputs": [
    {
     "name": "stdout",
     "output_type": "stream",
     "text": [
      "flight\n",
      "cool cape\n",
      "20/20 vision\n",
      "Coding Skillz\n"
     ]
    }
   ],
   "source": [
    "superPowers = ['flight', 'cool cape', '20/20 vision', 'Coding Skillz']\n",
    "print(superPowers[0])\n",
    "print(superPowers[1])\n",
    "print(superPowers[2])\n",
    "print(superPowers[3])"
   ]
  },
  {
   "cell_type": "code",
   "execution_count": null,
   "metadata": {},
   "outputs": [],
   "source": []
  },
  {
   "cell_type": "code",
   "execution_count": 15,
   "metadata": {},
   "outputs": [
    {
     "name": "stdout",
     "output_type": "stream",
     "text": [
      "flight cool cape 20/20 vision Coding Skillz\n"
     ]
    }
   ],
   "source": [
    "superPowers = ['flight', 'cool cape', '20/20 vision', 'Coding Skillz']\n",
    "print(superPowers[0], superPowers[1], superPowers[2],superPowers[3])"
   ]
  },
  {
   "cell_type": "code",
   "execution_count": null,
   "metadata": {},
   "outputs": [],
   "source": []
  },
  {
   "cell_type": "code",
   "execution_count": 14,
   "metadata": {},
   "outputs": [
    {
     "name": "stdout",
     "output_type": "stream",
     "text": [
      "flight  인덱스 위치는  0\n",
      "cool cape  인덱스 위치는  1\n",
      "20/20 vision  인덱스 위치는  2\n",
      "Coding Skillz  인덱스 위치는  3\n"
     ]
    }
   ],
   "source": [
    "superPowers = ['flight', 'cool cape', '20/20 vision', 'Coding Skillz']\n",
    "print(superPowers[0], \" 인덱스 위치는  0\")\n",
    "print(superPowers[1], \" 인덱스 위치는  1\")\n",
    "print(superPowers[2], \" 인덱스 위치는  2\")\n",
    "print(superPowers[3], \" 인덱스 위치는  3\")"
   ]
  },
  {
   "cell_type": "code",
   "execution_count": null,
   "metadata": {},
   "outputs": [],
   "source": []
  },
  {
   "cell_type": "code",
   "execution_count": 15,
   "metadata": {},
   "outputs": [
    {
     "name": "stdout",
     "output_type": "stream",
     "text": [
      " 인덱스 위치는  0 is flight\n"
     ]
    }
   ],
   "source": [
    "superPowers = ['flight', 'cool cape', '20/20 vision', 'Coding Skillz']\n",
    "print(\" 인덱스 위치는  0 is\", superPowers[0])"
   ]
  },
  {
   "cell_type": "code",
   "execution_count": null,
   "metadata": {},
   "outputs": [],
   "source": []
  },
  {
   "cell_type": "code",
   "execution_count": 16,
   "metadata": {},
   "outputs": [
    {
     "name": "stdout",
     "output_type": "stream",
     "text": [
      "Behold our fledgling hero/sidekick, \"Wonder Boy!\n",
      "슈퍼 파워 : flight cool cape 20/20 vision Coding Skillz\n",
      "약점 : bologna lactose intolerance social settings tight trunks\n"
     ]
    }
   ],
   "source": [
    "superPowers = ['flight', 'cool cape', '20/20 vision', 'Coding Skillz']\n",
    "superWeaknesses = ['bologna', 'lactose intolerance', 'social settings','tight trunks']\n",
    "print(\"Behold our fledgling hero/sidekick, \\\"Wonder Boy!\")\n",
    "print(\"슈퍼 파워 :\", *superPowers)\n",
    "print(\"약점 :\", *superWeaknesses)"
   ]
  },
  {
   "cell_type": "code",
   "execution_count": null,
   "metadata": {},
   "outputs": [],
   "source": []
  },
  {
   "cell_type": "code",
   "execution_count": 17,
   "metadata": {},
   "outputs": [
    {
     "name": "stdout",
     "output_type": "stream",
     "text": [
      "bologna social settings tight trunks\n"
     ]
    }
   ],
   "source": [
    "superWeaknesses = ['bologna', 'lactose intolerance', 'social settings', 'tight trunks']\n",
    "del superWeaknesses[1]\n",
    "print(*superWeaknesses)"
   ]
  },
  {
   "cell_type": "code",
   "execution_count": null,
   "metadata": {},
   "outputs": [],
   "source": []
  },
  {
   "cell_type": "code",
   "execution_count": 18,
   "metadata": {},
   "outputs": [
    {
     "name": "stdout",
     "output_type": "stream",
     "text": [
      "bologna social settings tight trunks\n"
     ]
    }
   ],
   "source": [
    "superWeaknesses = ['bologna', 'lactose intolerance', 'social settings', 'tight trunks']\n",
    "superWeaknesses.remove('lactose intolerance')\n",
    "print(*superWeaknesses)"
   ]
  },
  {
   "cell_type": "code",
   "execution_count": null,
   "metadata": {},
   "outputs": [],
   "source": []
  },
  {
   "cell_type": "code",
   "execution_count": 19,
   "metadata": {},
   "outputs": [
    {
     "name": "stdout",
     "output_type": "stream",
     "text": [
      "bologna social settings tight trunks Taco Meat\n"
     ]
    }
   ],
   "source": [
    "superWeaknesses = ['bologna', 'lactose intolerance', 'social settings', 'tight trunks']\n",
    "del superWeaknesses[1]\n",
    "superWeaknesses.append('Taco Meat')\n",
    "print(*superWeaknesses)"
   ]
  },
  {
   "cell_type": "code",
   "execution_count": null,
   "metadata": {},
   "outputs": [],
   "source": []
  },
  {
   "cell_type": "code",
   "execution_count": 20,
   "metadata": {},
   "outputs": [
    {
     "name": "stdout",
     "output_type": "stream",
     "text": [
      "bologna Taco Meat social settings tight trunks\n"
     ]
    }
   ],
   "source": [
    "superWeaknesses = ['bologna', 'lactose intolerance', 'social settings', \n",
    "'tight trunks']\n",
    "del superWeaknesses[1]\n",
    "superWeaknesses.insert(1,'Taco Meat')\n",
    "print(*superWeaknesses)"
   ]
  },
  {
   "cell_type": "code",
   "execution_count": null,
   "metadata": {},
   "outputs": [],
   "source": []
  },
  {
   "cell_type": "code",
   "execution_count": 23,
   "metadata": {},
   "outputs": [
    {
     "name": "stdout",
     "output_type": "stream",
     "text": [
      "Taco Meat\n",
      "bologna social settings tight trunks\n"
     ]
    }
   ],
   "source": [
    "print(superWeaknesses.pop(1))\n",
    "print(*superWeaknesses)"
   ]
  },
  {
   "cell_type": "code",
   "execution_count": null,
   "metadata": {},
   "outputs": [],
   "source": []
  },
  {
   "cell_type": "code",
   "execution_count": 24,
   "metadata": {},
   "outputs": [
    {
     "name": "stdout",
     "output_type": "stream",
     "text": [
      "tight trunks social settings bologna\n"
     ]
    }
   ],
   "source": [
    "superWeaknesses.reverse()\n",
    "print(*superWeaknesses)"
   ]
  },
  {
   "cell_type": "code",
   "execution_count": null,
   "metadata": {},
   "outputs": [],
   "source": []
  },
  {
   "cell_type": "code",
   "execution_count": 25,
   "metadata": {},
   "outputs": [
    {
     "name": "stdout",
     "output_type": "stream",
     "text": [
      "bologna social settings tight trunks\n"
     ]
    }
   ],
   "source": [
    "superWeaknesses.sort()\n",
    "print(*superWeaknesses)"
   ]
  },
  {
   "cell_type": "code",
   "execution_count": null,
   "metadata": {},
   "outputs": [],
   "source": []
  },
  {
   "cell_type": "code",
   "execution_count": 26,
   "metadata": {},
   "outputs": [
    {
     "name": "stdout",
     "output_type": "stream",
     "text": [
      "1\n"
     ]
    }
   ],
   "source": [
    "print(superWeaknesses.count('social settings'))"
   ]
  },
  {
   "cell_type": "code",
   "execution_count": null,
   "metadata": {},
   "outputs": [],
   "source": []
  },
  {
   "cell_type": "code",
   "execution_count": 27,
   "metadata": {},
   "outputs": [
    {
     "name": "stdout",
     "output_type": "stream",
     "text": [
      "['bologna', 'social settings', 'tight trunks', '잠자기', '게으름']\n"
     ]
    }
   ],
   "source": [
    "moreSuperWeaknesses = ['잠자기','게으름']\n",
    "superWeaknesses.extend(moreSuperWeaknesses)\n",
    "print(superWeaknesses)"
   ]
  },
  {
   "cell_type": "code",
   "execution_count": null,
   "metadata": {},
   "outputs": [],
   "source": []
  },
  {
   "cell_type": "code",
   "execution_count": 28,
   "metadata": {},
   "outputs": [],
   "source": [
    "superWeaknesses2 = superWeaknesses.copy()"
   ]
  },
  {
   "cell_type": "code",
   "execution_count": 29,
   "metadata": {},
   "outputs": [
    {
     "data": {
      "text/plain": [
       "False"
      ]
     },
     "execution_count": 29,
     "metadata": {},
     "output_type": "execute_result"
    }
   ],
   "source": [
    "superWeaknesses2 is superWeaknesses"
   ]
  },
  {
   "cell_type": "code",
   "execution_count": null,
   "metadata": {},
   "outputs": [],
   "source": []
  },
  {
   "cell_type": "code",
   "execution_count": 30,
   "metadata": {},
   "outputs": [
    {
     "name": "stdout",
     "output_type": "stream",
     "text": [
      "3\n"
     ]
    }
   ],
   "source": [
    "print(superWeaknesses.index('잠자기'))"
   ]
  },
  {
   "cell_type": "code",
   "execution_count": null,
   "metadata": {},
   "outputs": [],
   "source": []
  },
  {
   "cell_type": "code",
   "execution_count": 31,
   "metadata": {},
   "outputs": [
    {
     "name": "stdout",
     "output_type": "stream",
     "text": [
      "[]\n"
     ]
    }
   ],
   "source": [
    "superWeaknesses.clear()\n",
    "print(superWeaknesses)"
   ]
  },
  {
   "cell_type": "code",
   "execution_count": null,
   "metadata": {},
   "outputs": [],
   "source": []
  },
  {
   "cell_type": "code",
   "execution_count": 1,
   "metadata": {},
   "outputs": [],
   "source": [
    "ll = [ x for x in range(10)]"
   ]
  },
  {
   "cell_type": "code",
   "execution_count": 2,
   "metadata": {},
   "outputs": [
    {
     "data": {
      "text/plain": [
       "[0, 1, 2, 3, 4, 5, 6, 7, 8, 9]"
      ]
     },
     "execution_count": 2,
     "metadata": {},
     "output_type": "execute_result"
    }
   ],
   "source": [
    "ll"
   ]
  },
  {
   "cell_type": "code",
   "execution_count": 3,
   "metadata": {},
   "outputs": [
    {
     "name": "stdout",
     "output_type": "stream",
     "text": [
      "<class 'list'>\n"
     ]
    }
   ],
   "source": [
    "print(type(ll))"
   ]
  },
  {
   "cell_type": "code",
   "execution_count": null,
   "metadata": {},
   "outputs": [],
   "source": []
  },
  {
   "cell_type": "code",
   "execution_count": 4,
   "metadata": {},
   "outputs": [],
   "source": [
    "ll_ = []\n",
    "for x in  range(10) :\n",
    "    ll_.append(x)"
   ]
  },
  {
   "cell_type": "code",
   "execution_count": 5,
   "metadata": {},
   "outputs": [
    {
     "data": {
      "text/plain": [
       "[0, 1, 2, 3, 4, 5, 6, 7, 8, 9]"
      ]
     },
     "execution_count": 5,
     "metadata": {},
     "output_type": "execute_result"
    }
   ],
   "source": [
    "ll_"
   ]
  },
  {
   "cell_type": "code",
   "execution_count": null,
   "metadata": {},
   "outputs": [],
   "source": []
  },
  {
   "cell_type": "code",
   "execution_count": null,
   "metadata": {},
   "outputs": [],
   "source": []
  },
  {
   "cell_type": "code",
   "execution_count": null,
   "metadata": {},
   "outputs": [],
   "source": []
  }
 ],
 "metadata": {
  "kernelspec": {
   "display_name": "Python 3",
   "language": "python",
   "name": "python3"
  },
  "language_info": {
   "codemirror_mode": {
    "name": "ipython",
    "version": 3
   },
   "file_extension": ".py",
   "mimetype": "text/x-python",
   "name": "python",
   "nbconvert_exporter": "python",
   "pygments_lexer": "ipython3",
   "version": "3.7.7"
  }
 },
 "nbformat": 4,
 "nbformat_minor": 4
}
