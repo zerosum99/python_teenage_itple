{
 "cells": [
  {
   "cell_type": "code",
   "execution_count": 2,
   "metadata": {
    "scrolled": true
   },
   "outputs": [
    {
     "name": "stdout",
     "output_type": "stream",
     "text": [
      "Sinister Loop stands before you!\n",
      "I'll only let you capture me if you can guess the number in my brain!\n",
      "Enter a number between 0 and 4 gajillion:\n",
      "100\n",
      "Sinister Loop screams in agony!\n",
      "How did you guess the number in his head was 100?\n",
      "Sinister Loop stands before you!\n",
      "I'll only let you capture me if you can guess the number in my brain!\n",
      "Enter a number between 0 and 4 gajillion:\n",
      "42\n",
      "Sinister Loop screams in agony!\n",
      "How did you guess the number in his head was 42?\n"
     ]
    }
   ],
   "source": [
    "# Create an empty variable. We will store data in it later.\n",
    "numberGuess = ''\n",
    "# create a while loop that continues until the user enters the number 42\n",
    "while numberGuess != '42':\n",
    "    print(\"Sinister Loop stands before you!\")\n",
    "    print(\"I'll only let you capture me if you can guess the number in my brain!\")\n",
    "    print(\"Enter a number between 0 and 4 gajillion:\")\n",
    " \n",
    "    numberGuess = input() # Stores the number the user types into numberGuess\n",
    "    print(\"Sinister Loop screams in agony!\")\n",
    "    print(\"How did you guess the number in his head was \" + numberGuess + \"?\")"
   ]
  },
  {
   "cell_type": "code",
   "execution_count": null,
   "metadata": {},
   "outputs": [],
   "source": []
  },
  {
   "cell_type": "code",
   "execution_count": null,
   "metadata": {},
   "outputs": [],
   "source": [
    "while numberGuess != '42':"
   ]
  },
  {
   "cell_type": "code",
   "execution_count": null,
   "metadata": {},
   "outputs": [],
   "source": [
    "numberGuess = input()"
   ]
  },
  {
   "cell_type": "code",
   "execution_count": null,
   "metadata": {},
   "outputs": [],
   "source": []
  },
  {
   "cell_type": "code",
   "execution_count": 1,
   "metadata": {},
   "outputs": [
    {
     "name": "stdout",
     "output_type": "stream",
     "text": [
      "Sinister Loop stands before you!\n",
      "Behold my infinite loop!\n",
      "반복 !\n",
      "반복 !\n",
      "반복 !\n",
      "반복 !\n",
      "반복 !\n",
      "반복 !\n",
      "반복 !\n",
      "반복 !\n",
      "반복 !\n",
      "반복 !\n"
     ]
    }
   ],
   "source": [
    "\n",
    "numberGuess = 42\n",
    "print(\"Sinister Loop stands before you!\")\n",
    "print(\"Behold my infinite loop!\")\n",
    "\n",
    "#  무한 순환하기\n",
    "count = 0 \n",
    "while numberGuess == 42:\n",
    "    print(\"반복 !\")\n",
    "    count += 1\n",
    "    if count == 10 :\n",
    "        break   ## 무환순환없이 끝내기"
   ]
  },
  {
   "cell_type": "code",
   "execution_count": null,
   "metadata": {},
   "outputs": [],
   "source": []
  },
  {
   "cell_type": "code",
   "execution_count": 4,
   "metadata": {},
   "outputs": [
    {
     "name": "stdout",
     "output_type": "stream",
     "text": [
      "시스템에 들어온 것을 환영합니다.\n",
      "비밀번호를 입력하세요!\n",
      "10000\n",
      "비밀번호가 불일치합니다. !\n",
      "비밀번호를 입력하세요!\n",
      "wonderboyiscool2018\n",
      "비밀번호가 일치합니다. !\n"
     ]
    }
   ],
   "source": [
    "# 비밀번호 처리하기\n",
    "password = ''\n",
    "print(\"시스템에 들어온 것을 환영합니다.\")\n",
    "while password != \"wonderboyiscool2018\":\n",
    "    print(\"비밀번호를 입력하세요!\")\n",
    "    password = input()\n",
    "    if password != \"wonderboyiscool2018\":\n",
    "        print(\"비밀번호가 불일치합니다. !\")\n",
    "    \n",
    "print(\"비밀번호가 일치합니다. !\")"
   ]
  },
  {
   "cell_type": "code",
   "execution_count": null,
   "metadata": {},
   "outputs": [],
   "source": []
  },
  {
   "cell_type": "code",
   "execution_count": 5,
   "metadata": {},
   "outputs": [
    {
     "name": "stdout",
     "output_type": "stream",
     "text": [
      "시스템에 들어온 것을 환영합니다.\n",
      "비밀번호를 입력하세요!\n",
      "Wonderboyiscool2018\n",
      "비밀번호가 일치합니다. !\n"
     ]
    }
   ],
   "source": [
    "\n",
    "password = ''\n",
    "print(\"시스템에 들어온 것을 환영합니다.\")\n",
    "while password != \"wonderboyiscool2018\":\n",
    "    print(\"비밀번호를 입력하세요!\")\n",
    "    password = input()\n",
    "    password = password.lower() # 문자열을 소문자로 변환\n",
    "    if password != \"wonderboyiscool2018\":\n",
    "        print(\"비밀번호가 불일치합니다. !\")\n",
    "    \n",
    "print(\"비밀번호가 일치합니다. !\")"
   ]
  },
  {
   "cell_type": "code",
   "execution_count": null,
   "metadata": {},
   "outputs": [],
   "source": []
  },
  {
   "cell_type": "code",
   "execution_count": null,
   "metadata": {},
   "outputs": [],
   "source": [
    "password = password.lower()   "
   ]
  },
  {
   "cell_type": "code",
   "execution_count": null,
   "metadata": {},
   "outputs": [],
   "source": []
  },
  {
   "cell_type": "code",
   "execution_count": 6,
   "metadata": {},
   "outputs": [
    {
     "name": "stdout",
     "output_type": "stream",
     "text": [
      "시스템에 들어온 것을 환영합니다.\n",
      "비밀번호를 입력하세요!\n",
      "1\n",
      "비밀번호를 입력하세요!\n",
      "2\n",
      "비밀번호를 입력하세요!\n",
      "3\n",
      "비밀번호가 불일치합니다!\n"
     ]
    }
   ],
   "source": [
    "# 비밀번호 처리하기\n",
    "password = ''\n",
    "passwordAttempt = 0\n",
    "print(\"시스템에 들어온 것을 환영합니다.\")\n",
    "\n",
    "while password != \"wonderboyiscool2018\":\n",
    "    print(\"비밀번호를 입력하세요!\")\n",
    "    password = input()\n",
    "    password = (password.lower())\n",
    "    passwordAttempt = passwordAttempt + 1\n",
    "    if password == \"wonderboyiscool2018\":\n",
    "        print(\"비밀번호가 일치합니다. : \", password)\n",
    "    elif passwordAttempt == 3:\n",
    "        print(\"비밀번호가 불일치합니다!\")\n",
    "        break"
   ]
  },
  {
   "cell_type": "markdown",
   "metadata": {},
   "source": []
  },
  {
   "cell_type": "code",
   "execution_count": null,
   "metadata": {},
   "outputs": [],
   "source": [
    "passwordAttempt = passwordAttempt + 1"
   ]
  },
  {
   "cell_type": "code",
   "execution_count": null,
   "metadata": {},
   "outputs": [],
   "source": []
  },
  {
   "cell_type": "code",
   "execution_count": 2,
   "metadata": {},
   "outputs": [],
   "source": [
    "r = range(1,11)"
   ]
  },
  {
   "cell_type": "code",
   "execution_count": 3,
   "metadata": {},
   "outputs": [
    {
     "data": {
      "text/plain": [
       "(1, 11, 1)"
      ]
     },
     "execution_count": 3,
     "metadata": {},
     "output_type": "execute_result"
    }
   ],
   "source": [
    "r.start,r.stop, r.step"
   ]
  },
  {
   "cell_type": "code",
   "execution_count": null,
   "metadata": {},
   "outputs": [],
   "source": []
  },
  {
   "cell_type": "code",
   "execution_count": 7,
   "metadata": {},
   "outputs": [
    {
     "name": "stdout",
     "output_type": "stream",
     "text": [
      "반복적인 숫자를 출력합니다. \n",
      "1\n",
      "2\n",
      "3\n",
      "4\n",
      "5\n",
      "6\n",
      "7\n",
      "8\n",
      "9\n",
      "10\n",
      "순환문을 종료합니다!\n"
     ]
    }
   ],
   "source": [
    "print(\"반복적인 숫자를 출력합니다. \")\n",
    "\n",
    "for x in range(1,11):\n",
    "    print(x)\n",
    "print(\"순환문을 종료합니다!\")"
   ]
  },
  {
   "cell_type": "code",
   "execution_count": null,
   "metadata": {},
   "outputs": [],
   "source": []
  },
  {
   "cell_type": "code",
   "execution_count": 8,
   "metadata": {},
   "outputs": [
    {
     "name": "stdout",
     "output_type": "stream",
     "text": [
      "반복적인 숫자를 출력합니다. \n",
      "1 Mississippii\n",
      "2 Mississippii\n",
      "3 Mississippii\n",
      "4 Mississippii\n",
      "5 Mississippii\n",
      "6 Mississippii\n",
      "7 Mississippii\n",
      "8 Mississippii\n",
      "9 Mississippii\n",
      "10 Mississippii\n",
      "순환문을 종료합니다!\n"
     ]
    }
   ],
   "source": [
    "print(\"반복적인 숫자를 출력합니다. \")\n",
    "\n",
    "for x in range(1,11):\n",
    "    print(x, \"Mississippii\")\n",
    "print(\"순환문을 종료합니다!\")"
   ]
  },
  {
   "cell_type": "code",
   "execution_count": null,
   "metadata": {},
   "outputs": [],
   "source": []
  },
  {
   "cell_type": "code",
   "execution_count": null,
   "metadata": {},
   "outputs": [],
   "source": []
  },
  {
   "cell_type": "code",
   "execution_count": 2,
   "metadata": {},
   "outputs": [
    {
     "name": "stdout",
     "output_type": "stream",
     "text": [
      "10\n",
      "9\n",
      "8\n",
      "7\n",
      "6\n",
      "5\n",
      "4\n",
      "3\n",
      "2\n",
      "1\n"
     ]
    }
   ],
   "source": [
    "for x in range(10,0, -1):\n",
    "    print(x)"
   ]
  },
  {
   "cell_type": "code",
   "execution_count": null,
   "metadata": {},
   "outputs": [],
   "source": []
  },
  {
   "cell_type": "code",
   "execution_count": 7,
   "metadata": {},
   "outputs": [
    {
     "name": "stdout",
     "output_type": "stream",
     "text": [
      "10\n",
      "8\n",
      "6\n",
      "4\n",
      "2\n"
     ]
    }
   ],
   "source": [
    "for x in range (10,1, -2):\n",
    "    print(x)"
   ]
  },
  {
   "cell_type": "code",
   "execution_count": null,
   "metadata": {},
   "outputs": [],
   "source": []
  },
  {
   "cell_type": "code",
   "execution_count": 8,
   "metadata": {},
   "outputs": [
    {
     "name": "stdout",
     "output_type": "stream",
     "text": [
      "1\n",
      "3\n",
      "5\n",
      "7\n",
      "9\n"
     ]
    }
   ],
   "source": [
    "for x in range(1,10,2):\n",
    "    print(x)"
   ]
  },
  {
   "cell_type": "code",
   "execution_count": null,
   "metadata": {},
   "outputs": [],
   "source": []
  },
  {
   "cell_type": "code",
   "execution_count": null,
   "metadata": {},
   "outputs": [],
   "source": []
  },
  {
   "cell_type": "code",
   "execution_count": 24,
   "metadata": {},
   "outputs": [
    {
     "name": "stdout",
     "output_type": "stream",
     "text": [
      "Wonder\n",
      "Wonder\n",
      "Wonder\n",
      "Wonder\n",
      "Wonder\n",
      "Wonder\n",
      "Wonder\n",
      "Wonder\n",
      "Wonder\n",
      "Boy!\n"
     ]
    }
   ],
   "source": [
    "for x in range(1,10):\n",
    "    print(\"Wonder\")\n",
    "print(\"Boy!\")"
   ]
  },
  {
   "cell_type": "code",
   "execution_count": null,
   "metadata": {},
   "outputs": [],
   "source": []
  },
  {
   "cell_type": "code",
   "execution_count": 5,
   "metadata": {},
   "outputs": [],
   "source": [
    "nefariousVillains = ['Sinister Loop', 'The Pun-isher',\n",
    "                     'Jack Hammer', 'Frost Bite', 'The Sequin Dream']"
   ]
  },
  {
   "cell_type": "code",
   "execution_count": 11,
   "metadata": {},
   "outputs": [
    {
     "name": "stdout",
     "output_type": "stream",
     "text": [
      " 악당들의 이름 :\n",
      "Sinister Loop\n",
      "The Pun-isher\n",
      "Jack Hammer\n",
      "Frost Bite\n",
      "The Sequin Dream\n"
     ]
    }
   ],
   "source": [
    "print(\" 악당들의 이름 :\")\n",
    "for villains in nefariousVillains:\n",
    "    print(villains)"
   ]
  },
  {
   "cell_type": "code",
   "execution_count": null,
   "metadata": {},
   "outputs": [],
   "source": []
  },
  {
   "cell_type": "code",
   "execution_count": 7,
   "metadata": {},
   "outputs": [
    {
     "name": "stdout",
     "output_type": "stream",
     "text": [
      "S\n",
      "i\n",
      "n\n",
      "i\n",
      "s\n",
      "t\n",
      "e\n",
      "r\n",
      " \n",
      "L\n",
      "o\n",
      "o\n",
      "p\n"
     ]
    }
   ],
   "source": [
    "for x in nefariousVillains[0]:\n",
    "    print(x)"
   ]
  },
  {
   "cell_type": "code",
   "execution_count": null,
   "metadata": {},
   "outputs": [],
   "source": []
  },
  {
   "cell_type": "code",
   "execution_count": 8,
   "metadata": {},
   "outputs": [],
   "source": [
    "st = list(nefariousVillains[0])"
   ]
  },
  {
   "cell_type": "code",
   "execution_count": 9,
   "metadata": {},
   "outputs": [
    {
     "data": {
      "text/plain": [
       "['S', 'i', 'n', 'i', 's', 't', 'e', 'r', ' ', 'L', 'o', 'o', 'p']"
      ]
     },
     "execution_count": 9,
     "metadata": {},
     "output_type": "execute_result"
    }
   ],
   "source": [
    "st"
   ]
  },
  {
   "cell_type": "code",
   "execution_count": 10,
   "metadata": {},
   "outputs": [
    {
     "name": "stdout",
     "output_type": "stream",
     "text": [
      "S\n",
      "i\n",
      "n\n",
      "i\n",
      "s\n",
      "t\n",
      "e\n",
      "r\n",
      " \n",
      "L\n",
      "o\n",
      "o\n",
      "p\n"
     ]
    }
   ],
   "source": [
    "for x in st:\n",
    "    print(x)"
   ]
  },
  {
   "cell_type": "code",
   "execution_count": null,
   "metadata": {},
   "outputs": [],
   "source": []
  },
  {
   "cell_type": "code",
   "execution_count": 12,
   "metadata": {},
   "outputs": [
    {
     "name": "stdout",
     "output_type": "stream",
     "text": [
      "특정 조건일 때 출력하지 않기\n",
      "10 Mississippii!\n",
      "9 Mississippii!\n",
      "8 Mississippii!\n",
      "7 Mississippii!\n",
      "6 Mississippii!\n",
      "5 Mississippii!\n",
      " 5일 때는 contine를 사용 !?'\n",
      "4 Mississippii!\n",
      "3 Mississippii!\n",
      "2 Mississippii!\n",
      "1 Mississippii!\n"
     ]
    }
   ],
   "source": [
    "print(\"특정 조건일 때 출력하지 않기\")\n",
    "      \n",
    "for x in range(10,0,-1):\n",
    "    print(x, \"Mississippii!\")\n",
    "    # 5일때는 다른 내용을 출력한다\n",
    "    if x==5:\n",
    "        print(\" 5일 때는 contine를 사용 !?'\")\n",
    "        continue\n"
   ]
  },
  {
   "cell_type": "code",
   "execution_count": null,
   "metadata": {},
   "outputs": [],
   "source": []
  },
  {
   "cell_type": "code",
   "execution_count": 13,
   "metadata": {},
   "outputs": [
    {
     "name": "stdout",
     "output_type": "stream",
     "text": [
      "특정 조건일 때 출력하지 않기\n",
      "10 Mississippii!\n",
      "9 Mississippii!\n",
      "8 Mississippii!\n",
      "7 Mississippii!\n",
      "6 Mississippii!\n",
      "5 Mississippii!\n",
      "4 Mississippii!\n",
      "3 Mississippii!\n",
      "2 Mississippii!\n",
      "1 Mississippii!\n"
     ]
    }
   ],
   "source": [
    "print(\"특정 조건일 때 출력하지 않기\")\n",
    "      \n",
    "for x in range(10,0,-1):\n",
    "    print(x, \"Mississippii!\")\n",
    "    # 5일때는 다른 내용을 출력한다\n",
    "    if x==5:\n",
    "        pass"
   ]
  },
  {
   "cell_type": "code",
   "execution_count": null,
   "metadata": {},
   "outputs": [],
   "source": []
  },
  {
   "cell_type": "code",
   "execution_count": 3,
   "metadata": {},
   "outputs": [],
   "source": [
    "def func() :\n",
    "    print(' 함수를 실행한다.')"
   ]
  },
  {
   "cell_type": "code",
   "execution_count": 5,
   "metadata": {},
   "outputs": [
    {
     "data": {
      "text/plain": [
       "<function __main__.func()>"
      ]
     },
     "execution_count": 5,
     "metadata": {},
     "output_type": "execute_result"
    }
   ],
   "source": [
    "func"
   ]
  },
  {
   "cell_type": "code",
   "execution_count": 4,
   "metadata": {},
   "outputs": [
    {
     "name": "stdout",
     "output_type": "stream",
     "text": [
      " 함수를 실행한다.\n"
     ]
    }
   ],
   "source": [
    "func()"
   ]
  },
  {
   "cell_type": "code",
   "execution_count": null,
   "metadata": {},
   "outputs": [],
   "source": []
  },
  {
   "cell_type": "code",
   "execution_count": 6,
   "metadata": {},
   "outputs": [],
   "source": [
    "def add(x:int, y:int) -> int :\n",
    "    return x + y"
   ]
  },
  {
   "cell_type": "code",
   "execution_count": 7,
   "metadata": {},
   "outputs": [
    {
     "data": {
      "text/plain": [
       "20"
      ]
     },
     "execution_count": 7,
     "metadata": {},
     "output_type": "execute_result"
    }
   ],
   "source": [
    "add(10, 10)"
   ]
  },
  {
   "cell_type": "code",
   "execution_count": 8,
   "metadata": {},
   "outputs": [
    {
     "data": {
      "text/plain": [
       "20.1"
      ]
     },
     "execution_count": 8,
     "metadata": {},
     "output_type": "execute_result"
    }
   ],
   "source": [
    "add(10, 10.1)"
   ]
  },
  {
   "cell_type": "code",
   "execution_count": null,
   "metadata": {},
   "outputs": [],
   "source": []
  },
  {
   "cell_type": "code",
   "execution_count": 9,
   "metadata": {},
   "outputs": [],
   "source": [
    "def add(x,y) :\n",
    "    return x + y \n",
    "\n",
    "def mul(x,y) :\n",
    "    return x * y \n",
    "\n",
    "def sub(x,y) :\n",
    "    return x - y\n",
    "\n",
    "def div(x,y) :\n",
    "    return x//y"
   ]
  },
  {
   "cell_type": "code",
   "execution_count": 10,
   "metadata": {},
   "outputs": [],
   "source": [
    "op = {'add' : add, 'mul':mul, 'sub':sub, 'div' : div}"
   ]
  },
  {
   "cell_type": "code",
   "execution_count": 11,
   "metadata": {},
   "outputs": [],
   "source": [
    "def func(kind,x,y) :\n",
    "    return op.get(kind, add)(x,y)"
   ]
  },
  {
   "cell_type": "code",
   "execution_count": 12,
   "metadata": {},
   "outputs": [
    {
     "data": {
      "text/plain": [
       "30"
      ]
     },
     "execution_count": 12,
     "metadata": {},
     "output_type": "execute_result"
    }
   ],
   "source": [
    "func('add',10,20)"
   ]
  },
  {
   "cell_type": "code",
   "execution_count": null,
   "metadata": {},
   "outputs": [],
   "source": []
  },
  {
   "cell_type": "code",
   "execution_count": null,
   "metadata": {},
   "outputs": [],
   "source": [
    "def "
   ]
  },
  {
   "cell_type": "code",
   "execution_count": null,
   "metadata": {},
   "outputs": [],
   "source": []
  },
  {
   "cell_type": "code",
   "execution_count": null,
   "metadata": {},
   "outputs": [],
   "source": []
  },
  {
   "cell_type": "code",
   "execution_count": null,
   "metadata": {},
   "outputs": [],
   "source": []
  },
  {
   "cell_type": "code",
   "execution_count": 32,
   "metadata": {},
   "outputs": [
    {
     "name": "stdout",
     "output_type": "stream",
     "text": [
      "Wonder Boy is here!\n",
      "Wonder Boy is here!\n",
      "Wonder Boy is here!\n",
      "Wonder Boy is here!\n",
      "Wonder Boy is here!\n",
      "Wonder Boy is here!\n",
      "Wonder Boy is here!\n",
      "Wonder Boy is here!\n",
      "Wonder Boy is here!\n"
     ]
    }
   ],
   "source": [
    "for x in range(1,10):\n",
    "    print(\"Wonder Boy is here!\")"
   ]
  },
  {
   "cell_type": "code",
   "execution_count": null,
   "metadata": {},
   "outputs": [],
   "source": []
  },
  {
   "cell_type": "code",
   "execution_count": 33,
   "metadata": {},
   "outputs": [
    {
     "data": {
      "text/plain": [
       "range(1, 10)"
      ]
     },
     "execution_count": 33,
     "metadata": {},
     "output_type": "execute_result"
    }
   ],
   "source": [
    "range(1, 10, 1)"
   ]
  },
  {
   "cell_type": "code",
   "execution_count": null,
   "metadata": {},
   "outputs": [],
   "source": []
  },
  {
   "cell_type": "code",
   "execution_count": 34,
   "metadata": {},
   "outputs": [
    {
     "name": "stdout",
     "output_type": "stream",
     "text": [
      "I owe, I owe, so off to work I go.\n",
      "I owe, I owe, so off to work I go.\n",
      "I owe, I owe, so off to work I go.\n",
      "I owe, I owe, so off to work I go.\n",
      "I owe, I owe, so off to work I go.\n",
      "I owe, I owe, so off to work I go.\n",
      "I owe, I owe, so off to work I go.\n",
      "I owe, I owe, so off to work I go.\n",
      "I owe, I owe, so off to work I go.\n",
      "I owe, I owe, so off to work I go.\n"
     ]
    }
   ],
   "source": [
    "salary = 0\n",
    "while salary < 10:\n",
    "    print(\"I owe, I owe, so off to work I go.\")\n",
    "    salary = salary +1"
   ]
  },
  {
   "cell_type": "code",
   "execution_count": null,
   "metadata": {},
   "outputs": [],
   "source": []
  },
  {
   "cell_type": "code",
   "execution_count": 3,
   "metadata": {
    "scrolled": false
   },
   "outputs": [
    {
     "name": "stdout",
     "output_type": "stream",
     "text": [
      "You down with L-O-O-P?\n",
      "Yeah, you know me!\n",
      "You down with L-O-O-P?\n",
      "Yeah, you know me!\n",
      "You down with L-O-O-P?\n",
      "Yeah, you know me!\n",
      "You down with L-O-O-P?\n",
      "Yeah, you know me!\n",
      "You down with L-O-O-P?\n",
      "Yeah, you know me!\n",
      "You down with L-O-O-P?\n",
      "Yeah, you know me!\n",
      "You down with L-O-O-P?\n",
      "Yeah, you know me!\n",
      "You down with L-O-O-P?\n",
      "Yeah, you know me!\n",
      "You down with L-O-O-P?\n",
      "Yeah, you know me!\n",
      "You down with L-O-O-P?\n",
      "Yeah, you know me!\n"
     ]
    }
   ],
   "source": [
    "count = 0\n",
    "x = 0\n",
    "while x == 0:\n",
    "    print(\"You down with L-O-O-P?\")\n",
    "    print(\"Yeah, you know me!\")\n",
    "    count += 1\n",
    "    if count == 10 :\n",
    "        break"
   ]
  },
  {
   "cell_type": "code",
   "execution_count": null,
   "metadata": {},
   "outputs": [],
   "source": []
  },
  {
   "cell_type": "code",
   "execution_count": 36,
   "metadata": {},
   "outputs": [
    {
     "name": "stdout",
     "output_type": "stream",
     "text": [
      "wonder boy\n"
     ]
    }
   ],
   "source": [
    "name = \"Wonder Boy\"\n",
    "print(name.lower())"
   ]
  },
  {
   "cell_type": "code",
   "execution_count": null,
   "metadata": {},
   "outputs": [],
   "source": []
  },
  {
   "cell_type": "code",
   "execution_count": 37,
   "metadata": {},
   "outputs": [
    {
     "name": "stdout",
     "output_type": "stream",
     "text": [
      "WONDER BOY\n"
     ]
    }
   ],
   "source": [
    "name = \"wonder boy\"\n",
    "print(name.upper())"
   ]
  },
  {
   "cell_type": "code",
   "execution_count": null,
   "metadata": {},
   "outputs": [],
   "source": []
  }
 ],
 "metadata": {
  "kernelspec": {
   "display_name": "Python 3",
   "language": "python",
   "name": "python3"
  },
  "language_info": {
   "codemirror_mode": {
    "name": "ipython",
    "version": 3
   },
   "file_extension": ".py",
   "mimetype": "text/x-python",
   "name": "python",
   "nbconvert_exporter": "python",
   "pygments_lexer": "ipython3",
   "version": "3.7.7"
  }
 },
 "nbformat": 4,
 "nbformat_minor": 4
}
