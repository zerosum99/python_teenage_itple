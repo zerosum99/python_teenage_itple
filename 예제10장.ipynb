{
 "cells": [
  {
   "cell_type": "code",
   "execution_count": 1,
   "metadata": {},
   "outputs": [
    {
     "data": {
      "text/plain": [
       "'C:\\\\Users\\\\dahlmoon\\\\Documents\\\\GitHub\\\\python_book\\\\책쓰기_토마토\\\\2020년\\\\10대 파이썬_번역\\\\실습'"
      ]
     },
     "execution_count": 1,
     "metadata": {},
     "output_type": "execute_result"
    }
   ],
   "source": [
    "%pwd"
   ]
  },
  {
   "cell_type": "code",
   "execution_count": 2,
   "metadata": {},
   "outputs": [
    {
     "name": "stdout",
     "output_type": "stream",
     "text": [
      " C 드라이브의 볼륨: Windows\n",
      " 볼륨 일련 번호: 5A74-C7D6\n",
      "\n",
      " C:\\Users\\dahlmoon\\Documents\\GitHub\\python_book\\책쓰기_토마토\\2020년\\10대 파이썬_번역\\실습 디렉터리\n",
      "\n",
      "2020-08-03  오후 07:39    <DIR>          .\n",
      "2020-08-03  오후 07:39    <DIR>          ..\n",
      "2020-08-03  오후 07:39             6,148 .DS_Store\n",
      "2020-08-03  오후 07:39    <DIR>          .ipynb_checkpoints\n",
      "2020-08-03  오후 07:39    <DIR>          __pycache__\n",
      "2020-08-01  오후 11:53               445 BooleanExamples.py\n",
      "2020-08-01  오후 11:46               869 ConditionalStatements.py\n",
      "2020-07-17  오후 01:47               103 CreatedFile.txt\n",
      "2020-08-01  오후 11:51               400 MathIsHard.py\n",
      "2020-07-17  오후 01:56                23 newTest.txt\n",
      "2020-08-03  오후 07:39               127 ourFirstModule.py\n",
      "2020-08-03  오후 07:39               524 ourFirstModule1.py\n",
      "2020-08-03  오후 07:39               270 printDocumentation.py\n",
      "2020-08-03  오후 07:39               735 SuperHeroClass.py\n",
      "2020-08-03  오후 07:39               292 testingModule.py\n",
      "2020-08-01  오후 05:26                31 VariableChange.py\n",
      "2020-08-01  오후 05:21                50 VariableTest.py\n",
      "2020-07-17  오후 01:57             1,553 WorkingWithDirectories.py\n",
      "2020-08-01  오후 01:47            46,574 다운로드.JPG\n",
      "2020-08-01  오후 02:20            69,647 다운로드0.JPG\n",
      "2020-08-01  오후 01:48            12,941 다운로드주소.JPG\n",
      "2020-08-01  오후 01:45            35,675 설치1.JPG\n",
      "2020-08-01  오후 01:45            27,941 설치2.JPG\n",
      "2020-08-01  오후 01:49            37,402 설치3.JPG\n",
      "2020-08-01  오후 01:49            46,027 설치4.JPG\n",
      "2020-08-01  오후 01:50            56,555 설치5.JPG\n",
      "2020-08-01  오후 01:50            36,514 설치6.JPG\n",
      "2020-08-01  오후 01:50            37,283 설치7.JPG\n",
      "2020-08-01  오후 01:51            45,616 실행1.JPG\n",
      "2020-08-03  오후 07:39            34,305 예제10장.ipynb\n",
      "2020-07-17  오후 03:10            27,048 예제11장.ipynb\n",
      "2020-07-17  오후 04:49            13,188 예제12장.ipynb\n",
      "2020-07-17  오후 03:38            14,645 예제13장.ipynb\n",
      "2020-08-03  오후 07:39             2,188 예제1장.ipynb\n",
      "2020-08-03  오후 07:39            14,527 예제2장.ipynb\n",
      "2020-08-03  오후 07:39            26,778 예제3장.ipynb\n",
      "2020-08-03  오후 07:39            23,191 예제4장.ipynb\n",
      "2020-08-02  오후 12:57        16,303,293 예제5장.ipynb\n",
      "2020-08-03  오후 07:39            22,274 예제6장.ipynb\n",
      "2020-08-03  오후 07:39           425,025 예제7장.ipynb\n",
      "2020-08-03  오후 07:39            40,470 예제8장.ipynb\n",
      "2020-08-02  오후 07:59            36,598 예제9장.ipynb\n",
      "2020-07-17  오후 02:33    <DIR>          이미지\n",
      "2020-07-17  오후 03:39             7,116 파이게임테스트.ipynb\n",
      "              39개 파일          17,454,391 바이트\n",
      "               5개 디렉터리  388,428,500,992 바이트 남음\n"
     ]
    }
   ],
   "source": [
    "%ls"
   ]
  },
  {
   "cell_type": "code",
   "execution_count": null,
   "metadata": {},
   "outputs": [],
   "source": []
  },
  {
   "cell_type": "code",
   "execution_count": 8,
   "metadata": {},
   "outputs": [],
   "source": [
    "# open 함수를 사용해서 빈 텍스트 파일을 만듭니다. \n",
    "# 빈 파일을 만들어서 작성할 때는 mode='w' 로 지정합니다\n",
    "newFile = open(\"CreatedFile.txt\", mode ='w')\n",
    "#  만들어진 파일에 하나의 문장을 작성합니다.\n",
    "newFile.write(\"파이썬 파일을 하나 만듭니다. \")\n",
    "# 파일 만들기가 완료되면 파일을 닫아야 합니다.\n",
    "newFile.close()"
   ]
  },
  {
   "cell_type": "code",
   "execution_count": null,
   "metadata": {},
   "outputs": [],
   "source": []
  },
  {
   "cell_type": "code",
   "execution_count": null,
   "metadata": {},
   "outputs": [],
   "source": [
    "newFile = open(\"CreatedFile.txt\", mode ='w')"
   ]
  },
  {
   "cell_type": "code",
   "execution_count": null,
   "metadata": {},
   "outputs": [],
   "source": []
  },
  {
   "cell_type": "code",
   "execution_count": null,
   "metadata": {},
   "outputs": [],
   "source": [
    "newFile = open(\"CreatedFile.txt\", mode ='x')"
   ]
  },
  {
   "cell_type": "code",
   "execution_count": null,
   "metadata": {},
   "outputs": [],
   "source": []
  },
  {
   "cell_type": "code",
   "execution_count": null,
   "metadata": {},
   "outputs": [],
   "source": [
    "newFile.write(\"파이썬 파일을 하나 만듭니다. \")"
   ]
  },
  {
   "cell_type": "code",
   "execution_count": null,
   "metadata": {},
   "outputs": [],
   "source": []
  },
  {
   "cell_type": "code",
   "execution_count": null,
   "metadata": {},
   "outputs": [],
   "source": [
    "newFile.close()"
   ]
  },
  {
   "cell_type": "code",
   "execution_count": null,
   "metadata": {},
   "outputs": [],
   "source": []
  },
  {
   "cell_type": "code",
   "execution_count": null,
   "metadata": {},
   "outputs": [],
   "source": []
  },
  {
   "cell_type": "code",
   "execution_count": 10,
   "metadata": {},
   "outputs": [
    {
     "name": "stdout",
     "output_type": "stream",
     "text": [
      "파이썬 파일을 하나 만듭니다. \n"
     ]
    }
   ],
   "source": [
    "# CreatedFile.txt 파일을 읽습니다. \n",
    "read_me_seymour = open(\"CreatedFile.txt\", mode='r')\n",
    "\n",
    "# 파일을 전체를 읽습니다.\n",
    "print(read_me_seymour.read())"
   ]
  },
  {
   "cell_type": "code",
   "execution_count": null,
   "metadata": {},
   "outputs": [],
   "source": []
  },
  {
   "cell_type": "code",
   "execution_count": 11,
   "metadata": {},
   "outputs": [
    {
     "name": "stdout",
     "output_type": "stream",
     "text": [
      "파이썬 첫번째 문장을 작성합니다.!파이썬 두번째 문장을 작성합니다!\n"
     ]
    }
   ],
   "source": [
    "# 다시 파일을 작성하기 위한 오픈합니다.\n",
    "newFile = open(\"CreatedFile.txt\", 'w')\n",
    "\n",
    "# 이번에는 두 문장을 작성합니다.\n",
    "newFile.write(\"파이썬 첫번째 문장을 작성합니다.!\")\n",
    "newFile.write(\"파이썬 두번째 문장을 작성합니다!\")\n",
    "# 파일을 닫습니다.\n",
    "newFile.close()\n",
    "\n",
    "# 파일을 사용하기 위해 오픈합니다\n",
    "read_me_seymour = open(\"CreatedFile.txt\", 'r')\n",
    "# 파일내의 모든 문장을 읽고 출력합니다. \n",
    "print(read_me_seymour.read())\n",
    "# 다 사용하면 파일을 닫습니다.\n",
    "read_me_seymour.close()"
   ]
  },
  {
   "cell_type": "code",
   "execution_count": null,
   "metadata": {},
   "outputs": [],
   "source": []
  },
  {
   "cell_type": "code",
   "execution_count": 12,
   "metadata": {},
   "outputs": [
    {
     "name": "stdout",
     "output_type": "stream",
     "text": [
      "파이썬 첫번째 문장을 작성합니다.!\n",
      "파이썬 두번째 문장을 작성합니다!\n",
      "\n"
     ]
    }
   ],
   "source": [
    "# 다시 파일을 작성하기 위한 오픈합니다.\n",
    "newFile = open(\"CreatedFile.txt\", 'w')\n",
    "\n",
    "# 이번에는 두 문장을 작성합니다.\n",
    "newFile.write(\"파이썬 첫번째 문장을 작성합니다.!\\n\")\n",
    "newFile.write(\"파이썬 두번째 문장을 작성합니다!\\n\")\n",
    "# 파일을 닫습니다.\n",
    "newFile.close()\n",
    "\n",
    "# 파일을 사용하기 위해 오픈합니다\n",
    "read_me_seymour = open(\"CreatedFile.txt\", 'r')\n",
    "# 파일내의 모든 문장을 읽고 출력합니다. \n",
    "print(read_me_seymour.read())\n",
    "# 다 사용하면 파일을 닫습니다.\n",
    "read_me_seymour.close()"
   ]
  },
  {
   "cell_type": "code",
   "execution_count": null,
   "metadata": {},
   "outputs": [],
   "source": []
  },
  {
   "cell_type": "code",
   "execution_count": null,
   "metadata": {},
   "outputs": [],
   "source": []
  },
  {
   "cell_type": "code",
   "execution_count": 16,
   "metadata": {},
   "outputs": [
    {
     "name": "stdout",
     "output_type": "stream",
     "text": [
      "파이썬 첫번째 문장을 작성합니다.!\n",
      "파이썬 두번째 문장을 작성합니다!\n",
      "\n"
     ]
    }
   ],
   "source": [
    "read_me_seymour = open(\"CreatedFile.txt\", 'r')\n",
    "# 한줄 단위로 읽습니다.\n",
    "print(read_me_seymour.readline(), end=\"\")\n",
    "print(read_me_seymour.readline())\n",
    "read_me_seymour.close()"
   ]
  },
  {
   "cell_type": "code",
   "execution_count": null,
   "metadata": {},
   "outputs": [],
   "source": []
  },
  {
   "cell_type": "code",
   "execution_count": 17,
   "metadata": {},
   "outputs": [
    {
     "name": "stdout",
     "output_type": "stream",
     "text": [
      "['파이썬 첫번째 문장을 작성합니다.!\\n', '파이썬 두번째 문장을 작성합니다!\\n']\n"
     ]
    }
   ],
   "source": [
    "read_me_seymour = open(\"CreatedFile.txt\", 'r')\n",
    "# 여러 줄을 한꺼번에 읽습니다.\n",
    "print(read_me_seymour.readlines())\n",
    "read_me_seymour.close()"
   ]
  },
  {
   "cell_type": "code",
   "execution_count": null,
   "metadata": {},
   "outputs": [],
   "source": []
  },
  {
   "cell_type": "code",
   "execution_count": null,
   "metadata": {},
   "outputs": [],
   "source": []
  },
  {
   "cell_type": "code",
   "execution_count": 13,
   "metadata": {},
   "outputs": [
    {
     "name": "stdout",
     "output_type": "stream",
     "text": [
      "파이썬 첫번째 문장을 작성합니다.!\n",
      "파이썬 두번째 문장을 작성합니다!\n"
     ]
    }
   ],
   "source": [
    "read_me_seymour = open(\"CreatedFile.txt\", 'r')\n",
    "# 여러 줄을 한꺼번에 읽고 하나씩 순환하면서 출력합니다.\n",
    "for i in read_me_seymour.readlines() :\n",
    "    print(i, end=\"\") "
   ]
  },
  {
   "cell_type": "code",
   "execution_count": null,
   "metadata": {},
   "outputs": [],
   "source": []
  },
  {
   "cell_type": "code",
   "execution_count": 18,
   "metadata": {},
   "outputs": [
    {
     "name": "stdout",
     "output_type": "stream",
     "text": [
      "파이썬 첫번째 문장을 작성합니다.!\n",
      "파이썬 두번째 문장을 작성합니다!\n",
      "세번째 문장을 작성합니다!"
     ]
    }
   ],
   "source": [
    "# 다시 파일을 오픈합니다.\n",
    "addingToFile = open(\"CreatedFile.txt\", mode='a')\n",
    "# 기존 파일의 끝에 문장을 추가합니다.\n",
    "addingToFile.write(\"세번째 문장을 작성합니다!\")\n",
    "# 파일을 닫습니다. \n",
    "addingToFile.close()\n",
    "\n",
    "# 다시 오픈하고 읽습니다.\n",
    "appendedFile = open(\"CreatedFile.txt\", 'r')\n",
    "for i in appendedFile.readlines() :\n",
    "    print(i, end=\"\") "
   ]
  },
  {
   "cell_type": "code",
   "execution_count": null,
   "metadata": {},
   "outputs": [],
   "source": []
  },
  {
   "cell_type": "code",
   "execution_count": null,
   "metadata": {},
   "outputs": [],
   "source": []
  },
  {
   "cell_type": "code",
   "execution_count": 19,
   "metadata": {},
   "outputs": [
    {
     "data": {
      "text/plain": [
       "'C:\\\\Users\\\\dahlmoon\\\\Documents\\\\GitHub\\\\python_book\\\\책쓰기_토마토\\\\2020년\\\\10대 파이썬_번역\\\\실습'"
      ]
     },
     "execution_count": 19,
     "metadata": {},
     "output_type": "execute_result"
    }
   ],
   "source": [
    "# 오퍼레이팅 시스템을 접근할 수 있는 모듈을 import 합니다.\n",
    "import os\n",
    "# 현재 디렉토리를 조회합니다.\n",
    "os.getcwd()\n"
   ]
  },
  {
   "cell_type": "code",
   "execution_count": null,
   "metadata": {},
   "outputs": [],
   "source": []
  },
  {
   "cell_type": "code",
   "execution_count": 21,
   "metadata": {},
   "outputs": [],
   "source": [
    "# 새로운 디렉토리를 만듭니다.\n",
    "os.mkdir(\"새디렉토리\")"
   ]
  },
  {
   "cell_type": "code",
   "execution_count": null,
   "metadata": {},
   "outputs": [],
   "source": []
  },
  {
   "cell_type": "code",
   "execution_count": 26,
   "metadata": {},
   "outputs": [
    {
     "name": "stdout",
     "output_type": "stream",
     "text": [
      " C 드라이브의 볼륨: Windows\n",
      " 볼륨 일련 번호: 5A74-C7D6\n",
      "\n",
      " C:\\Users\\dahlmoon\\Documents\\GitHub\\python_book\\책쓰기_토마토\\2020년\\10대 파이썬_번역\\실습\\새디렉토리 디렉터리\n",
      "\n",
      "2020-08-03  오후 08:27    <DIR>          .\n",
      "2020-08-03  오후 08:27    <DIR>          ..\n",
      "               0개 파일                   0 바이트\n",
      "               2개 디렉터리  388,312,989,696 바이트 남음\n"
     ]
    }
   ],
   "source": [
    "%ls 새디렉토리"
   ]
  },
  {
   "cell_type": "code",
   "execution_count": null,
   "metadata": {},
   "outputs": [],
   "source": []
  },
  {
   "cell_type": "code",
   "execution_count": 27,
   "metadata": {},
   "outputs": [
    {
     "ename": "FileExistsError",
     "evalue": "[WinError 183] 파일이 이미 있으므로 만들 수 없습니다: '새디렉토리'",
     "output_type": "error",
     "traceback": [
      "\u001b[1;31m---------------------------------------------------------------------------\u001b[0m",
      "\u001b[1;31mFileExistsError\u001b[0m                           Traceback (most recent call last)",
      "\u001b[1;32m<ipython-input-27-e3ae2e1b9e9c>\u001b[0m in \u001b[0;36m<module>\u001b[1;34m\u001b[0m\n\u001b[0;32m      1\u001b[0m \u001b[1;31m# 새로운 디렉토리를 만듭니다.\u001b[0m\u001b[1;33m\u001b[0m\u001b[1;33m\u001b[0m\u001b[1;33m\u001b[0m\u001b[0m\n\u001b[1;32m----> 2\u001b[1;33m \u001b[0mos\u001b[0m\u001b[1;33m.\u001b[0m\u001b[0mmkdir\u001b[0m\u001b[1;33m(\u001b[0m\u001b[1;34m\"새디렉토리\"\u001b[0m\u001b[1;33m)\u001b[0m\u001b[1;33m\u001b[0m\u001b[1;33m\u001b[0m\u001b[0m\n\u001b[0m",
      "\u001b[1;31mFileExistsError\u001b[0m: [WinError 183] 파일이 이미 있으므로 만들 수 없습니다: '새디렉토리'"
     ]
    }
   ],
   "source": [
    "# 동일한 이름으로 디렉토리 만들기 \n",
    "os.mkdir(\"새디렉토리\")"
   ]
  },
  {
   "cell_type": "code",
   "execution_count": null,
   "metadata": {},
   "outputs": [],
   "source": []
  },
  {
   "cell_type": "code",
   "execution_count": 29,
   "metadata": {},
   "outputs": [],
   "source": [
    "import os\n",
    "# 현재 디렉토리를 변수에 저장한다.\n",
    "path = os.getcwd()"
   ]
  },
  {
   "cell_type": "code",
   "execution_count": 32,
   "metadata": {},
   "outputs": [
    {
     "name": "stdout",
     "output_type": "stream",
     "text": [
      "C:\\Users\\dahlmoon\\Documents\\GitHub\\python_book\\책쓰기_토마토\\2020년\\10대 파이썬_번역\\실습\\새디렉토리\n"
     ]
    }
   ],
   "source": [
    "# 새로 만들어진 디렉토리로 이동한다.\n",
    "os.chdir(path + \"\\\\새디렉토리\")\n",
    "print(os.getcwd())"
   ]
  },
  {
   "cell_type": "code",
   "execution_count": null,
   "metadata": {},
   "outputs": [],
   "source": []
  },
  {
   "cell_type": "code",
   "execution_count": 33,
   "metadata": {},
   "outputs": [
    {
     "name": "stdout",
     "output_type": "stream",
     "text": [
      "기존 디렉토리로 이동 \n",
      "C:\\Users\\dahlmoon\\Documents\\GitHub\\python_book\\책쓰기_토마토\\2020년\\10대 파이썬_번역\\실습\n"
     ]
    }
   ],
   "source": [
    "# 기존 디렉토리로 이동 \n",
    "print(\"기존 디렉토리로 이동 \")\n",
    "os.chdir(path)\n",
    "print(os.getcwd())"
   ]
  },
  {
   "cell_type": "code",
   "execution_count": null,
   "metadata": {},
   "outputs": [],
   "source": []
  },
  {
   "cell_type": "code",
   "execution_count": 34,
   "metadata": {},
   "outputs": [],
   "source": [
    "# 디렉토리 삭제하기\n",
    "os.rmdir('새디렉토리')\n"
   ]
  },
  {
   "cell_type": "code",
   "execution_count": null,
   "metadata": {},
   "outputs": [],
   "source": []
  },
  {
   "cell_type": "code",
   "execution_count": 35,
   "metadata": {},
   "outputs": [
    {
     "name": "stdout",
     "output_type": "stream",
     "text": [
      " C 드라이브의 볼륨: Windows\n",
      " 볼륨 일련 번호: 5A74-C7D6\n",
      "\n",
      " C:\\Users\\dahlmoon\\Documents\\GitHub\\python_book\\책쓰기_토마토\\2020년\\10대 파이썬_번역\\실습 디렉터리\n",
      "\n"
     ]
    },
    {
     "name": "stderr",
     "output_type": "stream",
     "text": [
      "파일을 찾을 수 없습니다.\n"
     ]
    }
   ],
   "source": [
    "%ls 새디렉토리"
   ]
  },
  {
   "cell_type": "code",
   "execution_count": null,
   "metadata": {},
   "outputs": [],
   "source": []
  },
  {
   "cell_type": "code",
   "execution_count": 36,
   "metadata": {},
   "outputs": [
    {
     "name": "stdout",
     "output_type": "stream",
     "text": [
      "Writing test.txt\n"
     ]
    }
   ],
   "source": [
    "%%writefile test.txt\n",
    "##테스트 처리용"
   ]
  },
  {
   "cell_type": "code",
   "execution_count": null,
   "metadata": {},
   "outputs": [],
   "source": []
  },
  {
   "cell_type": "code",
   "execution_count": 38,
   "metadata": {},
   "outputs": [],
   "source": [
    "import os\n",
    "# 파일을 삭제합니다.\n",
    "os.remove('test.txt')\n"
   ]
  },
  {
   "cell_type": "code",
   "execution_count": null,
   "metadata": {},
   "outputs": [],
   "source": []
  },
  {
   "cell_type": "code",
   "execution_count": 39,
   "metadata": {},
   "outputs": [
    {
     "name": "stdout",
     "output_type": "stream",
     "text": [
      " C 드라이브의 볼륨: Windows\n",
      " 볼륨 일련 번호: 5A74-C7D6\n",
      "\n",
      " C:\\Users\\dahlmoon\\Documents\\GitHub\\python_book\\책쓰기_토마토\\2020년\\10대 파이썬_번역\\실습 디렉터리\n",
      "\n",
      "2020-08-03  오후 08:18                94 CreatedFile.txt\n",
      "               1개 파일                  94 바이트\n",
      "               0개 디렉터리  388,282,204,160 바이트 남음\n"
     ]
    }
   ],
   "source": [
    "%ls  *.txt"
   ]
  },
  {
   "cell_type": "code",
   "execution_count": null,
   "metadata": {},
   "outputs": [],
   "source": []
  },
  {
   "cell_type": "code",
   "execution_count": 40,
   "metadata": {},
   "outputs": [
    {
     "name": "stdout",
     "output_type": "stream",
     "text": [
      "Writing test2.txt\n"
     ]
    }
   ],
   "source": [
    "%%writefile test2.txt\n",
    "##테스트 처리용"
   ]
  },
  {
   "cell_type": "code",
   "execution_count": 41,
   "metadata": {},
   "outputs": [],
   "source": [
    "import os\n",
    "# 기존 파일의 이름을 변경합니다.\n",
    "os.rename('test2.txt', 'newTest.txt')\n"
   ]
  },
  {
   "cell_type": "code",
   "execution_count": 2,
   "metadata": {},
   "outputs": [
    {
     "name": "stdout",
     "output_type": "stream",
     "text": [
      " C 드라이브의 볼륨: Windows\n",
      " 볼륨 일련 번호: 5A74-C7D6\n",
      "\n",
      " C:\\Users\\dahlmoon\\Documents\\GitHub\\python_book\\책쓰기_토마토\\2020년\\10대 파이썬_번역\\실습 디렉터리\n",
      "\n",
      "2020-08-20  오후 08:07                63 context.txt\n",
      "2020-08-20  오후 08:07                94 CreatedFile.txt\n",
      "2020-08-20  오후 08:07                23 newTest.txt\n",
      "               3개 파일                 180 바이트\n",
      "               0개 디렉터리  388,080,328,704 바이트 남음\n"
     ]
    }
   ],
   "source": [
    "%ls *.txt"
   ]
  },
  {
   "cell_type": "code",
   "execution_count": null,
   "metadata": {},
   "outputs": [],
   "source": []
  },
  {
   "cell_type": "code",
   "execution_count": null,
   "metadata": {},
   "outputs": [],
   "source": []
  },
  {
   "cell_type": "code",
   "execution_count": null,
   "metadata": {},
   "outputs": [],
   "source": []
  },
  {
   "cell_type": "code",
   "execution_count": null,
   "metadata": {},
   "outputs": [],
   "source": []
  },
  {
   "cell_type": "code",
   "execution_count": 2,
   "metadata": {},
   "outputs": [],
   "source": [
    "with open(\"context.txt\", 'w') as file :\n",
    "    for x in range(3) :\n",
    "        file.write(f\" {x} 번째 문장입니다.\\n\")"
   ]
  },
  {
   "cell_type": "code",
   "execution_count": null,
   "metadata": {},
   "outputs": [],
   "source": []
  },
  {
   "cell_type": "code",
   "execution_count": 3,
   "metadata": {},
   "outputs": [
    {
     "name": "stdout",
     "output_type": "stream",
     "text": [
      " 0 번째 문장입니다.\n",
      " 1 번째 문장입니다.\n",
      " 2 번째 문장입니다.\n"
     ]
    }
   ],
   "source": [
    "with open(\"context.txt\", 'r') as file :\n",
    "    for x in range(3) :\n",
    "        print(file.readline(), end='')"
   ]
  },
  {
   "cell_type": "code",
   "execution_count": null,
   "metadata": {},
   "outputs": [],
   "source": []
  },
  {
   "cell_type": "code",
   "execution_count": 4,
   "metadata": {},
   "outputs": [
    {
     "name": "stdout",
     "output_type": "stream",
     "text": [
      " 0 번째 문장입니다.\n",
      " 1 번째 문장입니다.\n",
      " 2 번째 문장입니다.\n"
     ]
    }
   ],
   "source": [
    "for x in open(\"context.txt\", 'r')  :\n",
    "    print(x, end='')"
   ]
  },
  {
   "cell_type": "code",
   "execution_count": null,
   "metadata": {},
   "outputs": [],
   "source": []
  }
 ],
 "metadata": {
  "kernelspec": {
   "display_name": "Python 3",
   "language": "python",
   "name": "python3"
  },
  "language_info": {
   "codemirror_mode": {
    "name": "ipython",
    "version": 3
   },
   "file_extension": ".py",
   "mimetype": "text/x-python",
   "name": "python",
   "nbconvert_exporter": "python",
   "pygments_lexer": "ipython3",
   "version": "3.7.7"
  }
 },
 "nbformat": 4,
 "nbformat_minor": 4
}
