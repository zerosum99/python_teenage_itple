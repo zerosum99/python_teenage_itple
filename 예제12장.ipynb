{
 "cells": [
  {
   "cell_type": "code",
   "execution_count": null,
   "metadata": {},
   "outputs": [],
   "source": []
  },
  {
   "cell_type": "code",
   "execution_count": null,
   "metadata": {},
   "outputs": [],
   "source": [
    "import pygame\n",
    "from pygame.locals import *\n",
    "import sys\n",
    "import random\n",
    "\n",
    "pygame.init()\n",
    "\n",
    "colorWHITE = (255,255,255)\n",
    "colorBLACK = (0,0,0)\n",
    "colorRED = (255,0,0)\n",
    "\n",
    "gameWindow = pygame.display.set_mode((800,600))\n",
    "pygame.display.set_caption('Box Animator 5000')"
   ]
  },
  {
   "cell_type": "code",
   "execution_count": null,
   "metadata": {},
   "outputs": [],
   "source": []
  },
  {
   "cell_type": "code",
   "execution_count": null,
   "metadata": {},
   "outputs": [],
   "source": [
    "gameQuit = False\n",
    "move_x = 300\n",
    "move_y = 300\n"
   ]
  },
  {
   "cell_type": "code",
   "execution_count": null,
   "metadata": {},
   "outputs": [],
   "source": []
  },
  {
   "cell_type": "code",
   "execution_count": null,
   "metadata": {},
   "outputs": [],
   "source": [
    "while not gameQuit:\n",
    "    for event in pygame.event.get():\n",
    "        if event.type == pygame.QUIT:\n",
    "            gameQuit = True\n",
    "            pygame.quit()\n",
    "            sys.exit()\n",
    " \n",
    "        if event.type == pygame.KEYDOWN:\n",
    "            if event.key == pygame.K_q:\n",
    "                pygame.quit()\n",
    "                sys.exit()\n",
    " \n",
    "        if event.type == pygame.KEYDOWN:\n",
    "            if event.key == pygame.K_ESCAPE:\n",
    "                pygame.quit()\n",
    "                sys.exit()\n",
    " \n",
    "        if event.type == pygame.KEYDOWN:\n",
    "            \n",
    "            #  좌측으로 이동할 때 10씩 빼준다 \n",
    "            if event.key == pygame.K_LEFT:\n",
    "                move_x -= 10\n",
    " \n",
    "            # 우측으로 이동할 때는 10씩 증가한다.\n",
    "            if event.key == pygame.K_RIGHT:\n",
    "                move_x += 10\n",
    " \n",
    "        if event.type == pygame.KEYDOWN:\n",
    "            # 위로 이동할 대는 10씩 감소\n",
    "            if event.key == pygame.K_UP:\n",
    "                move_y -=10\n",
    " \n",
    "            # 아래로 이동할 때는 10씩 증가\n",
    "            if event.key == pygame.K_DOWN:\n",
    "                move_y +=10"
   ]
  },
  {
   "cell_type": "code",
   "execution_count": null,
   "metadata": {},
   "outputs": [],
   "source": []
  },
  {
   "cell_type": "code",
   "execution_count": null,
   "metadata": {},
   "outputs": [],
   "source": [
    "# 화면에 하얀색으로 채웁니다\n",
    "gameWindow.fill(colorWHITE)\n",
    "# 사각형을 이동한다\n",
    "pygame.draw.rect(gameWindow, colorBLACK, [move_x,move_y,50,50])\n",
    "# 화면을 갱신한다.\n",
    "pygame.display.update()"
   ]
  },
  {
   "cell_type": "code",
   "execution_count": null,
   "metadata": {},
   "outputs": [],
   "source": []
  },
  {
   "cell_type": "code",
   "execution_count": null,
   "metadata": {},
   "outputs": [],
   "source": [
    "# t 키보드를 누르면 임의의 좌표로 이동\n",
    "if event.type == pygame.KEYDOWN:\n",
    "    if event.key == pygame.K_t:\n",
    "        move_y = int(random.randint(1,600))\n",
    "        move_x = int(random.randint(1,600))"
   ]
  },
  {
   "cell_type": "code",
   "execution_count": null,
   "metadata": {},
   "outputs": [],
   "source": []
  },
  {
   "cell_type": "code",
   "execution_count": 2,
   "metadata": {},
   "outputs": [
    {
     "ename": "SystemExit",
     "evalue": "",
     "output_type": "error",
     "traceback": [
      "An exception has occurred, use %tb to see the full traceback.\n",
      "\u001b[1;31mSystemExit\u001b[0m\n"
     ]
    }
   ],
   "source": [
    "import pygame\n",
    "from pygame.locals import *\n",
    "import sys\n",
    "import random\n",
    "\n",
    "pygame.init()\n",
    "\n",
    "colorWHITE = (255,255,255)\n",
    "colorBLACK = (0,0,0)\n",
    "colorRED = (255,0,0)\n",
    "\n",
    "gameWindow = pygame.display.set_mode((800,600))\n",
    "pygame.display.set_caption('Box Animator 5000')\n",
    "\n",
    "gameQuit = False\n",
    "move_x = 300\n",
    "move_y = 300\n",
    "\n",
    "gameWindow.fill(colorWHITE)\n",
    "pygame.draw.rect(gameWindow, colorBLACK, [move_x,move_y,50,50])\n",
    "pygame.display.update()\n",
    "\n",
    "while not gameQuit:\n",
    "    for event in pygame.event.get():\n",
    "        if event.type == pygame.QUIT:\n",
    "            gameQuit = True\n",
    "            pygame.quit()\n",
    "            sys.exit()\n",
    " \n",
    "        if event.type == pygame.KEYDOWN:\n",
    "            if event.key == pygame.K_q:\n",
    "                pygame.quit()\n",
    "                sys.exit()\n",
    " \n",
    "        if event.type == pygame.KEYDOWN:\n",
    "            if event.key == pygame.K_ESCAPE:\n",
    "                pygame.quit()\n",
    "                sys.exit()\n",
    " \n",
    "        if event.type == pygame.KEYDOWN:\n",
    "            if event.key == pygame.K_LEFT:\n",
    "                move_x -= 10\n",
    "            if event.key == pygame.K_RIGHT:\n",
    "                move_x += 10\n",
    " \n",
    "        if event.type == pygame.KEYDOWN:\n",
    "            if event.key == pygame.K_UP:\n",
    "                move_y -=10\n",
    "            if event.key == pygame.K_DOWN:\n",
    "                move_y +=10\n",
    "\n",
    "        if event.type == pygame.KEYDOWN:\n",
    "            if event.key == pygame.K_t:\n",
    "                move_y = int(random.randint(1,600))\n",
    "                move_x = int(random.randint(1,600))\n",
    " \n",
    "    # 이벤트 발생할 때마다 변경 \n",
    "    gameWindow.fill(colorWHITE)\n",
    "    pygame.draw.rect(gameWindow, colorBLACK, [move_x,move_y,50,50])\n",
    "    pygame.display.update()\n"
   ]
  },
  {
   "cell_type": "code",
   "execution_count": null,
   "metadata": {},
   "outputs": [],
   "source": []
  },
  {
   "cell_type": "code",
   "execution_count": null,
   "metadata": {},
   "outputs": [],
   "source": [
    "# 오른쪽 경계에 충돌하면 값을 보여준다.\n",
    "if move_x > 750:\n",
    "    move_x -= 50\n",
    "    pygame.display.set_caption('Right Collision')\n",
    "    \n",
    "# 왼쪽 경계에 충돌하면 값을 보여준다.  \n",
    "if move_x < 1:\n",
    "    move_x += 50\n",
    "    pygame.display.set_caption('Left Collision')\n",
    "             \n",
    "# 아래의 경계와 충돌하면 값을 보여준다\n",
    "if move_y > 550:\n",
    "    move_y -= 50\n",
    "    pygame.display.set_caption('Bottom Collision')\n",
    "\n",
    "# 위의 경계와 충돌하면 값을 보여준다 \n",
    "if move_y < 1:\n",
    "    move_y += 50\n",
    "    pygame.display.set_caption('Top Collision')"
   ]
  },
  {
   "cell_type": "code",
   "execution_count": null,
   "metadata": {},
   "outputs": [],
   "source": []
  },
  {
   "cell_type": "code",
   "execution_count": 3,
   "metadata": {},
   "outputs": [
    {
     "ename": "SystemExit",
     "evalue": "",
     "output_type": "error",
     "traceback": [
      "An exception has occurred, use %tb to see the full traceback.\n",
      "\u001b[1;31mSystemExit\u001b[0m\n"
     ]
    }
   ],
   "source": [
    "import pygame\n",
    "from pygame.locals import *\n",
    "import sys\n",
    "import random\n",
    "\n",
    "pygame.init()\n",
    "\n",
    "colorWHITE = (255,255,255)\n",
    "colorBLACK = (0,0,0)\n",
    "colorRED = (255,0,0)\n",
    "\n",
    "gameWindow = pygame.display.set_mode((800,600))\n",
    "pygame.display.set_caption('Box Animator 5000')\n",
    "gameQuit = False\n",
    "move_x = 300\n",
    "move_y = 300\n",
    "\n",
    "while not gameQuit:\n",
    "    for event in pygame.event.get():\n",
    "        if event.type == pygame.QUIT:\n",
    "            gameQuit = True\n",
    "            pygame.quit()\n",
    "            sys.exit()\n",
    "        if event.type == pygame.KEYDOWN:\n",
    "            if event.key == pygame.K_q:\n",
    "                pygame.quit()\n",
    "                sys.exit()\n",
    "        if event.type == pygame.KEYDOWN:\n",
    "            if event.key == pygame.K_ESCAPE:\n",
    "                pygame.quit()\n",
    "                sys.exit()\n",
    "        if event.type == pygame.KEYDOWN:\n",
    "            if event.key == pygame.K_LEFT:\n",
    "                move_x -= 10\n",
    "            if event.key == pygame.K_RIGHT:\n",
    "                move_x += 10\n",
    "        if event.type == pygame.KEYDOWN:\n",
    "            if event.key == pygame.K_UP:\n",
    "                move_y -=10\n",
    "            if event.key == pygame.K_DOWN:\n",
    "                move_y +=10\n",
    "        if event.type == pygame.KEYDOWN:\n",
    "            if event.key == pygame.K_t:\n",
    "                move_y = int(random.randint(1,600))\n",
    "                move_x = int(random.randint(1,600))\n",
    "        # 오른쪽 경계에 충돌하면 값을 보여준다.\n",
    "        if move_x > 750:\n",
    "            move_x -= 50\n",
    "            pygame.display.set_caption('Right Collision')\n",
    "        # 왼쪽 경계에 충돌하면 값을 보여준다.  \n",
    "        if move_x < 1:\n",
    "            move_x += 50\n",
    "            pygame.display.set_caption('Left Collision')\n",
    "             \n",
    "        # 아래의 경계와 충돌하면 값을 보여준다\n",
    "        if move_y > 550:\n",
    "            move_y -= 50\n",
    "            pygame.display.set_caption('Bottom Collision')\n",
    "        # 위의 경계와 충돌하면 값을 보여준다 \n",
    "        if move_y < 1:\n",
    "            move_y += 50\n",
    "            pygame.display.set_caption('Top Collision')\n",
    "\n",
    "    gameWindow.fill(colorWHITE)\n",
    "    pygame.draw.rect(gameWindow, colorBLACK, [move_x,move_y,50,50])\n",
    "    pygame.display.update()\n"
   ]
  },
  {
   "cell_type": "code",
   "execution_count": null,
   "metadata": {},
   "outputs": [],
   "source": []
  },
  {
   "cell_type": "code",
   "execution_count": 5,
   "metadata": {},
   "outputs": [
    {
     "ename": "SystemExit",
     "evalue": "",
     "output_type": "error",
     "traceback": [
      "An exception has occurred, use %tb to see the full traceback.\n",
      "\u001b[1;31mSystemExit\u001b[0m\n"
     ]
    }
   ],
   "source": [
    "import pygame\n",
    "from pygame.locals import *\n",
    "import sys\n",
    "pygame.init()\n",
    "colorWHITE = (255,255,255)\n",
    "colorBLACK = (0,0,0)\n",
    "colorRED = (255,0,0)\n",
    "\n",
    "gameWindow = pygame.display.set_mode((800,600))\n",
    "pygame.display.set_caption('Colliding Objects')\n",
    "gameQuit = False\n",
    "\n",
    "rect1 = pygame.sprite.Sprite()\n",
    "rect1.rect = pygame.Rect(300,300,50,50)\n",
    "rect2 = pygame.sprite.Sprite()\n",
    "rect2.rect = pygame.Rect(100,100, 100,150)\n",
    "\n",
    "\n",
    "while not gameQuit:\n",
    "    for event in pygame.event.get():\n",
    "        if event.type == pygame.QUIT:\n",
    "            gameQuit = True\n",
    "            pygame.quit()\n",
    "            sys.exit()\n",
    " \n",
    "        if event.type == pygame.KEYDOWN:\n",
    "            if event.key == pygame.K_q:\n",
    "                pygame.quit()\n",
    "                sys.exit()\n",
    " \n",
    "        if event.type == pygame.KEYDOWN:\n",
    "            if event.key == pygame.K_ESCAPE:\n",
    "                pygame.quit()\n",
    "                sys.exit()\n",
    " \n",
    "        if event.type == pygame.KEYDOWN:\n",
    "            if event.key == pygame.K_LEFT:\n",
    "                rect1.rect.x = rect1.rect.x - 10\n",
    "            if event.key == pygame.K_RIGHT:\n",
    "                rect1.rect.x = rect1.rect.x +10\n",
    " \n",
    "   \n",
    "        if event.type == pygame.KEYDOWN:\n",
    "            if event.key == pygame.K_UP:\n",
    "                rect1.rect.y = rect1.rect.y -10\n",
    "            if event.key == pygame.K_DOWN:\n",
    "                rect1.rect.y = rect1.rect.y +10\n",
    "     \n",
    "         #두 rect 객체 사이의 충돌을 확인하기 collide_rect 사용\n",
    "         #충돌이 감지되면 rect1을 재배치합니다.\n",
    "        if pygame.sprite.collide_rect(rect1, rect2):\n",
    "            rect1.rect.y = 400\n",
    "            rect1.rect.x = 400     \n",
    "       # 오른쪽 화면 끝과 충돌하는지 확인\n",
    "        if rect1.rect.x > 750:\n",
    "            rect1.rect.x = 740\n",
    "            pygame.display.set_caption('Right Collision')\n",
    "        # 왼쪽 화면 끝과 충돌하는지 확인  \n",
    "        if rect1.rect.x < 1:\n",
    "            rect1.rect.x = 51\n",
    "            pygame.display.set_caption('Left Collision')\n",
    "        # 아래 화면 끝과 충돌하는지 확인\n",
    "        if rect1.rect.y > 550:\n",
    "            rect1.rect.y = 540\n",
    "            pygame.display.set_caption('Bottom Collision')\n",
    "        #  위 화면 끝과 충돌하즌지 확인\n",
    "        if rect1.rect.y < 1:\n",
    "            rect1.rect.y = 50\n",
    "            pygame.display.set_caption('Top Collision')\n",
    "\n",
    "    gameWindow.fill(colorWHITE)\n",
    "    pygame.draw.rect(gameWindow, colorBLACK, rect1)\n",
    "    pygame.draw.rect(gameWindow, colorRED, rect2)\n",
    "    pygame.display.update()\n"
   ]
  },
  {
   "cell_type": "code",
   "execution_count": null,
   "metadata": {},
   "outputs": [],
   "source": []
  },
  {
   "cell_type": "code",
   "execution_count": null,
   "metadata": {},
   "outputs": [],
   "source": [
    "rect1 = pygame.sprite.Sprite()\n",
    "rect1.rect = pygame.Rect(300,300,50,50)\n",
    "rect2 = pygame.sprite.Sprite()\n",
    "rect2.rect = pygame.Rect(100,100, 100,150)"
   ]
  },
  {
   "cell_type": "code",
   "execution_count": null,
   "metadata": {},
   "outputs": [],
   "source": []
  },
  {
   "cell_type": "code",
   "execution_count": null,
   "metadata": {},
   "outputs": [],
   "source": [
    "if event.type == pygame.KEYDOWN:\n",
    "    if event.key == pygame.K_LEFT:\n",
    "        rect1.rect.x = rect1.rect.x - 10"
   ]
  },
  {
   "cell_type": "code",
   "execution_count": null,
   "metadata": {},
   "outputs": [],
   "source": []
  },
  {
   "cell_type": "code",
   "execution_count": null,
   "metadata": {},
   "outputs": [],
   "source": [
    "rect1.rect.x = rect1.rect.x - 10"
   ]
  },
  {
   "cell_type": "code",
   "execution_count": null,
   "metadata": {},
   "outputs": [],
   "source": []
  },
  {
   "cell_type": "code",
   "execution_count": null,
   "metadata": {},
   "outputs": [],
   "source": [
    "#두 rect 객체 사이의 충돌을 확인하기 collide_rect 사용\n",
    "#충돌이 감지되면 rect1을 재배치합니다.\n",
    "if pygame.sprite.collide_rect(rect1, rect2):\n",
    "    rect1.rect.y = 400\n",
    "    rect1.rect.x = 400  "
   ]
  },
  {
   "cell_type": "code",
   "execution_count": null,
   "metadata": {},
   "outputs": [],
   "source": []
  },
  {
   "cell_type": "code",
   "execution_count": null,
   "metadata": {},
   "outputs": [],
   "source": [
    "# 오른쪽 화면 끝과 충돌하는지 확인\n",
    "if rect1.rect.x > 750:\n",
    "    rect1.rect.x = 740\n",
    "    pygame.display.set_caption('Right Collision')"
   ]
  },
  {
   "cell_type": "code",
   "execution_count": null,
   "metadata": {},
   "outputs": [],
   "source": []
  }
 ],
 "metadata": {
  "kernelspec": {
   "display_name": "Python 3",
   "language": "python",
   "name": "python3"
  },
  "language_info": {
   "codemirror_mode": {
    "name": "ipython",
    "version": 3
   },
   "file_extension": ".py",
   "mimetype": "text/x-python",
   "name": "python",
   "nbconvert_exporter": "python",
   "pygments_lexer": "ipython3",
   "version": "3.7.7"
  }
 },
 "nbformat": 4,
 "nbformat_minor": 4
}
